{
 "cells": [
  {
   "cell_type": "markdown",
   "metadata": {},
   "source": [
    "#### 자판에 글자 입력시 영어를 입력 해야 하는데 한글을 입력하는 경우 경고음 나게 하기\n",
    "- 자판에 자음이나 모음이 연달아 입력값으로 들어오면 경고음을 발생시키다."
   ]
  },
  {
   "cell_type": "markdown",
   "metadata": {},
   "source": []
  }
 ],
 "metadata": {
  "language_info": {
   "name": "python"
  }
 },
 "nbformat": 4,
 "nbformat_minor": 2
}
