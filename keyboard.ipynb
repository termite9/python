{
 "cells": [
  {
   "cell_type": "markdown",
   "metadata": {},
   "source": [
    "#### 자판에 글자 입력시 영어를 입력 해야 하는데 한글을 입력하는 경우 경고음 나게 하기\n",
    "- 자판에 자음이나 모음이 연달아 입력값으로 들어오면 경고음을 발생시키다."
   ]
  },
  {
   "cell_type": "markdown",
   "metadata": {},
   "source": []
  },
  {
   "cell_type": "code",
   "execution_count": null,
   "metadata": {},
   "outputs": [],
   "source": []
  },
  {
   "cell_type": "code",
   "execution_count": null,
   "metadata": {},
   "outputs": [],
   "source": [
    "import keyboard\n",
    "import pyperclip\n",
    "import re\n",
    "\n",
    "def is_invalid_hangul(s):\n",
    "    # 한글 자모음 조합이 올바른지 검사\n",
    "    hangul_pattern = re.compile(r'^[가-힣]*$')\n",
    "    return not bool(hangul_pattern.match(s))\n",
    "\n",
    "def hangul_to_english(hangul):\n",
    "    # 간단한 한글 영어 변환\n",
    "    conversion_map = {\n",
    "        '가': 'ka',\n",
    "        '나': 'na',\n",
    "        '다': 'da',\n",
    "        '라': 'ra',\n",
    "        # 다른 자모음에 대한 매핑 추가\n",
    "    }\n",
    "    return ''.join([conversion_map.get(char, char) for char in hangul])\n",
    "\n",
    "def play_warning_sound():\n",
    "    # 경고음 재생 코드\n",
    "    print(\"Warning: Invalid Hangul Input!\")\n",
    "\n",
    "def main():\n",
    "    keyboard.add_hotkey('ctrl+v', lambda: pyperclip.copy(hangul_to_english(pyperclip.paste())))\n",
    "    while True:\n",
    "        current_input = keyboard.read_event(suppress=True).name\n",
    "        if current_input == 'hangul':\n",
    "            hangul_input = keyboard.read_event(suppress=True).name\n",
    "            if is_invalid_hangul(hangul_input):\n",
    "                play_warning_sound()\n",
    "\n",
    "if __name__ == \"__main__\":\n",
    "    main()\n"
   ]
  },
  {
   "cell_type": "code",
   "execution_count": 12,
   "metadata": {},
   "outputs": [
    {
     "name": "stdout",
     "output_type": "stream",
     "text": [
      "키보드 아스키 코드 113(q)가 눌렸습니다.\n",
      "키보드 아스키 코드 113(q)가 눌렸습니다.\n",
      "키보드 아스키 코드 113(q)가 눌렸습니다.\n",
      "키보드 아스키 코드 113(q)가 눌렸습니다.\n",
      "키보드 아스키 코드 113(q)가 눌렸습니다.\n",
      "키보드 아스키 코드 113(q)가 눌렸습니다.\n",
      "키보드 아스키 코드 113(q)가 눌렸습니다.\n",
      "키보드 아스키 코드 113(q)가 눌렸습니다.\n",
      "키보드 아스키 코드 113(q)가 눌렸습니다.\n",
      "키보드 아스키 코드 113(q)가 눌렸습니다.\n"
     ]
    },
    {
     "name": "stderr",
     "output_type": "stream",
     "text": [
      "Traceback (most recent call last):\n",
      "  File \"c:\\Users\\고창섭\\AppData\\Local\\Programs\\Python\\Python312\\Lib\\site-packages\\keyboard\\_generic.py\", line 22, in invoke_handlers\n",
      "    if handler(event):\n",
      "       ^^^^^^^^^^^^^^\n",
      "  File \"C:\\Users\\고창섭\\AppData\\Local\\Temp\\ipykernel_11236\\4030405355.py\", line 6, in on_key_event\n",
      "    play_warning_sound()\n",
      "    ^^^^^^^^^^^^^^^^^^\n",
      "NameError: name 'play_warning_sound' is not defined\n",
      "Traceback (most recent call last):\n",
      "  File \"c:\\Users\\고창섭\\AppData\\Local\\Programs\\Python\\Python312\\Lib\\site-packages\\keyboard\\_generic.py\", line 22, in invoke_handlers\n",
      "    if handler(event):\n",
      "       ^^^^^^^^^^^^^^\n",
      "  File \"C:\\Users\\고창섭\\AppData\\Local\\Temp\\ipykernel_11236\\3180997042.py\", line 6, in on_key_event\n",
      "    play_warning_sound()\n",
      "    ^^^^^^^^^^^^^^^^^^\n",
      "NameError: name 'play_warning_sound' is not defined\n"
     ]
    },
    {
     "name": "stdout",
     "output_type": "stream",
     "text": [
      "키보드 아스키 코드 113(q)가 눌렸습니다.\n",
      "키보드 아스키 코드 113(q)가 눌렸습니다.\n",
      "키보드 아스키 코드 113(q)가 눌렸습니다.\n",
      "키보드 아스키 코드 113(q)가 눌렸습니다.\n",
      "키보드 아스키 코드 113(q)가 눌렸습니다.\n",
      "키보드 아스키 코드 113(q)가 눌렸습니다.\n",
      "키보드 아스키 코드 113(q)가 눌렸습니다.\n",
      "키보드 아스키 코드 113(q)가 눌렸습니다.\n",
      "키보드 아스키 코드 113(q)가 눌렸습니다.\n",
      "키보드 아스키 코드 113(q)가 눌렸습니다.\n"
     ]
    },
    {
     "name": "stderr",
     "output_type": "stream",
     "text": [
      "Traceback (most recent call last):\n",
      "  File \"c:\\Users\\고창섭\\AppData\\Local\\Programs\\Python\\Python312\\Lib\\site-packages\\keyboard\\_generic.py\", line 22, in invoke_handlers\n",
      "    if handler(event):\n",
      "       ^^^^^^^^^^^^^^\n",
      "  File \"C:\\Users\\고창섭\\AppData\\Local\\Temp\\ipykernel_11236\\4030405355.py\", line 6, in on_key_event\n",
      "    play_warning_sound()\n",
      "    ^^^^^^^^^^^^^^^^^^\n",
      "NameError: name 'play_warning_sound' is not defined\n",
      "Traceback (most recent call last):\n",
      "  File \"c:\\Users\\고창섭\\AppData\\Local\\Programs\\Python\\Python312\\Lib\\site-packages\\keyboard\\_generic.py\", line 22, in invoke_handlers\n",
      "    if handler(event):\n",
      "       ^^^^^^^^^^^^^^\n",
      "  File \"C:\\Users\\고창섭\\AppData\\Local\\Temp\\ipykernel_11236\\3180997042.py\", line 6, in on_key_event\n",
      "    play_warning_sound()\n",
      "    ^^^^^^^^^^^^^^^^^^\n",
      "NameError: name 'play_warning_sound' is not defined\n"
     ]
    },
    {
     "name": "stdout",
     "output_type": "stream",
     "text": [
      "키보드 아스키 코드 113(q)가 눌렸습니다.\n",
      "키보드 아스키 코드 113(q)가 눌렸습니다.\n",
      "키보드 아스키 코드 113(q)가 눌렸습니다.\n",
      "키보드 아스키 코드 113(q)가 눌렸습니다.\n",
      "키보드 아스키 코드 113(q)가 눌렸습니다.\n",
      "키보드 아스키 코드 113(q)가 눌렸습니다.\n",
      "키보드 아스키 코드 113(q)가 눌렸습니다.\n",
      "키보드 아스키 코드 113(q)가 눌렸습니다.\n",
      "키보드 아스키 코드 113(q)가 눌렸습니다.\n",
      "키보드 아스키 코드 113(q)가 눌렸습니다.\n"
     ]
    },
    {
     "name": "stderr",
     "output_type": "stream",
     "text": [
      "Traceback (most recent call last):\n",
      "  File \"c:\\Users\\고창섭\\AppData\\Local\\Programs\\Python\\Python312\\Lib\\site-packages\\keyboard\\_generic.py\", line 22, in invoke_handlers\n",
      "    if handler(event):\n",
      "       ^^^^^^^^^^^^^^\n",
      "  File \"C:\\Users\\고창섭\\AppData\\Local\\Temp\\ipykernel_11236\\4030405355.py\", line 6, in on_key_event\n",
      "    play_warning_sound()\n",
      "    ^^^^^^^^^^^^^^^^^^\n",
      "NameError: name 'play_warning_sound' is not defined\n",
      "Traceback (most recent call last):\n",
      "  File \"c:\\Users\\고창섭\\AppData\\Local\\Programs\\Python\\Python312\\Lib\\site-packages\\keyboard\\_generic.py\", line 22, in invoke_handlers\n",
      "    if handler(event):\n",
      "       ^^^^^^^^^^^^^^\n",
      "  File \"C:\\Users\\고창섭\\AppData\\Local\\Temp\\ipykernel_11236\\3180997042.py\", line 6, in on_key_event\n",
      "    play_warning_sound()\n",
      "    ^^^^^^^^^^^^^^^^^^\n",
      "NameError: name 'play_warning_sound' is not defined\n"
     ]
    },
    {
     "name": "stdout",
     "output_type": "stream",
     "text": [
      "키보드 아스키 코드 113(q)가 눌렸습니다.\n",
      "키보드 아스키 코드 113(q)가 눌렸습니다.\n",
      "키보드 아스키 코드 113(q)가 눌렸습니다.\n",
      "키보드 아스키 코드 113(q)가 눌렸습니다.\n",
      "키보드 아스키 코드 113(q)가 눌렸습니다.\n",
      "키보드 아스키 코드 113(q)가 눌렸습니다.\n",
      "키보드 아스키 코드 113(q)가 눌렸습니다.\n",
      "키보드 아스키 코드 113(q)가 눌렸습니다.\n",
      "키보드 아스키 코드 113(q)가 눌렸습니다.\n",
      "키보드 아스키 코드 113(q)가 눌렸습니다.\n"
     ]
    },
    {
     "name": "stderr",
     "output_type": "stream",
     "text": [
      "Traceback (most recent call last):\n",
      "  File \"c:\\Users\\고창섭\\AppData\\Local\\Programs\\Python\\Python312\\Lib\\site-packages\\keyboard\\_generic.py\", line 22, in invoke_handlers\n",
      "    if handler(event):\n",
      "       ^^^^^^^^^^^^^^\n",
      "  File \"C:\\Users\\고창섭\\AppData\\Local\\Temp\\ipykernel_11236\\4030405355.py\", line 6, in on_key_event\n",
      "    play_warning_sound()\n",
      "    ^^^^^^^^^^^^^^^^^^\n",
      "NameError: name 'play_warning_sound' is not defined\n",
      "Traceback (most recent call last):\n",
      "  File \"c:\\Users\\고창섭\\AppData\\Local\\Programs\\Python\\Python312\\Lib\\site-packages\\keyboard\\_generic.py\", line 22, in invoke_handlers\n",
      "    if handler(event):\n",
      "       ^^^^^^^^^^^^^^\n",
      "  File \"C:\\Users\\고창섭\\AppData\\Local\\Temp\\ipykernel_11236\\3180997042.py\", line 6, in on_key_event\n",
      "    play_warning_sound()\n",
      "    ^^^^^^^^^^^^^^^^^^\n",
      "NameError: name 'play_warning_sound' is not defined\n"
     ]
    },
    {
     "name": "stdout",
     "output_type": "stream",
     "text": [
      "키보드 아스키 코드 113(q)가 눌렸습니다.\n",
      "키보드 아스키 코드 113(q)가 눌렸습니다.\n",
      "키보드 아스키 코드 113(q)가 눌렸습니다.\n",
      "키보드 아스키 코드 113(q)가 눌렸습니다.\n",
      "키보드 아스키 코드 113(q)가 눌렸습니다.\n",
      "키보드 아스키 코드 113(q)가 눌렸습니다.\n",
      "키보드 아스키 코드 113(q)가 눌렸습니다.\n",
      "키보드 아스키 코드 113(q)가 눌렸습니다.\n",
      "키보드 아스키 코드 113(q)가 눌렸습니다.\n",
      "키보드 아스키 코드 113(q)가 눌렸습니다.\n"
     ]
    },
    {
     "name": "stderr",
     "output_type": "stream",
     "text": [
      "Traceback (most recent call last):\n",
      "  File \"c:\\Users\\고창섭\\AppData\\Local\\Programs\\Python\\Python312\\Lib\\site-packages\\keyboard\\_generic.py\", line 22, in invoke_handlers\n",
      "    if handler(event):\n",
      "       ^^^^^^^^^^^^^^\n",
      "  File \"C:\\Users\\고창섭\\AppData\\Local\\Temp\\ipykernel_11236\\4030405355.py\", line 6, in on_key_event\n",
      "    play_warning_sound()\n",
      "    ^^^^^^^^^^^^^^^^^^\n",
      "NameError: name 'play_warning_sound' is not defined\n",
      "Traceback (most recent call last):\n",
      "  File \"c:\\Users\\고창섭\\AppData\\Local\\Programs\\Python\\Python312\\Lib\\site-packages\\keyboard\\_generic.py\", line 22, in invoke_handlers\n",
      "    if handler(event):\n",
      "       ^^^^^^^^^^^^^^\n",
      "  File \"C:\\Users\\고창섭\\AppData\\Local\\Temp\\ipykernel_11236\\3180997042.py\", line 6, in on_key_event\n",
      "    play_warning_sound()\n",
      "    ^^^^^^^^^^^^^^^^^^\n",
      "NameError: name 'play_warning_sound' is not defined\n"
     ]
    },
    {
     "name": "stdout",
     "output_type": "stream",
     "text": [
      "키보드 아스키 코드 113(q)가 눌렸습니다.\n",
      "키보드 아스키 코드 113(q)가 눌렸습니다.\n",
      "키보드 아스키 코드 113(q)가 눌렸습니다.\n",
      "키보드 아스키 코드 113(q)가 눌렸습니다.\n",
      "키보드 아스키 코드 113(q)가 눌렸습니다.\n",
      "키보드 아스키 코드 113(q)가 눌렸습니다.\n",
      "키보드 아스키 코드 113(q)가 눌렸습니다.\n",
      "키보드 아스키 코드 113(q)가 눌렸습니다.\n",
      "키보드 아스키 코드 113(q)가 눌렸습니다.\n",
      "키보드 아스키 코드 113(q)가 눌렸습니다.\n"
     ]
    },
    {
     "name": "stderr",
     "output_type": "stream",
     "text": [
      "Traceback (most recent call last):\n",
      "  File \"c:\\Users\\고창섭\\AppData\\Local\\Programs\\Python\\Python312\\Lib\\site-packages\\keyboard\\_generic.py\", line 22, in invoke_handlers\n",
      "    if handler(event):\n",
      "       ^^^^^^^^^^^^^^\n",
      "  File \"C:\\Users\\고창섭\\AppData\\Local\\Temp\\ipykernel_11236\\4030405355.py\", line 6, in on_key_event\n",
      "    play_warning_sound()\n",
      "    ^^^^^^^^^^^^^^^^^^\n",
      "NameError: name 'play_warning_sound' is not defined\n",
      "Traceback (most recent call last):\n",
      "  File \"c:\\Users\\고창섭\\AppData\\Local\\Programs\\Python\\Python312\\Lib\\site-packages\\keyboard\\_generic.py\", line 22, in invoke_handlers\n",
      "    if handler(event):\n",
      "       ^^^^^^^^^^^^^^\n",
      "  File \"C:\\Users\\고창섭\\AppData\\Local\\Temp\\ipykernel_11236\\3180997042.py\", line 6, in on_key_event\n",
      "    play_warning_sound()\n",
      "    ^^^^^^^^^^^^^^^^^^\n",
      "NameError: name 'play_warning_sound' is not defined\n"
     ]
    }
   ],
   "source": [
    "import keyboard\n",
    "\n",
    "def on_key_event(e):\n",
    "    if e.event_type == keyboard.KEY_DOWN and e.name == 'q':\n",
    "        print(\"키보드 아스키 코드 113(q)가 눌렸습니다.\")\n",
    "        # 여기에 원하는 동작을 추가하세요.\n",
    "\n",
    "keyboard.hook(on_key_event)\n",
    "\n",
    "# 프로그램이 종료되기 전까지 실행되도록 유지\n",
    "keyboard.wait('esc')"
   ]
  }
 ],
 "metadata": {
  "kernelspec": {
   "display_name": "Python 3",
   "language": "python",
   "name": "python3"
  },
  "language_info": {
   "codemirror_mode": {
    "name": "ipython",
    "version": 3
   },
   "file_extension": ".py",
   "mimetype": "text/x-python",
   "name": "python",
   "nbconvert_exporter": "python",
   "pygments_lexer": "ipython3",
   "version": "3.12.1"
  }
 },
 "nbformat": 4,
 "nbformat_minor": 2
}
