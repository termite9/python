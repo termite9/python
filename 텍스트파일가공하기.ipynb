{
 "cells": [
  {
   "cell_type": "markdown",
   "metadata": {},
   "source": [
    "# 텍스트파일 가공하기\n",
    "-모든 프로그램을 작성하고 저장하고 사용할 때 기본이 되는 파일 입출력을 연습합니다.  \n",
    "그리고 문자열을\n",
    "자유자재로 다룰 수 있는 정규표현식을 알아봅니다.  \n",
    "마지막으로 두 기술을 활용하여 드라마 대본을 마음대로 가공해 보겠습니다."
   ]
  },
  {
   "cell_type": "markdown",
   "metadata": {},
   "source": [
    "#### 파일 입출력 연습하기"
   ]
  },
  {
   "cell_type": "markdown",
   "metadata": {},
   "source": [
    "### 정규표현식으로 문자열 다루기"
   ]
  },
  {
   "cell_type": "markdown",
   "metadata": {},
   "source": [
    "> match메서드사용법\n",
    "- re.match(패턴,문자열)"
   ]
  },
  {
   "cell_type": "code",
   "execution_count": null,
   "metadata": {},
   "outputs": [],
   "source": [
    "import re\n",
    "\n",
    "def refinder(pattern,script):\n",
    "    if re.match(pattern,script):\n",
    "        print('Match!')\n",
    "    else:\n",
    "        print('Not a match')\n",
    "        \n",
    "pattern= r'is'\n",
    "script='life is so cool'\n",
    "\n",
    "refinder(pattern,script)\n",
    "re.search(pattern,script).group()\n",
    "\n"
   ]
  },
  {
   "cell_type": "code",
   "execution_count": null,
   "metadata": {},
   "outputs": [],
   "source": [
    "re.search(pattern,script).group()\n"
   ]
  },
  {
   "cell_type": "markdown",
   "metadata": {},
   "source": [
    "### search메서드 - 문자열 전체에서 패턴 찾기"
   ]
  },
  {
   "cell_type": "markdown",
   "metadata": {},
   "source": [
    "> 사용방법 re.search(패턴,문자열)"
   ]
  },
  {
   "cell_type": "markdown",
   "metadata": {},
   "source": [
    "### findall메서드\n",
    "- 패턴을 모두 찾아 리스트로 반환하기"
   ]
  },
  {
   "cell_type": "markdown",
   "metadata": {},
   "source": [
    "-findall메서드 사용법  re,findall(패턴,문자열)"
   ]
  },
  {
   "cell_type": "code",
   "execution_count": null,
   "metadata": {},
   "outputs": [],
   "source": [
    "number = \"my numbr is 3444334-154**** and yours number is 720522-523***8\"\n",
    "re.findall('\\W{5}',number)"
   ]
  },
  {
   "cell_type": "markdown",
   "metadata": {},
   "source": [
    "> 정규표현식의 탐욕 제어하기: 마침표(.)와 물음표(?)"
   ]
  },
  {
   "cell_type": "code",
   "execution_count": null,
   "metadata": {},
   "outputs": [],
   "source": [
    "ex='저는65년에 태어났습니다. , 97년에는 imf가 있었습니다. 지금은 2023년 입니다'\n",
    "# re.findall('\\d.+년',ex)\n",
    "# re.findall('\\d+년',ex)\n",
    "re.findall('\\d.?년',ex)"
   ]
  },
  {
   "cell_type": "code",
   "execution_count": null,
   "metadata": {},
   "outputs": [],
   "source": [
    "example=\"이동민 교수는(이동민, 2019). 그런데 다른학자는(최재영, 2018). 그리고 다른학자의 견해는(Lion, 2018)\"\n",
    "# re.findall(r'\\(.+\\)',example)\n",
    "re.findall(r'\\(.+?\\)',example)"
   ]
  },
  {
   "cell_type": "markdown",
   "metadata": {},
   "source": [
    "> splite메서드 - 문장 나누는 패턴 만들기\n",
    "- 마침표,느낌표,물음표로 끈나는 특성을 이용하여 문장을 나눈다.\n",
    "- 사용법  re.splite(패턴,문자열)"
   ]
  },
  {
   "cell_type": "code",
   "execution_count": null,
   "metadata": {},
   "outputs": [],
   "source": [
    "import re"
   ]
  },
  {
   "cell_type": "code",
   "execution_count": null,
   "metadata": {},
   "outputs": [],
   "source": [
    "sentence= ' I have a lovely dog. really,   I am not telling a lie. What a pretty dog!  I love this dog'\n",
    "re.split(r'[.!?]',sentence)"
   ]
  },
  {
   "cell_type": "code",
   "execution_count": null,
   "metadata": {},
   "outputs": [],
   "source": [
    "sentence= ' I have a lovely dog. really,   I am not telling a lie. What a pretty dog!  I love this dog'\n",
    "re.split(r'[.]',sentence)"
   ]
  },
  {
   "cell_type": "code",
   "execution_count": null,
   "metadata": {},
   "outputs": [],
   "source": [
    "data='a:3; b:4; c:5'\n",
    "for i in re.split(r';',data):\n",
    "    print(re.split(r':',i))\n"
   ]
  },
  {
   "cell_type": "markdown",
   "metadata": {},
   "source": [
    "> sub 메서드 - 문자열 바꾸기\n",
    "- sub메서드 처럼 많이 쓰이는 명령어도 드뭅니다.\n",
    "- 사용법 re.sub(찾을 패턴, 대체할 문자, 찾을 문자열)"
   ]
  },
  {
   "cell_type": "code",
   "execution_count": null,
   "metadata": {},
   "outputs": [],
   "source": [
    "sentence= ' I have a lovely dog. really,   I am not telling a lie. What a pretty dog!  I love this dog'\n",
    "re.sub(r'dog','cat',sentence)"
   ]
  },
  {
   "cell_type": "code",
   "execution_count": null,
   "metadata": {},
   "outputs": [],
   "source": [
    "# 특히 불필요한 공백을 없애는 데 많이 활용됩니다.\n",
    "# 인터넷에서 내려받은 텍스트 파일에는 불필요한 공백이 많습니다.\n",
    "\n",
    "words = 'I am home now. \\n\\n\\nI am with my cat. \\n\\n'\n",
    "print(words)\n"
   ]
  },
  {
   "cell_type": "code",
   "execution_count": null,
   "metadata": {},
   "outputs": [],
   "source": [
    "re.sub(r'\\n','',words)"
   ]
  },
  {
   "cell_type": "code",
   "execution_count": null,
   "metadata": {},
   "outputs": [],
   "source": [
    "re.sub()"
   ]
  },
  {
   "cell_type": "markdown",
   "metadata": {},
   "source": [
    "> ly로 끝나는 단어 추출하기\n"
   ]
  },
  {
   "cell_type": "code",
   "execution_count": null,
   "metadata": {},
   "outputs": [],
   "source": [
    "sentence= ' I have a lovely dog. really,   I am not telling a lie. What a pretty dog!  I love this dog'\n",
    "re.findall(r'\\w+ly',sentence)"
   ]
  },
  {
   "cell_type": "markdown",
   "metadata": {},
   "source": [
    "### 드라마 대본 텍스트 파일 가공하기\n",
    "- 대량의 텍스트에서 특정 패턴을 찾는 연습\n",
    "- 드라마 대본은 문자열이 나름의 규칙을 가지고 있어 정규표현식을 연습하기 좋다.\n",
    "- 미드'프랜즈'대본으로 영어공부자료를 만들자\n",
    "    - 특정 등장인물의 대사만 모으기\n",
    "    - 등장인물 리스트 만들기\n",
    "    - 지문만 따로 모으기\n",
    "    - 측정 단어가 들어 있는 대사만 모으기"
   ]
  },
  {
   "cell_type": "code",
   "execution_count": null,
   "metadata": {},
   "outputs": [],
   "source": [
    "import os, re\n"
   ]
  },
  {
   "cell_type": "code",
   "execution_count": null,
   "metadata": {},
   "outputs": [],
   "source": [
    "f= open('friends101.txt', 'r', encoding='cp949')\n",
    "script101 =f.read()"
   ]
  },
  {
   "cell_type": "code",
   "execution_count": null,
   "metadata": {},
   "outputs": [],
   "source": [
    "print(script101[:100])"
   ]
  },
  {
   "cell_type": "markdown",
   "metadata": {},
   "source": [
    "> 특정 등장인물의 대사만 모으기\n",
    "- findall은 찾은 조건식을 모두 리스트로 만들어 준다는 점에서 쉽게 사용할 수 있다."
   ]
  },
  {
   "cell_type": "code",
   "execution_count": null,
   "metadata": {},
   "outputs": [],
   "source": [
    "Line = re.findall(r'Monica:.+',script101)\n",
    "# Monica다음에 아무 문자나 반복되는 (.+)패턴을 리스트에 반환한다."
   ]
  },
  {
   "cell_type": "code",
   "execution_count": null,
   "metadata": {},
   "outputs": [],
   "source": [
    "print(Line[:5])"
   ]
  },
  {
   "cell_type": "code",
   "execution_count": null,
   "metadata": {},
   "outputs": [],
   "source": [
    "for item in Line[:3]:\n",
    "    print(item)"
   ]
  },
  {
   "cell_type": "code",
   "execution_count": null,
   "metadata": {},
   "outputs": [],
   "source": [
    "f.close()\n",
    "f = open('Monica.txt','w', encoding='cp949')\n"
   ]
  },
  {
   "cell_type": "code",
   "execution_count": null,
   "metadata": {},
   "outputs": [],
   "source": [
    "i=0\n",
    "for item in Line:\n",
    "    i=i+1\n",
    "    print(i,item)\n"
   ]
  },
  {
   "cell_type": "code",
   "execution_count": 37,
   "metadata": {},
   "outputs": [],
   "source": [
    "monica=\"\""
   ]
  },
  {
   "cell_type": "code",
   "execution_count": 39,
   "metadata": {},
   "outputs": [],
   "source": [
    "for i in Line:\n",
    "    monica += i"
   ]
  },
  {
   "cell_type": "code",
   "execution_count": 42,
   "metadata": {},
   "outputs": [
    {
     "name": "stdout",
     "output_type": "stream",
     "text": [
      "Monica: There's nothing to tell! He's just some guy I work with!Monica: Okay, everybody relax. This is not even a date. It's just two people going out to dinner and- not having sex.Monica: And they weren't looking at you before?!Monica: Are you okay, sweetie?Monica: (explaining to the others) Carol moved her stuff out today.Monica: (to Ross) Let me get you some coffee.Monica: No you don't.Monica: Oh really, so that hysterical phone call I got from a woman at sobbing 3:00 A.M., \"I'll never have grandchildren, I'll never have grandchildren.\" was what?  A wrong number?Monica: Rachel?!Monica: (pointing at Rachel) De-caff. (to All) Okay, everybody, this is Rachel, another Lincoln High survivor. (to Rachel) This is everybody, this is Chandler, and Phoebe, and Joey, and- you remember my brother Ross?Monica: So you wanna tell us now, or are we waiting for four wet bridesmaids?Monica: Who wasn't invited to the wedding.Monica: Now I'm guessing that he bought her the big pipe organ, and she's really not happy about it.Monica: Well, I guess we've established who's staying here with Monica...Monica: Just breathe, breathe.. that's it. Just try to think of nice calm things... Phoebe: (sings) Raindrops on roses and rabbits and kittens, (Rachel and Monica turn to look at her.) bluebells and sleighbells and- something with mittens... La la la la...something and noodles with string.  These are a few...Monica: Okay, look, this is probably for the best, y'know? Independence. Taking control of your life.  The whole, 'hat' thing.Monica: Joey, stop hitting on her! It's her wedding day!Monica: Oh God, is it 6:30?  Buzz him in!Monica: Maybe. Joey: Wait. Your 'not a real date' tonight is with Paul the Wine Guy?Monica: Yes!Monica: Rach, wait, I can cancel...Monica: (to Ross) Are, are you okay? I mean, do you want me to stay?Monica: (horrified) Really?Monica: Hi, come in! Paul, this is.. (They are all lined up next to the door.)... everybody, everybody, this is Paul.Monica: Okay, umm-umm, I'll just--I'll be right back, I just gotta go ah, go ah...Monica: Change!  Okay, sit down. (Shows Paul in) Two seconds.Monica: (yelling from the bedroom) Shut up, Joey!Monica: Oh my God!Monica: My brother's going through that right now, he's such a mess. How did you get through it?Monica: -leg?Monica: You actually broke her watch?  Wow!  The worst thing I ever did was, I-I shredded by boyfriend's favorite bath towel.Monica: That's right. [Scene: Monica's Apartment, Rachel is talking on the phone and pacing.]Monica: What?..... What, you wanna spell it out with noodles?Monica: Oh, so there is gonna be a fifth date?Monica: Yeah... yeah, I think there is. -What were you gonna say?Monica: (spitting out her drink in shock) Oh God, oh God, I am sorry... I am so sorry...Monica: I know being spit on is probably not what you need right now. Um... how long?Monica: Wow! I'm-I'm-I'm glad you smashed her watch!Monica: (pause)...Yeah. Yeah, I do.Monica: (entering, to herself) Oh good, Lenny and Squigy are here.Monica: Stop!Monica: We'll talk later.Monica: Shut up, and put my table back.Monica: Yeah, we all have jobs. See, that's how we buy stuff.Monica: Oh wait, wait, unless you happened to catch the Reruns' production of Pinocchio, at the little theater in the park.Monica: So how you doing today? Did you sleep okay? Talk to Barry? I can't stop smiling.Monica: I know, he's just so, so... Do you remember you and Tony DeMarco?Monica: Well, it's like that. With feelings.Monica: Big time!Monica: I think we are getting a little ahead of selves here. Okay. Okay. I am just going to get up, go to work and not think about him all day. Or else I'm just gonna get up and go to work.Monica: What for?Monica: Hey Frannie, welcome back! How was Florida?Monica: How do you do that?Monica: You know Paul?Monica: You mean you know Paul like I know Paul?Monica: Why?! Why? Why, why would anybody do something like that?Monica: I hate men!  I hate men!Monica: Is it me? Is it like I have some sort of beacon that only dogs and men with severe emotional problems can hear?Monica: I just thought he was nice, y'know?Monica: How'd you pay for them?Monica: And who pays for that?Monica: C'mon, you can't live off your parents your whole life.Monica: All right, you ready?Monica: You can, I know you can!Monica:  Rachel!  That was a library card!Monica: Welcome to the real world! It sucks. You're gonna love it!Monica: Well, that's it (To Ross) You gonna crash on the couch?Monica: You be okay?Monica: That's Paul's watch. You just put it back where you found it. Oh boy. Alright. Goodnight, everybody.Monica: See ya.... Waitwait, what's with you?Monica: What? I-I said you had a-Monica: (to Phoebe) Would you stop?Monica: I said that you had a nice butt, it's just not a great butt.Monica: There's nothing to tell! He's just some guy I work with!Monica: Okay, everybody relax. This is not even a date. It's just two people going out to dinner and- not having sex.Monica: And they weren't looking at you before?!Monica: Are you okay, sweetie?Monica: (explaining to the others) Carol moved her stuff out today.Monica: (to Ross) Let me get you some coffee.Monica: No you don't.Monica: Oh really, so that hysterical phone call I got from a woman at sobbing 3:00 A.M., \"I'll never have grandchildren, I'll never have grandchildren.\" was what?  A wrong number?Monica: Rachel?!Monica: (pointing at Rachel) De-caff. (to All) Okay, everybody, this is Rachel, another Lincoln High survivor. (to Rachel) This is everybody, this is Chandler, and Phoebe, and Joey, and- you remember my brother Ross?Monica: So you wanna tell us now, or are we waiting for four wet bridesmaids?Monica: Who wasn't invited to the wedding.Monica: Now I'm guessing that he bought her the big pipe organ, and she's really not happy about it.Monica: Well, I guess we've established who's staying here with Monica...Monica: Just breathe, breathe.. that's it. Just try to think of nice calm things... Phoebe: (sings) Raindrops on roses and rabbits and kittens, (Rachel and Monica turn to look at her.) bluebells and sleighbells and- something with mittens... La la la la...something and noodles with string.  These are a few...Monica: Okay, look, this is probably for the best, y'know? Independence. Taking control of your life.  The whole, 'hat' thing.Monica: Joey, stop hitting on her! It's her wedding day!Monica: Oh God, is it 6:30?  Buzz him in!Monica: Maybe. Joey: Wait. Your 'not a real date' tonight is with Paul the Wine Guy?Monica: Yes!Monica: Rach, wait, I can cancel...Monica: (to Ross) Are, are you okay? I mean, do you want me to stay?Monica: (horrified) Really?Monica: Hi, come in! Paul, this is.. (They are all lined up next to the door.)... everybody, everybody, this is Paul.Monica: Okay, umm-umm, I'll just--I'll be right back, I just gotta go ah, go ah...Monica: Change!  Okay, sit down. (Shows Paul in) Two seconds.Monica: (yelling from the bedroom) Shut up, Joey!Monica: Oh my God!Monica: My brother's going through that right now, he's such a mess. How did you get through it?Monica: -leg?Monica: You actually broke her watch?  Wow!  The worst thing I ever did was, I-I shredded by boyfriend's favorite bath towel.Monica: That's right. [Scene: Monica's Apartment, Rachel is talking on the phone and pacing.]Monica: What?..... What, you wanna spell it out with noodles?Monica: Oh, so there is gonna be a fifth date?Monica: Yeah... yeah, I think there is. -What were you gonna say?Monica: (spitting out her drink in shock) Oh God, oh God, I am sorry... I am so sorry...Monica: I know being spit on is probably not what you need right now. Um... how long?Monica: Wow! I'm-I'm-I'm glad you smashed her watch!Monica: (pause)...Yeah. Yeah, I do.Monica: (entering, to herself) Oh good, Lenny and Squigy are here.Monica: Stop!Monica: We'll talk later.Monica: Shut up, and put my table back.Monica: Yeah, we all have jobs. See, that's how we buy stuff.Monica: Oh wait, wait, unless you happened to catch the Reruns' production of Pinocchio, at the little theater in the park.Monica: So how you doing today? Did you sleep okay? Talk to Barry? I can't stop smiling.Monica: I know, he's just so, so... Do you remember you and Tony DeMarco?Monica: Well, it's like that. With feelings.Monica: Big time!Monica: I think we are getting a little ahead of selves here. Okay. Okay. I am just going to get up, go to work and not think about him all day. Or else I'm just gonna get up and go to work.Monica: What for?Monica: Hey Frannie, welcome back! How was Florida?Monica: How do you do that?Monica: You know Paul?Monica: You mean you know Paul like I know Paul?Monica: Why?! Why? Why, why would anybody do something like that?Monica: I hate men!  I hate men!Monica: Is it me? Is it like I have some sort of beacon that only dogs and men with severe emotional problems can hear?Monica: I just thought he was nice, y'know?Monica: How'd you pay for them?Monica: And who pays for that?Monica: C'mon, you can't live off your parents your whole life.Monica: All right, you ready?Monica: You can, I know you can!Monica:  Rachel!  That was a library card!Monica: Welcome to the real world! It sucks. You're gonna love it!Monica: Well, that's it (To Ross) You gonna crash on the couch?Monica: You be okay?Monica: That's Paul's watch. You just put it back where you found it. Oh boy. Alright. Goodnight, everybody.Monica: See ya.... Waitwait, what's with you?Monica: What? I-I said you had a-Monica: (to Phoebe) Would you stop?Monica: I said that you had a nice butt, it's just not a great butt.\n"
     ]
    }
   ],
   "source": [
    "print(monica)\n",
    "\n",
    "f.write(monica)\n",
    "f.close()"
   ]
  },
  {
   "cell_type": "code",
   "execution_count": 45,
   "metadata": {},
   "outputs": [
    {
     "name": "stdout",
     "output_type": "stream",
     "text": [
      "불바꿈 \n",
      "줄이바뀐다\n"
     ]
    }
   ],
   "source": [
    "print('불바꿈 \\n줄이바뀐다')"
   ]
  },
  {
   "cell_type": "code",
   "execution_count": 48,
   "metadata": {},
   "outputs": [
    {
     "data": {
      "text/plain": [
       "\"Monica: There's nothing to tell! He's just some guy I work with!\\nMonica: Okay, everybody relax. This\""
      ]
     },
     "execution_count": 48,
     "metadata": {},
     "output_type": "execute_result"
    }
   ],
   "source": [
    "monica=\"\"\n",
    "for i in Line:\n",
    "    monica += i +'\\n'\n",
    "    \n",
    "monica[:100]\n"
   ]
  },
  {
   "cell_type": "code",
   "execution_count": 49,
   "metadata": {},
   "outputs": [
    {
     "data": {
      "text/plain": [
       "4842"
      ]
     },
     "execution_count": 49,
     "metadata": {},
     "output_type": "execute_result"
    }
   ],
   "source": [
    "f = open('Monica.txt', 'w', encoding='cp949')\n",
    "f.write(monica)"
   ]
  },
  {
   "cell_type": "code",
   "execution_count": 50,
   "metadata": {},
   "outputs": [],
   "source": [
    "f.close()\n"
   ]
  },
  {
   "cell_type": "code",
   "execution_count": null,
   "metadata": {},
   "outputs": [],
   "source": []
  }
 ],
 "metadata": {
  "kernelspec": {
   "display_name": "Python 3",
   "language": "python",
   "name": "python3"
  },
  "language_info": {
   "codemirror_mode": {
    "name": "ipython",
    "version": 3
   },
   "file_extension": ".py",
   "mimetype": "text/x-python",
   "name": "python",
   "nbconvert_exporter": "python",
   "pygments_lexer": "ipython3",
   "version": "3.12.1"
  }
 },
 "nbformat": 4,
 "nbformat_minor": 2
}
