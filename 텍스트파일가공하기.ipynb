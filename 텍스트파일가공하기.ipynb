{
 "cells": [
  {
   "cell_type": "markdown",
   "metadata": {},
   "source": [
    "# 텍스트파일 가공하기\n",
    "-모든 프로그램을 작성하고 저장하고 사용할 때 기본이 되는 파일 입출력을 연습합니다.  \n",
    "그리고 문자열을\n",
    "자유자재로 다룰 수 있는 정규표현식을 알아봅니다.  \n",
    "마지막으로 두 기술을 활용하여 드라마 대본을 마음대로 가공해 보겠습니다."
   ]
  },
  {
   "cell_type": "markdown",
   "metadata": {},
   "source": [
    "#### 파일 입출력 연습하기"
   ]
  },
  {
   "cell_type": "markdown",
   "metadata": {},
   "source": [
    "### 정규표현식으로 문자열 다루기"
   ]
  },
  {
   "cell_type": "markdown",
   "metadata": {},
   "source": [
    "> match메서드사용법\n",
    "- re.match(패턴,문자열)"
   ]
  },
  {
   "cell_type": "code",
   "execution_count": 4,
   "metadata": {},
   "outputs": [
    {
     "name": "stdout",
     "output_type": "stream",
     "text": [
      "Not a match\n"
     ]
    },
    {
     "data": {
      "text/plain": [
       "'is'"
      ]
     },
     "execution_count": 4,
     "metadata": {},
     "output_type": "execute_result"
    }
   ],
   "source": [
    "import re\n",
    "\n",
    "def refinder(pattern,script):\n",
    "    if re.match(pattern,script):\n",
    "        print('Match!')\n",
    "    else:\n",
    "        print('Not a match')\n",
    "        \n",
    "pattern= r'is'\n",
    "script='life is so cool'\n",
    "\n",
    "refinder(pattern,script)\n",
    "re.search(pattern,script).group()\n",
    "\n"
   ]
  },
  {
   "cell_type": "code",
   "execution_count": 5,
   "metadata": {},
   "outputs": [
    {
     "data": {
      "text/plain": [
       "'is'"
      ]
     },
     "execution_count": 5,
     "metadata": {},
     "output_type": "execute_result"
    }
   ],
   "source": [
    "re.search(pattern,script).group()\n"
   ]
  },
  {
   "cell_type": "markdown",
   "metadata": {},
   "source": [
    "### search메서드 - 문자열 전체에서 패턴 찾기"
   ]
  },
  {
   "cell_type": "markdown",
   "metadata": {},
   "source": [
    "> 사용방법 re.search(패턴,문자열)"
   ]
  },
  {
   "cell_type": "markdown",
   "metadata": {},
   "source": [
    "### findall메서드\n",
    "- 패턴을 모두 찾아 리스트로 반환하기"
   ]
  },
  {
   "cell_type": "markdown",
   "metadata": {},
   "source": [
    "-findall메서드 사용법  re,findall(패턴,문자열)"
   ]
  },
  {
   "cell_type": "code",
   "execution_count": 15,
   "metadata": {},
   "outputs": [
    {
     "name": "stderr",
     "output_type": "stream",
     "text": [
      "<>:2: SyntaxWarning: invalid escape sequence '\\W'\n",
      "<>:2: SyntaxWarning: invalid escape sequence '\\W'\n",
      "C:\\Users\\고창섭\\AppData\\Local\\Temp\\ipykernel_4804\\815642082.py:2: SyntaxWarning: invalid escape sequence '\\W'\n",
      "  re.findall('\\W{5}',number)\n"
     ]
    },
    {
     "data": {
      "text/plain": [
       "['**** ']"
      ]
     },
     "execution_count": 15,
     "metadata": {},
     "output_type": "execute_result"
    }
   ],
   "source": [
    "number = \"my numbr is 3444334-154**** and yours number is 720522-523***8\"\n",
    "re.findall('\\W{5}',number)"
   ]
  },
  {
   "cell_type": "markdown",
   "metadata": {},
   "source": [
    "> 정규표현식의 탐욕 제어하기: 마침표(.)와 물음표(?)"
   ]
  },
  {
   "cell_type": "code",
   "execution_count": null,
   "metadata": {},
   "outputs": [],
   "source": [
    "ex='저는65년에 태어났습니다. , 97년에는 imf가 있었습니다. 지금은 2023년 입니다'\n",
    "# re.findall('\\d.+년',ex)\n",
    "# re.findall('\\d+년',ex)\n",
    "re.findall('\\d.?년',ex)"
   ]
  },
  {
   "cell_type": "code",
   "execution_count": 25,
   "metadata": {},
   "outputs": [
    {
     "data": {
      "text/plain": [
       "['(이동민, 2019)', '(최재영, 2018)', '(Lion, 2018)']"
      ]
     },
     "execution_count": 25,
     "metadata": {},
     "output_type": "execute_result"
    }
   ],
   "source": [
    "example=\"이동민 교수는(이동민, 2019). 그런데 다른학자는(최재영, 2018). 그리고 다른학자의 견해는(Lion, 2018)\"\n",
    "# re.findall(r'\\(.+\\)',example)\n",
    "re.findall(r'\\(.+?\\)',example)"
   ]
  },
  {
   "cell_type": "markdown",
   "metadata": {},
   "source": [
    "> splite메서드 - 문장 나누는 패턴 만들기\n",
    "- 마침표,느낌표,물음표로 끈나는 특성을 이용하여 문장을 나눈다.\n",
    "- 사용법  re.splite(패턴,문자열)"
   ]
  },
  {
   "cell_type": "code",
   "execution_count": 2,
   "metadata": {},
   "outputs": [],
   "source": [
    "import re"
   ]
  },
  {
   "cell_type": "code",
   "execution_count": 5,
   "metadata": {},
   "outputs": [
    {
     "data": {
      "text/plain": [
       "[' I have a lovely dog',\n",
       " ' really,   I am not telling a lie',\n",
       " ' What a pretty dog',\n",
       " '  I love this dog']"
      ]
     },
     "execution_count": 5,
     "metadata": {},
     "output_type": "execute_result"
    }
   ],
   "source": [
    "sentence= ' I have a lovely dog. really,   I am not telling a lie. What a pretty dog!  I love this dog'\n",
    "re.split(r'[.!?]',sentence)"
   ]
  },
  {
   "cell_type": "code",
   "execution_count": 6,
   "metadata": {},
   "outputs": [
    {
     "data": {
      "text/plain": [
       "[' I have a lovely dog',\n",
       " ' really,   I am not telling a lie',\n",
       " ' What a pretty dog!  I love this dog']"
      ]
     },
     "execution_count": 6,
     "metadata": {},
     "output_type": "execute_result"
    }
   ],
   "source": [
    "sentence= ' I have a lovely dog. really,   I am not telling a lie. What a pretty dog!  I love this dog'\n",
    "re.split(r'[.]',sentence)"
   ]
  },
  {
   "cell_type": "code",
   "execution_count": 9,
   "metadata": {},
   "outputs": [
    {
     "name": "stdout",
     "output_type": "stream",
     "text": [
      "['a', '3']\n",
      "[' b', '4']\n",
      "[' c', '5']\n"
     ]
    }
   ],
   "source": [
    "data='a:3; b:4; c:5'\n",
    "for i in re.split(r';',data):\n",
    "    print(re.split(r':',i))\n"
   ]
  },
  {
   "cell_type": "markdown",
   "metadata": {},
   "source": [
    "> sub 메서드 - 문자열 바꾸기\n",
    "- sub메서드 처럼 많이 쓰이는 명령어도 드뭅니다.\n",
    "- 사용법 re.sub(찾을 패턴, 대체할 문자, 찾을 문자열)"
   ]
  },
  {
   "cell_type": "code",
   "execution_count": 11,
   "metadata": {},
   "outputs": [
    {
     "data": {
      "text/plain": [
       "' I have a lovely cat. really,   I am not telling a lie. What a pretty cat!  I love this cat'"
      ]
     },
     "execution_count": 11,
     "metadata": {},
     "output_type": "execute_result"
    }
   ],
   "source": [
    "sentence= ' I have a lovely dog. really,   I am not telling a lie. What a pretty dog!  I love this dog'\n",
    "re.sub(r'dog','cat',sentence)"
   ]
  },
  {
   "cell_type": "code",
   "execution_count": 13,
   "metadata": {},
   "outputs": [
    {
     "name": "stdout",
     "output_type": "stream",
     "text": [
      "I am home now. \n",
      "\n",
      "\n",
      "I am with my cat. \n",
      "\n",
      "\n"
     ]
    }
   ],
   "source": [
    "# 특히 불필요한 공백을 없애는 데 많이 활용됩니다.\n",
    "# 인터넷에서 내려받은 텍스트 파일에는 불필요한 공백이 많습니다.\n",
    "\n",
    "words = 'I am home now. \\n\\n\\nI am with my cat. \\n\\n'\n",
    "print(words)\n"
   ]
  },
  {
   "cell_type": "code",
   "execution_count": 14,
   "metadata": {},
   "outputs": [
    {
     "data": {
      "text/plain": [
       "'I am home now. I am with my cat. '"
      ]
     },
     "execution_count": 14,
     "metadata": {},
     "output_type": "execute_result"
    }
   ],
   "source": [
    "re.sub(r'\\n','',words)"
   ]
  },
  {
   "cell_type": "code",
   "execution_count": null,
   "metadata": {},
   "outputs": [],
   "source": [
    "re.sub()"
   ]
  },
  {
   "cell_type": "markdown",
   "metadata": {},
   "source": [
    "> ly로 끝나는 단어 추출하기\n"
   ]
  },
  {
   "cell_type": "code",
   "execution_count": 18,
   "metadata": {},
   "outputs": [
    {
     "data": {
      "text/plain": [
       "['lovely', 'really']"
      ]
     },
     "execution_count": 18,
     "metadata": {},
     "output_type": "execute_result"
    }
   ],
   "source": [
    "sentence= ' I have a lovely dog. really,   I am not telling a lie. What a pretty dog!  I love this dog'\n",
    "re.findall(r'\\w+ly',sentence)"
   ]
  },
  {
   "cell_type": "markdown",
   "metadata": {},
   "source": [
    "### 드라마 대본 텍스트 파일 가공하기\n",
    "- 대량의 텍스트에서 특정 패턴을 찾는 연습\n",
    "- 드라마 대본은 문자열이 나름의 규칙을 가지고 있어 정규표현식을 연습하기 좋다.\n",
    "- 미드'프랜즈'대본으로 영어공부자료를 만들자\n",
    "    - 특정 등장인물의 대사만 모으기\n",
    "    - 등장인물 리스트 만들기\n",
    "    - 지문만 따로 모으기\n",
    "    - 측정 단어가 들어 있는 대사만 모으기"
   ]
  },
  {
   "cell_type": "code",
   "execution_count": 19,
   "metadata": {},
   "outputs": [],
   "source": [
    "import os, re\n"
   ]
  },
  {
   "cell_type": "code",
   "execution_count": 21,
   "metadata": {},
   "outputs": [],
   "source": [
    "f= open('friends101.txt', 'r', encoding='cp949')\n",
    "script101 =f.read()"
   ]
  },
  {
   "cell_type": "code",
   "execution_count": 22,
   "metadata": {},
   "outputs": [
    {
     "name": "stdout",
     "output_type": "stream",
     "text": [
      "The One Where Monica Gets a New Roommate (The Pilot-The Uncut Version)\n",
      "Written by: Marta Kauffman an\n"
     ]
    }
   ],
   "source": [
    "print(script101[:100])"
   ]
  },
  {
   "cell_type": "markdown",
   "metadata": {},
   "source": [
    "> 특정 등장인물의 대사만 모으기\n",
    "- findall은 찾은 조건식을 모두 리스트로 만들어 준다는 점에서 쉽게 사용할 수 있다."
   ]
  },
  {
   "cell_type": "code",
   "execution_count": 24,
   "metadata": {},
   "outputs": [],
   "source": [
    "Line = re.findall(r'Monica:.+',script101)\n",
    "# Monica다음에 아무 문자나 반복되는 (.+)패턴을 리스트에 반환한다."
   ]
  },
  {
   "cell_type": "code",
   "execution_count": 26,
   "metadata": {},
   "outputs": [
    {
     "name": "stdout",
     "output_type": "stream",
     "text": [
      "[\"Monica: There's nothing to tell! He's just some guy I work with!\", \"Monica: Okay, everybody relax. This is not even a date. It's just two people going out to dinner and- not having sex.\", \"Monica: And they weren't looking at you before?!\", 'Monica: Are you okay, sweetie?', 'Monica: (explaining to the others) Carol moved her stuff out today.']\n"
     ]
    }
   ],
   "source": [
    "print(Line[:5])"
   ]
  },
  {
   "cell_type": "code",
   "execution_count": 27,
   "metadata": {},
   "outputs": [
    {
     "name": "stdout",
     "output_type": "stream",
     "text": [
      "Monica: There's nothing to tell! He's just some guy I work with!\n",
      "Monica: Okay, everybody relax. This is not even a date. It's just two people going out to dinner and- not having sex.\n",
      "Monica: And they weren't looking at you before?!\n"
     ]
    }
   ],
   "source": [
    "for item in Line[:3]:\n",
    "    print(item)"
   ]
  },
  {
   "cell_type": "code",
   "execution_count": 29,
   "metadata": {},
   "outputs": [],
   "source": [
    "f.close()\n",
    "f = open('Monica.txt','w', encoding='cp949')\n"
   ]
  },
  {
   "cell_type": "code",
   "execution_count": 34,
   "metadata": {},
   "outputs": [
    {
     "ename": "TypeError",
     "evalue": "can only concatenate str (not \"int\") to str",
     "output_type": "error",
     "traceback": [
      "\u001b[1;31m---------------------------------------------------------------------------\u001b[0m",
      "\u001b[1;31mTypeError\u001b[0m                                 Traceback (most recent call last)",
      "Cell \u001b[1;32mIn[34], line 2\u001b[0m\n\u001b[0;32m      1\u001b[0m \u001b[38;5;28;01mfor\u001b[39;00m item \u001b[38;5;129;01min\u001b[39;00m Line:\n\u001b[1;32m----> 2\u001b[0m     i\u001b[38;5;241m=\u001b[39m\u001b[43mi\u001b[49m\u001b[38;5;241;43m+\u001b[39;49m\u001b[38;5;241;43m1\u001b[39;49m\n\u001b[0;32m      3\u001b[0m     \u001b[38;5;28mprint\u001b[39m(i,item)\n",
      "\u001b[1;31mTypeError\u001b[0m: can only concatenate str (not \"int\") to str"
     ]
    }
   ],
   "source": [
    "i=0\n",
    "for item in Line:\n",
    "    i=i+1\n",
    "    print(i,item)\n"
   ]
  }
 ],
 "metadata": {
  "kernelspec": {
   "display_name": "Python 3",
   "language": "python",
   "name": "python3"
  },
  "language_info": {
   "codemirror_mode": {
    "name": "ipython",
    "version": 3
   },
   "file_extension": ".py",
   "mimetype": "text/x-python",
   "name": "python",
   "nbconvert_exporter": "python",
   "pygments_lexer": "ipython3",
   "version": "3.12.1"
  }
 },
 "nbformat": 4,
 "nbformat_minor": 2
}
