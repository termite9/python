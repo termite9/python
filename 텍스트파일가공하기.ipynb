{
 "cells": [
  {
   "cell_type": "markdown",
   "metadata": {},
   "source": [
    "# 텍스트파일 가공하기\n",
    "-모든 프로그램을 작성하고 저장하고 사용할 때 기본이 되는 파일 입출력을 연습합니다.  \n",
    "그리고 문자열을\n",
    "자유자재로 다룰 수 있는 정규표현식을 알아봅니다.  \n",
    "마지막으로 두 기술을 활용하여 드라마 대본을 마음대로 가공해 보겠습니다."
   ]
  },
  {
   "cell_type": "markdown",
   "metadata": {},
   "source": [
    "#### 파일 입출력 연습하기\n",
    "> import os\n",
    "\n",
    "> os.listdir()로 폴더안의 파일을 확인할 수있고\n",
    "- 이값은 리스트 형식으로 저장할 수 있으며, 이는 매우 중요한 사실로 이로 인한 결과값을\n",
    "- 다른 방식으로 활용할 수 있다. 예 .txt파일 만을 모아서 다른 폴더로 옮기거나, 특정한 문자가 들어 있는 파일만 몽땅 모아서 다른 폴더로 옮길 수 있는 작업등을 수행 할 수있다."
   ]
  },
  {
   "cell_type": "markdown",
   "metadata": {},
   "source": [
    "> 파일 열고 닫기\n",
    "- 파일열기 :open()함수\n",
    "- open()함수 사용법\n",
    "- 파일객체 = open('파일이름',파일열기모)"
   ]
  },
  {
   "cell_type": "code",
   "execution_count": 76,
   "metadata": {},
   "outputs": [],
   "source": [
    "f= open('a.txt','w')\n",
    "# 파이썬 프로그래밍을 할때 파일 입출력 공식이다 외워라\n"
   ]
  },
  {
   "cell_type": "markdown",
   "metadata": {},
   "source": [
    "- 파일 닫기: close() 함수\n",
    "- f.close()"
   ]
  },
  {
   "cell_type": "markdown",
   "metadata": {},
   "source": [
    "> 파일 열기 모드 알아보기\n",
    "- 'w' : 파일에 내용을 새로 쓸 때 사용\n",
    "- 'r' : 파일 내용을 읽을 때\n",
    "- 'a' : 파일에 내용을 추가할 때 사"
   ]
  },
  {
   "cell_type": "code",
   "execution_count": 64,
   "metadata": {},
   "outputs": [],
   "source": [
    "# 파일쓰기모드 \"w\"\n",
    "f= open('a.txt','w')\n",
    "\n",
    "f.write('나는 오늘 파이썬을 공부한다.''\\n')\n",
    "f.write('오늘 하루도 특별하다. 오늘도 이렇게 무사히 책상에 앉아 파이썬을 공부할 수 있어 다행이다''\\n')\n",
    "f.write('그럼에도 불구하고 귤을 먹고싶다.')\n",
    "f.close()"
   ]
  },
  {
   "cell_type": "code",
   "execution_count": 65,
   "metadata": {},
   "outputs": [
    {
     "data": {
      "text/plain": [
       "'나는 오늘 파이썬을 공부한다.\\n오늘 하루도 특별하다. 오늘도 이렇게 무사히 책상에 앉아 파이썬을 공부할 수 있어 다행이다\\n그럼에도 불구하고 귤을 먹고싶다.'"
      ]
     },
     "execution_count": 65,
     "metadata": {},
     "output_type": "execute_result"
    }
   ],
   "source": [
    "# 파일 읽기 모드 \"r\"\n",
    "\n",
    "f = open('a.txt','r')\n",
    "f.read()\n",
    "\n",
    "f.read()  # 커서가 맨 끝으로 가서 더 이상 읽을 내용이 없다\n",
    "\n",
    "# a.txt.를 다시 읽으려면 f.seek(0)이라고 명령해야한다.\n",
    "f.seek(0)\n",
    "f.read()"
   ]
  },
  {
   "cell_type": "code",
   "execution_count": 66,
   "metadata": {},
   "outputs": [
    {
     "name": "stdout",
     "output_type": "stream",
     "text": [
      "나는 오늘 파이썬을 공부한다.\n",
      "오늘 하루도 특별하다. 오늘도 이렇게 무사히 책상에 앉아 파이썬을 공부할 수 있어 다행이다\n",
      "그럼에도 불구하고 귤을 먹고싶다.\n",
      "나는 오늘\n"
     ]
    }
   ],
   "source": [
    "#  f.read()로 읽은 내용은 문자열 형태로 저장된다. 즉 문자열을 가공할 때 쓰는 모든 기능을 편리하게 활용할 수 있다는 것이다.\n",
    "\n",
    "f = open('a.txt','r')\n",
    "diary= f.read()\n",
    "print(diary)\n",
    "print(diary[:5])"
   ]
  },
  {
   "cell_type": "code",
   "execution_count": 67,
   "metadata": {},
   "outputs": [],
   "source": [
    "f.close()"
   ]
  },
  {
   "cell_type": "markdown",
   "metadata": {},
   "source": [
    "- 파일 내용 추가모드 'a"
   ]
  },
  {
   "cell_type": "code",
   "execution_count": 68,
   "metadata": {},
   "outputs": [
    {
     "data": {
      "text/plain": [
       "'나는 오늘 파이썬을 공부한다.\\n오늘 하루도 특별하다. 오늘도 이렇게 무사히 책상에 앉아 파이썬을 공부할 수 있어 다행이다\\n그럼에도 불구하고 귤을 먹고싶다.내용을 추가합니다'"
      ]
     },
     "execution_count": 68,
     "metadata": {},
     "output_type": "execute_result"
    }
   ],
   "source": [
    "# 앞에서 만든 a.txt에 문장을 추가하겠습니다.\n",
    "f = open('a.txt','a')\n",
    "f.write('내용을 추가합니다')\n",
    "f.close()\n",
    "f = open('a.txt','r')\n",
    "f.read()\n"
   ]
  },
  {
   "cell_type": "markdown",
   "metadata": {},
   "source": [
    "> with문으로 객체를 만들지 않고 파일 입출력하기\n",
    "- 파일을 입출력할 때 마다 객체 f 를 만드는 것은 가끔 문제를 일으킨다. 닫지 않고 삭제를 하려한다는 것등\n",
    "- open()함수로 열면 반드시 close()함수로 닫아야만 하는 강제가 생긴다. 이런 번거로운 문제를 피하려면\n",
    "\n",
    "> with문을 사용해 파일을 열면된다.\n",
    "- with문 사용법\n",
    " - with open(파일이름,파일 열기 모드)  as f:  \n",
    "  f에 수행할명령 "
   ]
  },
  {
   "cell_type": "code",
   "execution_count": 69,
   "metadata": {},
   "outputs": [],
   "source": [
    "with open('test.txt','w')as f:\n",
    "    f.write('나는 오늘 학교에 갔습니다')\n",
    "\n",
    "# 이제 f.close()로 매번 닫지 않아도 됩니다. 그러나 들여쓰기를 지켜야 하는 번거로움이 있어, 필자는 with문을 사용하지 않고\n",
    "    # 매번 f.close()를 사용한답니다."
   ]
  },
  {
   "cell_type": "markdown",
   "metadata": {},
   "source": [
    "> 한글파일 오류 해결하기\n",
    "- 한글로 된 파일제목을 입출력할 때 코덱 오류가 발생하기도 한다. \n",
    "- 이를 해결하기 위해서 encoding='utf8'을 추가해준다\n",
    "- f= open('한글파일'txt,'w',encoding='utf8')"
   ]
  },
  {
   "cell_type": "code",
   "execution_count": 70,
   "metadata": {},
   "outputs": [
    {
     "data": {
      "text/plain": [
       "'한글파일명은 깨지기도한다'"
      ]
     },
     "execution_count": 70,
     "metadata": {},
     "output_type": "execute_result"
    }
   ],
   "source": [
    "import os,re\n",
    "f=open('한글파일.txt','w')\n",
    "f.write('한글파일명은 깨지기도한다')\n",
    "f.close()\n",
    "\n",
    "f =open('한글파일.txt','r')\n",
    "f.read()"
   ]
  },
  {
   "cell_type": "code",
   "execution_count": 71,
   "metadata": {},
   "outputs": [],
   "source": [
    "# 또는 codecs라는 기본 모듈을 임포트해서 해결하는 방법도 있습니다.\n",
    "import codecs\n"
   ]
  },
  {
   "cell_type": "markdown",
   "metadata": {},
   "source": [
    "### 정규표현식으로 문자열 다루기"
   ]
  },
  {
   "cell_type": "code",
   "execution_count": 72,
   "metadata": {},
   "outputs": [
    {
     "data": {
      "text/plain": [
       "[]"
      ]
     },
     "execution_count": 72,
     "metadata": {},
     "output_type": "execute_result"
    }
   ],
   "source": [
    "# 정규표현식이란? \n",
    "import re # 정규표현식 모듈은 re다\n",
    "example = '이동민 교수님은 다음과 같이 설명했습니다.(이동민,2019). 그런데 다른 교수님은 이 문제에 대해 다른 견해를 가지고 있습니다(최재영,2020).또 다른 견해도 있습니다.(Lion,2018)'\n",
    "result = re.findall(r'\\([A-za-z가-힣]+,\\d +\\)',example)\n",
    "\n",
    "result\n",
    "\n",
    "# 파이썬 명령어와 정규표현식을 사용하면 어떤 문자로 작업을 하던 엄청나게 강력한 작업을 할 수 있다."
   ]
  },
  {
   "cell_type": "markdown",
   "metadata": {},
   "source": [
    "> 정규표현식의 정의와 필요성\n",
    "> Regular expression( re)  -> 특정한 문자의 규칙을 찾고 가공하는 방법 이라고 할 수 있다.\n",
    "-  파이썬 뿐만 아니라 C,C++,자바등에서 표준 라이브러리로 제공하고 있다는 점에서 널리 사용되는 표현법이다.\n",
    "- 악기 연주하듯 정규표현식을 매일 연습하자\n",
    "- 아는 것과 그것을 활용하는 것은 별개의 문제입니다.\n",
    "- 패턴을 잘 만드는 연습이 필요합니다."
   ]
  },
  {
   "cell_type": "markdown",
   "metadata": {},
   "source": [
    "> match메서드사용법 - 문자열 에서 원하는 텍스트를 찾는 사용법으로 해당 문자열의 가장 처음부터 원하는패턴의 문자열을 찾는 명령어\n",
    "- re.match(패턴,문자열)"
   ]
  },
  {
   "cell_type": "code",
   "execution_count": 73,
   "metadata": {},
   "outputs": [
    {
     "data": {
      "text/plain": [
       "'life'"
      ]
     },
     "execution_count": 73,
     "metadata": {},
     "output_type": "execute_result"
    }
   ],
   "source": [
    "import re\n",
    "pattern = r'life' #패턴을 객체에 저장합니다. 패턴 앞에는 'r을 붙여줍니다.\n",
    "script ='life' #패턴과 같은 스크립트를 다른 객체에 저장합니다.\n",
    "re.match(pattern,script)\n",
    "re.match(pattern,script).group() #group()메서드를 사용하여 매치된 내용을 반환합니다.\n",
    "# 메서드란? 클래스 안에 지정된 함수를 말합니다. 클래스란 객체 지향 프로그래밍의 기본 단위를 말합니다."
   ]
  },
  {
   "cell_type": "code",
   "execution_count": 74,
   "metadata": {},
   "outputs": [
    {
     "data": {
      "text/plain": [
       "'life'"
      ]
     },
     "execution_count": 74,
     "metadata": {},
     "output_type": "execute_result"
    }
   ],
   "source": [
    "#다음과 같이 쓸 수도 있다,\n",
    "re.match(r'life','life').group()"
   ]
  },
  {
   "cell_type": "code",
   "execution_count": 75,
   "metadata": {},
   "outputs": [
    {
     "ename": "AttributeError",
     "evalue": "'NoneType' object has no attribute 'group'",
     "output_type": "error",
     "traceback": [
      "\u001b[1;31m---------------------------------------------------------------------------\u001b[0m",
      "\u001b[1;31mAttributeError\u001b[0m                            Traceback (most recent call last)",
      "Cell \u001b[1;32mIn[75], line 1\u001b[0m\n\u001b[1;32m----> 1\u001b[0m \u001b[43mre\u001b[49m\u001b[38;5;241;43m.\u001b[39;49m\u001b[43mmatch\u001b[49m\u001b[43m(\u001b[49m\u001b[38;5;124;43mr\u001b[39;49m\u001b[38;5;124;43m'\u001b[39;49m\u001b[38;5;124;43mlife\u001b[39;49m\u001b[38;5;124;43m'\u001b[39;49m\u001b[43m,\u001b[49m\u001b[38;5;124;43m'\u001b[39;49m\u001b[38;5;124;43manimal\u001b[39;49m\u001b[38;5;124;43m'\u001b[39;49m\u001b[43m)\u001b[49m\u001b[38;5;241;43m.\u001b[39;49m\u001b[43mgroup\u001b[49m()\n\u001b[0;32m      2\u001b[0m \u001b[38;5;66;03m#매칭이 되지 않아 바로 에러가 발생하는 것을 확인 할 수 있다.\u001b[39;00m\n",
      "\u001b[1;31mAttributeError\u001b[0m: 'NoneType' object has no attribute 'group'"
     ]
    }
   ],
   "source": [
    "re.match(r'life','animal').group()\n",
    "#매칭이 되지 않아 바로 에러가 발생하는 것을 확인 할 수 있다."
   ]
  },
  {
   "cell_type": "code",
   "execution_count": null,
   "metadata": {},
   "outputs": [
    {
     "name": "stdout",
     "output_type": "stream",
     "text": [
      "Match!\n"
     ]
    },
    {
     "data": {
      "text/plain": [
       "'life'"
      ]
     },
     "execution_count": 11,
     "metadata": {},
     "output_type": "execute_result"
    }
   ],
   "source": [
    "# 어떤 원고에 특정패턴이 있는지 쉽게 확인 할 수 있는 조건문을 만들어 함수로 정의해 놓으면 사용이 편리하다.\n",
    "import re\n",
    "\n",
    "def refinder(pattern,script):  #refinder라는 함수를 정의한다.\n",
    "    if re.match(pattern,script):  #원고에서 패턴을 찾을 수 있다면\n",
    "        print('Match!')\n",
    "    else:\n",
    "        print('Not a match')\n",
    "        \n",
    "pattern= r'life'\n",
    "script='life is so cool'\n",
    "\n",
    "refinder(pattern,script)\n",
    "re.search(pattern,script).group()\n",
    "\n",
    "\n",
    "#match는 대소문자를 구분한다.\n"
   ]
  },
  {
   "cell_type": "code",
   "execution_count": null,
   "metadata": {},
   "outputs": [
    {
     "name": "stdout",
     "output_type": "stream",
     "text": [
      "Not a match\n"
     ]
    }
   ],
   "source": [
    "# is를 찾을 수 있을까요?\n",
    "script = 'life is so cool'\n",
    "\n",
    "pattern = r'is'\n",
    "# script = 'life is so cool'\n",
    "refinder(pattern,script)\n",
    "\n",
    "#match는 문자열의 시작부터 매칭되는지 찾는 함수이기 때문에 텍스트 중간에 있는 패턴을 찾지 못한다."
   ]
  },
  {
   "cell_type": "markdown",
   "metadata": {},
   "source": [
    "### search메서드 - 문자열 전체에서 패턴 찾기"
   ]
  },
  {
   "cell_type": "markdown",
   "metadata": {},
   "source": [
    "> 사용방법 re.search(패턴,문자열)"
   ]
  },
  {
   "cell_type": "code",
   "execution_count": null,
   "metadata": {},
   "outputs": [],
   "source": [
    "# match와 비슷하지만 조금은 다른 search에대해서 알아보자-\n",
    "#search메서드 : 문자열 전체에서 패턴찾기\n",
    "script = 'life is so cool'\n",
    "\n",
    "pattern = r'is'\n",
    "re.search(pattern,script).group()\n"
   ]
  },
  {
   "cell_type": "markdown",
   "metadata": {},
   "source": [
    "> 꼭 알아야할 정규 표현식\n",
    "- \\d : 숫자와 매치,[0-9]와 같습니다.\n",
    "- \\D : 숫자가 아닌 거과 매치[^0-9]와 같습니다\n",
    "- \\s : whitespace문자와 매치,[\\t\\n\\r\\f\\v]와 같습니다. 맨앞의 빈칸은 공백(space)을 의미합니다.\n",
    "  - whitespace란? 컴퓨터에서 콘솔이나 프린터로 찍었을 때 공백을 표현하는 문자들을 의미한다.\n",
    "- \\S : whitespace 문자가 아닌것[^\\t\\n\\r\\v]와 같습니다.\n",
    "- \\w : 문자+숫자와의 매치 [a-zA-Z0-9]와 같습니다.\n",
    "- \\W : 문자+숫자가 아닌 문자와 매치\n",
    "- \\\\ : 메타문자(정규식에서 특별한 의미를 지니는 영문자가 아닌 문자 [* + ? $ ^ . () | \\ {} [])가 아닌 일반 문자 역슬래시(\\)와 매치. 메타문자앞에 w자를 붙이면 일반문자를 의미합니다.\n",
    "\n",
    "- 저자의잔소리: 아는 것 보다 한번이라도 사용해서 문자를 추출해보는 연습을 하는 것이 중요하다."
   ]
  },
  {
   "cell_type": "markdown",
   "metadata": {},
   "source": [
    "### findall메서드\n",
    "- 패턴을 모두 찾아 리스트로 반환하기"
   ]
  },
  {
   "cell_type": "markdown",
   "metadata": {},
   "source": [
    "-findall메서드 사용법  re,findall(패턴,찾으려는문자열)\n",
    "- 특정패턴을 모두 찾아서 리스트형태로 반환한다."
   ]
  },
  {
   "cell_type": "code",
   "execution_count": null,
   "metadata": {},
   "outputs": [
    {
     "data": {
      "text/plain": [
       "['y ', 'r ', 's ', '* ', 'd ', 's ', 'r ', 's ']"
      ]
     },
     "execution_count": 24,
     "metadata": {},
     "output_type": "execute_result"
    }
   ],
   "source": [
    "number = \"my numbr is 650925-154**** and yours number is 720522-523***8\"\n",
    "re.findall(r'\\d{6}',number) #{6}은 숫자를 6번 반복한 값을 의미한다.\n",
    "re.findall(r'\\D\\s',number) #{6}은 숫자를 6번 반복한 값을 의미한다."
   ]
  },
  {
   "cell_type": "markdown",
   "metadata": {},
   "source": [
    "> 정규표현식의 탐욕 제어하기: 마침표(.)와 물음표(?)"
   ]
  },
  {
   "cell_type": "code",
   "execution_count": null,
   "metadata": {},
   "outputs": [
    {
     "name": "stderr",
     "output_type": "stream",
     "text": [
      "<>:4: SyntaxWarning: invalid escape sequence '\\d'\n",
      "<>:4: SyntaxWarning: invalid escape sequence '\\d'\n",
      "C:\\Users\\고창섭\\AppData\\Local\\Temp\\ipykernel_14360\\1800174610.py:4: SyntaxWarning: invalid escape sequence '\\d'\n",
      "  re.findall('\\d.?년',ex)\n"
     ]
    },
    {
     "data": {
      "text/plain": [
       "['65년', '97년', '23년']"
      ]
     },
     "execution_count": 4,
     "metadata": {},
     "output_type": "execute_result"
    }
   ],
   "source": [
    "ex='저는65년에 태어났습니다. , 97년에는 imf가 있었습니다. 지금은 2023년 입니다'\n",
    "# re.findall('\\d.+년',ex)\n",
    "# re.findall('\\d+년',ex)\n",
    "re.findall('\\d.?년',ex)"
   ]
  },
  {
   "cell_type": "code",
   "execution_count": null,
   "metadata": {},
   "outputs": [
    {
     "data": {
      "text/plain": [
       "['(이동민, 2019)', '(최재영, 2018)', '(Lion, 2018)']"
      ]
     },
     "execution_count": 5,
     "metadata": {},
     "output_type": "execute_result"
    }
   ],
   "source": [
    "example=\"이동민 교수는(이동민, 2019). 그런데 다른학자는(최재영, 2018). 그리고 다른학자의 견해는(Lion, 2018)\"\n",
    "# re.findall(r'\\(.+\\)',example)\n",
    "re.findall(r'\\(.+?\\)',example)"
   ]
  },
  {
   "cell_type": "markdown",
   "metadata": {},
   "source": [
    "> splite메서드 - 문장 나누는 패턴 만들기\n",
    "- 마침표,느낌표,물음표로 끈나는 특성을 이용하여 문장을 나눈다.\n",
    "- 사용법  re.splite(패턴,문자열)"
   ]
  },
  {
   "cell_type": "code",
   "execution_count": null,
   "metadata": {},
   "outputs": [],
   "source": [
    "import re"
   ]
  },
  {
   "cell_type": "code",
   "execution_count": null,
   "metadata": {},
   "outputs": [
    {
     "data": {
      "text/plain": [
       "[' I have a lovely dog',\n",
       " ' really,   I am not telling a lie',\n",
       " ' What a pretty dog',\n",
       " '  I love this dog']"
      ]
     },
     "execution_count": 7,
     "metadata": {},
     "output_type": "execute_result"
    }
   ],
   "source": [
    "sentence= ' I have a lovely dog. really,   I am not telling a lie. What a pretty dog!  I love this dog'\n",
    "re.split(r'[.!?]',sentence)"
   ]
  },
  {
   "cell_type": "code",
   "execution_count": null,
   "metadata": {},
   "outputs": [
    {
     "data": {
      "text/plain": [
       "[' I have a lovely dog',\n",
       " ' really,   I am not telling a lie',\n",
       " ' What a pretty dog!  I love this dog']"
      ]
     },
     "execution_count": 8,
     "metadata": {},
     "output_type": "execute_result"
    }
   ],
   "source": [
    "sentence= ' I have a lovely dog. really,   I am not telling a lie. What a pretty dog!  I love this dog'\n",
    "re.split(r'[.]',sentence)"
   ]
  },
  {
   "cell_type": "code",
   "execution_count": null,
   "metadata": {},
   "outputs": [
    {
     "name": "stdout",
     "output_type": "stream",
     "text": [
      "['a', '3']\n",
      "[' b', '4']\n",
      "[' c', '5']\n"
     ]
    }
   ],
   "source": [
    "data='a:3; b:4; c:5'\n",
    "for i in re.split(r';',data):\n",
    "    print(re.split(r':',i))\n"
   ]
  },
  {
   "cell_type": "markdown",
   "metadata": {},
   "source": [
    "> sub 메서드 - 문자열 바꾸기\n",
    "- sub메서드 처럼 많이 쓰이는 명령어도 드뭅니다.\n",
    "- 사용법 re.sub(찾을 패턴, 대체할 문자, 찾을 문자열)"
   ]
  },
  {
   "cell_type": "code",
   "execution_count": null,
   "metadata": {},
   "outputs": [
    {
     "data": {
      "text/plain": [
       "' I have a lovely cat. really,   I am not telling a lie. What a pretty cat!  I love this cat'"
      ]
     },
     "execution_count": 10,
     "metadata": {},
     "output_type": "execute_result"
    }
   ],
   "source": [
    "sentence= ' I have a lovely dog. really,   I am not telling a lie. What a pretty dog!  I love this dog'\n",
    "re.sub(r'dog','cat',sentence)"
   ]
  },
  {
   "cell_type": "code",
   "execution_count": null,
   "metadata": {},
   "outputs": [
    {
     "name": "stdout",
     "output_type": "stream",
     "text": [
      "I am home now. \n",
      "\n",
      "\n",
      "I am with my cat. \n",
      "\n",
      "\n"
     ]
    }
   ],
   "source": [
    "# 특히 불필요한 공백을 없애는 데 많이 활용됩니다.\n",
    "# 인터넷에서 내려받은 텍스트 파일에는 불필요한 공백이 많습니다.\n",
    "\n",
    "words = 'I am home now. \\n\\n\\nI am with my cat. \\n\\n'\n",
    "print(words)\n"
   ]
  },
  {
   "cell_type": "code",
   "execution_count": null,
   "metadata": {},
   "outputs": [
    {
     "data": {
      "text/plain": [
       "'I am home now. I am with my cat. '"
      ]
     },
     "execution_count": 12,
     "metadata": {},
     "output_type": "execute_result"
    }
   ],
   "source": [
    "re.sub(r'\\n','',words)"
   ]
  },
  {
   "cell_type": "code",
   "execution_count": null,
   "metadata": {},
   "outputs": [
    {
     "ename": "TypeError",
     "evalue": "sub() missing 3 required positional arguments: 'pattern', 'repl', and 'string'",
     "output_type": "error",
     "traceback": [
      "\u001b[1;31m---------------------------------------------------------------------------\u001b[0m",
      "\u001b[1;31mTypeError\u001b[0m                                 Traceback (most recent call last)",
      "Cell \u001b[1;32mIn[13], line 1\u001b[0m\n\u001b[1;32m----> 1\u001b[0m \u001b[43mre\u001b[49m\u001b[38;5;241;43m.\u001b[39;49m\u001b[43msub\u001b[49m\u001b[43m(\u001b[49m\u001b[43m)\u001b[49m\n",
      "\u001b[1;31mTypeError\u001b[0m: sub() missing 3 required positional arguments: 'pattern', 'repl', and 'string'"
     ]
    }
   ],
   "source": [
    "re.sub()"
   ]
  },
  {
   "cell_type": "markdown",
   "metadata": {},
   "source": [
    "> ly로 끝나는 단어 추출하기\n"
   ]
  },
  {
   "cell_type": "code",
   "execution_count": null,
   "metadata": {},
   "outputs": [
    {
     "data": {
      "text/plain": [
       "['lovely', 'really']"
      ]
     },
     "execution_count": 9,
     "metadata": {},
     "output_type": "execute_result"
    }
   ],
   "source": [
    "sentence= ' I have a lovely dog. really,   I am not telling a lie. What a pretty dog!  I love this dog'\n",
    "re.findall(r'\\w+ly',sentence)"
   ]
  },
  {
   "cell_type": "markdown",
   "metadata": {},
   "source": [
    "### 드라마 대본 텍스트 파일 가공하기\n",
    "- 대량의 텍스트에서 특정 패턴을 찾는 연습\n",
    "- 드라마 대본은 문자열이 나름의 규칙을 가지고 있어 정규표현식을 연습하기 좋다.\n",
    "- 미드'프랜즈'대본으로 영어공부자료를 만들자\n",
    "    - 특정 등장인물의 대사만 모으기\n",
    "    - 등장인물 리스트 만들기\n",
    "    - 지문만 따로 모으기\n",
    "    - 측정 단어가 들어 있는 대사만 모으기"
   ]
  },
  {
   "cell_type": "code",
   "execution_count": null,
   "metadata": {},
   "outputs": [],
   "source": [
    "import os, re\n"
   ]
  },
  {
   "cell_type": "code",
   "execution_count": null,
   "metadata": {},
   "outputs": [],
   "source": [
    "f= open('fr101.txt', 'r', encoding='cp949')\n",
    "sc101 =f.read()"
   ]
  },
  {
   "cell_type": "code",
   "execution_count": null,
   "metadata": {},
   "outputs": [
    {
     "name": "stdout",
     "output_type": "stream",
     "text": [
      "The One Where Monica Gets a New Roommate (The Pilot-The Uncut Version)\n",
      "Written by: Marta Kauffman & \n"
     ]
    }
   ],
   "source": [
    "print(sc101[:100])"
   ]
  },
  {
   "cell_type": "markdown",
   "metadata": {},
   "source": [
    "> 특정 등장인물의 대사만 모으기\n",
    "- findall은 찾은 조건식을 모두 리스트로 만들어 준다는 점에서 쉽게 사용할 수 있다."
   ]
  },
  {
   "cell_type": "code",
   "execution_count": null,
   "metadata": {},
   "outputs": [],
   "source": [
    "# Line = re.findall(r'Monica:.+',script101)\n",
    "Li= re.findall(r'Monica:.+',sc101)\n",
    "# Monica다음에 아무 문자나 반복되는 (.+)패턴을 리스트에 반환한다."
   ]
  },
  {
   "cell_type": "code",
   "execution_count": null,
   "metadata": {},
   "outputs": [
    {
     "name": "stdout",
     "output_type": "stream",
     "text": [
      "[\"Monica: There's nothing to tell! He's just some guy I work with!\", \"Monica: Okay, everybody relax. This is not even a date. It's just two people going out to dinner and- not having sex.\", \"Monica: And they weren't looking at you before?!\", 'Monica: Are you okay, sweetie?', 'Monica: (explaining to the others) Carol moved her stuff out today.']\n"
     ]
    }
   ],
   "source": [
    "print(Li[:5])"
   ]
  },
  {
   "cell_type": "code",
   "execution_count": null,
   "metadata": {},
   "outputs": [
    {
     "name": "stdout",
     "output_type": "stream",
     "text": [
      "Monica: There's nothing to tell! He's just some guy I work with!\n",
      "Monica: Okay, everybody relax. This is not even a date. It's just two people going out to dinner and- not having sex.\n",
      "Monica: And they weren't looking at you before?!\n"
     ]
    }
   ],
   "source": [
    "for item in Li[:3]:\n",
    "    print(item)"
   ]
  },
  {
   "cell_type": "code",
   "execution_count": null,
   "metadata": {},
   "outputs": [],
   "source": [
    "f.close()\n",
    "f = open('Monica.txt','w', encoding='cp949')\n"
   ]
  },
  {
   "cell_type": "code",
   "execution_count": null,
   "metadata": {},
   "outputs": [
    {
     "name": "stdout",
     "output_type": "stream",
     "text": [
      "1 Monica: There's nothing to tell! He's just some guy I work with!\n",
      "2 Monica: Okay, everybody relax. This is not even a date. It's just two people going out to dinner and- not having sex.\n",
      "3 Monica: And they weren't looking at you before?!\n",
      "4 Monica: Are you okay, sweetie?\n",
      "5 Monica: (explaining to the others) Carol moved her stuff out today.\n",
      "6 Monica: (to Ross) Let me get you some coffee.\n",
      "7 Monica: No you don't.\n",
      "8 Monica: Oh really, so that hysterical phone call I got from a woman at sobbing 3:00 A.M., \"I'll never have grandchildren, I'll never have grandchildren.\" was what?  A wrong number?\n",
      "9 Monica: Rachel?!\n",
      "10 Monica: (pointing at Rachel) De-caff. (to All) Okay, everybody, this is Rachel, another Lincoln High survivor. (to Rachel) This is everybody, this is Chandler, and Phoebe, and Joey, and- you remember my brother Ross?\n",
      "11 Monica: So you wanna tell us now, or are we waiting for four wet bridesmaids?\n",
      "12 Monica: Who wasn't invited to the wedding.\n",
      "13 Monica: Now I'm guessing that he bought her the big pipe organ, and she's really not happy about it.\n",
      "14 Monica: Well, I guess we've established who's staying here with Monica...\n",
      "15 Monica: Just breathe, breathe.. that's it. Just try to think of nice calm things... Phoebe: (sings) Raindrops on roses and rabbits and kittens, (Rachel and Monica turn to look at her.) bluebells and sleighbells and- something with mittens... La la la la...something and noodles with string.  These are a few...\n",
      "16 Monica: Okay, look, this is probably for the best, y'know? Independence. Taking control of your life.  The whole, 'hat' thing.\n",
      "17 Monica: Joey, stop hitting on her! It's her wedding day!\n",
      "18 Monica: Oh God, is it 6:30?  Buzz him in!\n",
      "19 Monica: Maybe. Joey: Wait. Your 'not a real date' tonight is with Paul the Wine Guy?\n",
      "20 Monica: Yes!\n",
      "21 Monica: Rach, wait, I can cancel...\n",
      "22 Monica: (to Ross) Are, are you okay? I mean, do you want me to stay?\n",
      "23 Monica: (horrified) Really?\n",
      "24 Monica: Hi, come in! Paul, this is.. (They are all lined up next to the door.)... everybody, everybody, this is Paul.\n",
      "25 Monica: Okay, umm-umm, I'll just--I'll be right back, I just gotta go ah, go ah...\n",
      "26 Monica: Change!  Okay, sit down. (Shows Paul in) Two seconds.\n",
      "27 Monica: (yelling from the bedroom) Shut up, Joey!\n",
      "28 Monica: Oh my God!\n",
      "29 Monica: My brother's going through that right now, he's such a mess. How did you get through it?\n",
      "30 Monica: -leg?\n",
      "31 Monica: You actually broke her watch?  Wow!  The worst thing I ever did was, I-I shredded by boyfriend's favorite bath towel.\n",
      "32 Monica: That's right. [Scene: Monica's Apartment, Rachel is talking on the phone and pacing.]\n",
      "33 Monica: What?..... What, you wanna spell it out with noodles?\n",
      "34 Monica: Oh, so there is gonna be a fifth date?\n",
      "35 Monica: Yeah... yeah, I think there is. -What were you gonna say?\n",
      "36 Monica: (spitting out her drink in shock) Oh God, oh God, I am sorry... I am so sorry...\n",
      "37 Monica: I know being spit on is probably not what you need right now. Um... how long?\n",
      "38 Monica: Wow! I'm-I'm-I'm glad you smashed her watch!\n",
      "39 Monica: (pause)...Yeah. Yeah, I do.\n",
      "40 Monica: (entering, to herself) Oh good, Lenny and Squigy are here.\n",
      "41 Monica: Stop!\n",
      "42 Monica: We'll talk later.\n",
      "43 Monica: Shut up, and put my table back.\n",
      "44 Monica: Yeah, we all have jobs. See, that's how we buy stuff.\n",
      "45 Monica: Oh wait, wait, unless you happened to catch the Reruns' production of Pinocchio, at the little theater in the park.\n",
      "46 Monica: So how you doing today? Did you sleep okay? Talk to Barry? I can't stop smiling.\n",
      "47 Monica: I know, he's just so, so... Do you remember you and Tony DeMarco?\n",
      "48 Monica: Well, it's like that. With feelings.\n",
      "49 Monica: Big time!\n",
      "50 Monica: I think we are getting a little ahead of selves here. Okay. Okay. I am just going to get up, go to work and not think about him all day. Or else I'm just gonna get up and go to work.\n",
      "51 Monica: What for?\n",
      "52 Monica: Hey Frannie, welcome back! How was Florida?\n",
      "53 Monica: How do you do that?\n",
      "54 Monica: You know Paul?\n",
      "55 Monica: You mean you know Paul like I know Paul?\n",
      "56 Monica: Why?! Why? Why, why would anybody do something like that?\n",
      "57 Monica: I hate men!  I hate men!\n",
      "58 Monica: Is it me? Is it like I have some sort of beacon that only dogs and men with severe emotional problems can hear?\n",
      "59 Monica: I just thought he was nice, y'know?\n",
      "60 Monica: How'd you pay for them?\n",
      "61 Monica: And who pays for that?\n",
      "62 Monica: C'mon, you can't live off your parents your whole life.\n",
      "63 Monica: All right, you ready?\n",
      "64 Monica: You can, I know you can!\n",
      "65 Monica:  Rachel!  That was a library card!\n",
      "66 Monica: Welcome to the real world! It sucks. You're gonna love it!\n",
      "67 Monica: Well, that's it (To Ross) You gonna crash on the couch?\n",
      "68 Monica: You be okay?\n",
      "69 Monica: That's Paul's watch. You just put it back where you found it. Oh boy. Alright. Goodnight, everybody.\n",
      "70 Monica: See ya.... Waitwait, what's with you?\n",
      "71 Monica: What? I-I said you had a-\n",
      "72 Monica: (to Phoebe) Would you stop?\n",
      "73 Monica: I said that you had a nice butt, it's just not a great butt.\n"
     ]
    }
   ],
   "source": [
    "i=0\n",
    "for item in Li:\n",
    "    i=i+1\n",
    "    print(i,item)\n"
   ]
  },
  {
   "cell_type": "code",
   "execution_count": null,
   "metadata": {},
   "outputs": [],
   "source": [
    "monica=\"\""
   ]
  },
  {
   "cell_type": "code",
   "execution_count": null,
   "metadata": {},
   "outputs": [],
   "source": [
    "for i in Li:\n",
    "    monica += i"
   ]
  },
  {
   "cell_type": "code",
   "execution_count": null,
   "metadata": {},
   "outputs": [
    {
     "name": "stdout",
     "output_type": "stream",
     "text": [
      "Monica: There's nothing to tell! He's just some guy I work with!Monica: Okay, everybody relax. This is not even a date. It's just two people going out to dinner and- not having sex.Monica: And they weren't looking at you before?!Monica: Are you okay, sweetie?Monica: (explaining to the others) Carol moved her stuff out today.Monica: (to Ross) Let me get you some coffee.Monica: No you don't.Monica: Oh really, so that hysterical phone call I got from a woman at sobbing 3:00 A.M., \"I'll never have grandchildren, I'll never have grandchildren.\" was what?  A wrong number?Monica: Rachel?!Monica: (pointing at Rachel) De-caff. (to All) Okay, everybody, this is Rachel, another Lincoln High survivor. (to Rachel) This is everybody, this is Chandler, and Phoebe, and Joey, and- you remember my brother Ross?Monica: So you wanna tell us now, or are we waiting for four wet bridesmaids?Monica: Who wasn't invited to the wedding.Monica: Now I'm guessing that he bought her the big pipe organ, and she's really not happy about it.Monica: Well, I guess we've established who's staying here with Monica...Monica: Just breathe, breathe.. that's it. Just try to think of nice calm things...Monica: Okay, look, this is probably for the best, y'know? Independence. Taking control of your life.  The whole, 'hat' thing.Monica: Joey, stop hitting on her! It's her wedding day!Monica: Oh God, is it 6:30?  Buzz him in!Monica: Maybe. Joey: Wait. Your 'not a real date' tonight is with Paul the Wine Guy?Monica: Yes!Monica: Rach, wait, I can cancel...Monica: (to Ross) Are, are you okay? I mean, do you want me to stay?Monica: (horrified) Really?Monica: Hi, come in! Paul, this is.. (They are all lined up next to the door.)... everybody, everybody, this is Paul.Monica: Okay, umm-umm, I'll just--I'll be right back, I just gotta go ah, go ah...Monica: Change!  Okay, sit down. (Shows Paul in) Two seconds.Monica: (yelling from the bedroom) Shut up, Joey!Monica: Oh my God!Monica: My brother's going through that right now, he's such a mess. How did you get through it?Monica: -leg?Monica: You actually broke her watch?  Wow!  The worst thing I ever did was, I-I shredded by boyfriend's favorite bath towel.Monica: That's right. [Scene: Monica's Apartment, Rachel is talking on the phone and pacing.]Monica: What?..... What, you wanna spell it out with noodles?Monica: Oh, so there is gonna be a fifth date?Monica: Yeah... yeah, I think there is. -What were you gonna say?Monica: (spitting out her drink in shock) Oh God, oh God, I am sorry... I am so sorry...Monica: I know being spit on is probably not what you need right now. Um... how long?Monica: Wow! I'm-I'm-I'm glad you smashed her watch!Monica: (pause)...Yeah. Yeah, I do.Monica: (entering, to herself) Oh good, Lenny and Squigy are here.Monica: Stop!Monica: We'll talk later.Monica: Shut up, and put my table back.Monica: Yeah, we all have jobs. See, that's how we buy stuff.Monica: Oh wait, wait, unless you happened to catch the Reruns' production of Pinocchio, at the little theater in the park.Monica: So how you doing today? Did you sleep okay? Talk to Barry? I can't stop smiling.Monica: I know, he's just so, so... Do you remember you and Tony DeMarco?Monica: Well, it's like that. With feelings.Monica: Big time!Monica: I think we are getting a little ahead of selves here. Okay. Okay. I am just going to get up, go to work and not think about him all day. Or else I'm just gonna get up and go to work.Monica: What for?Monica: Hey Frannie, welcome back! How was Florida?Monica: How do you do that?Monica: You know Paul?Monica: You mean you know Paul like I know Paul?Monica: Why?! Why? Why, why would anybody do something like that?Monica: I hate men!  I hate men!Monica: Is it me? Is it like I have some sort of beacon that only dogs and men with severe emotional problems can hear?Monica: I just thought he was nice, y'know?Monica: How'd you pay for them?Monica: And who pays for that?Monica: C'mon, you can't live off your parents your whole life.Monica: All right, you ready?Monica: You can, I know you can!Monica:  Rachel!  That was a library card!Monica: Welcome to the real world! It sucks. You're gonna love it!Monica: Well, that's it (To Ross) You gonna crash on the couch?Monica: You be okay?Monica: That's Paul's watch. You just put it back where you found it. Oh boy. Alright. Goodnight, everybody.Monica: See ya.... Waitwait, what's with you?Monica: What? I-I said you had a-Monica: (to Phoebe) Would you stop?Monica: I said that you had a nice butt, it's just not a great butt.\n"
     ]
    },
    {
     "ename": "UnsupportedOperation",
     "evalue": "not writable",
     "output_type": "error",
     "traceback": [
      "\u001b[1;31m---------------------------------------------------------------------------\u001b[0m",
      "\u001b[1;31mUnsupportedOperation\u001b[0m                      Traceback (most recent call last)",
      "Cell \u001b[1;32mIn[19], line 3\u001b[0m\n\u001b[0;32m      1\u001b[0m \u001b[38;5;28mprint\u001b[39m(monica)\n\u001b[1;32m----> 3\u001b[0m \u001b[43mf\u001b[49m\u001b[38;5;241;43m.\u001b[39;49m\u001b[43mwrite\u001b[49m\u001b[43m(\u001b[49m\u001b[43mmonica\u001b[49m\u001b[43m)\u001b[49m\n\u001b[0;32m      4\u001b[0m f\u001b[38;5;241m.\u001b[39mclose()\n",
      "\u001b[1;31mUnsupportedOperation\u001b[0m: not writable"
     ]
    }
   ],
   "source": [
    "print(monica)\n",
    "\n",
    "f.write(monica)\n",
    "f.close()"
   ]
  },
  {
   "cell_type": "code",
   "execution_count": null,
   "metadata": {},
   "outputs": [
    {
     "name": "stdout",
     "output_type": "stream",
     "text": [
      "불바꿈 \n",
      "줄이바뀐다\n",
      "줄바꿈 \n",
      " 줄이 바뀐다\n"
     ]
    }
   ],
   "source": [
    "print('불바꿈 \\n줄이바뀐다')\n",
    "print('줄바꿈 \\n 줄이 바뀐다')"
   ]
  },
  {
   "cell_type": "code",
   "execution_count": null,
   "metadata": {},
   "outputs": [
    {
     "data": {
      "text/plain": [
       "'Monica: There\\'s nothing to tell! He\\'s just some guy I work with!\\nMonica: Okay, everybody relax. This is not even a date. It\\'s just two people going out to dinner and- not having sex.\\nMonica: And they weren\\'t looking at you before?!\\nMonica: Are you okay, sweetie?\\nMonica: (explaining to the others) Carol moved her stuff out today.\\nMonica: (to Ross) Let me get you some coffee.\\nMonica: No you don\\'t.\\nMonica: Oh really, so that hysterical phone call I got from a woman at sobbing 3:00 A.M., \"I\\'ll never have grandchildren, I\\'ll never have grandchildren.\" was what?  A wrong number?\\nMonica: Rachel?!\\nMonica: (pointing at Rachel) De-caff. (to All) Okay, everybody, this is Rachel, another Lincoln High survivor. (to Rachel) This is everybody, this is Chandler, and Phoebe, and Joey, and- you remember my brother Ross?\\nMonica: So you wanna tell us now, or are we waiting for four wet bridesmaids?\\nMonica: Who wasn\\'t invited to the wedding.\\nMonica: Now I\\'m guessing that he bought her the big pipe organ, a'"
      ]
     },
     "execution_count": 24,
     "metadata": {},
     "output_type": "execute_result"
    }
   ],
   "source": [
    "monica=\"\"\n",
    "for i in Li:\n",
    "    monica += i +'\\n'\n",
    "    \n",
    "monica[:1000]\n"
   ]
  },
  {
   "cell_type": "code",
   "execution_count": null,
   "metadata": {},
   "outputs": [
    {
     "data": {
      "text/plain": [
       "4615"
      ]
     },
     "execution_count": 25,
     "metadata": {},
     "output_type": "execute_result"
    }
   ],
   "source": [
    "f = open('Monica.txt', 'w', encoding='cp949')\n",
    "f.write(monica)"
   ]
  },
  {
   "cell_type": "code",
   "execution_count": null,
   "metadata": {},
   "outputs": [],
   "source": [
    "f.close()\n"
   ]
  },
  {
   "cell_type": "markdown",
   "metadata": {},
   "source": [
    "###등장인물 리스트 만들기\n",
    "-> 정규표현식 모듈 re"
   ]
  },
  {
   "cell_type": "code",
   "execution_count": null,
   "metadata": {},
   "outputs": [
    {
     "data": {
      "text/plain": [
       "['Note:',\n",
       " 'Scene:',\n",
       " 'Monica:',\n",
       " 'Joey:',\n",
       " 'Chandler:',\n",
       " 'Phoebe:',\n",
       " 'Phoebe:',\n",
       " 'Monica:',\n",
       " 'Chandler:',\n",
       " 'Chandler:',\n",
       " 'All:',\n",
       " 'Chandler:',\n",
       " 'Joey:',\n",
       " 'Chandler:',\n",
       " 'Joey:',\n",
       " 'Phoebe:',\n",
       " 'Chandler:',\n",
       " 'Monica:',\n",
       " 'Chandler:',\n",
       " 'Ross:',\n",
       " 'Joey:',\n",
       " 'Monica:',\n",
       " 'Ross:',\n",
       " 'Chandler:',\n",
       " 'Monica:',\n",
       " 'Joey:',\n",
       " 'Monica:',\n",
       " 'Ross:',\n",
       " 'Phoebe:',\n",
       " 'Ross:',\n",
       " 'Phoebe:',\n",
       " 'Ross:',\n",
       " 'Monica:',\n",
       " 'Ross:',\n",
       " 'Joey:',\n",
       " 'Ross:',\n",
       " 'Chandler:',\n",
       " 'Ross:',\n",
       " 'Monica:',\n",
       " 'Ross:',\n",
       " 'Joey:',\n",
       " 'Joey:',\n",
       " 'Ross:',\n",
       " 'Chandler:',\n",
       " 'Monica:',\n",
       " 'Rachel:',\n",
       " 'Waitress:',\n",
       " 'Monica:',\n",
       " 'Rachel:',\n",
       " 'Ross:',\n",
       " 'Monica:',\n",
       " 'Rachel:',\n",
       " 'Monica:',\n",
       " 'Rachel:',\n",
       " 'Scene:',\n",
       " 'Monica:',\n",
       " 'Chandler:',\n",
       " 'Ross:',\n",
       " 'Rachel:',\n",
       " 'Phoebe:',\n",
       " 'Chandler:',\n",
       " 'Joey:',\n",
       " 'Joey:',\n",
       " 'Rachel:',\n",
       " 'Ross:',\n",
       " 'Rachel:',\n",
       " 'Monica:',\n",
       " 'Rachel:',\n",
       " 'Monica:',\n",
       " 'Phoebe:',\n",
       " 'Rachel:',\n",
       " 'Phoebe:',\n",
       " 'Monica:',\n",
       " 'Joey:',\n",
       " 'Monica:',\n",
       " 'Joey:',\n",
       " 'Chandler:',\n",
       " 'Paul:',\n",
       " 'Monica:',\n",
       " 'Joey:',\n",
       " 'Ross:',\n",
       " 'Monica:',\n",
       " 'Joey:',\n",
       " 'Ross:',\n",
       " 'Monica:',\n",
       " 'Chandler:',\n",
       " 'Monica:',\n",
       " 'Rachel:',\n",
       " 'Monica:',\n",
       " 'Ross:',\n",
       " 'Monica:',\n",
       " 'Ross:',\n",
       " 'Phoebe:',\n",
       " 'Monica:',\n",
       " 'All:',\n",
       " 'Chandler:',\n",
       " 'Monica:',\n",
       " 'Ross:',\n",
       " 'Monica:',\n",
       " 'Phoebe:',\n",
       " 'Joey:',\n",
       " 'Paul:',\n",
       " 'Joey:',\n",
       " 'Monica:',\n",
       " 'Ross:',\n",
       " 'Rachel:',\n",
       " 'Ross:',\n",
       " 'Chandler:',\n",
       " 'Rachel:',\n",
       " 'Ross:',\n",
       " 'Joey:',\n",
       " 'Phoebe:',\n",
       " 'Scene:',\n",
       " 'Phoebe:',\n",
       " 'Scene:',\n",
       " 'Ross:',\n",
       " 'Joey:',\n",
       " 'Chandler:',\n",
       " 'Joey:',\n",
       " 'Chandler:',\n",
       " 'Joey:',\n",
       " 'Chandler:',\n",
       " 'Joey:',\n",
       " 'Chandler:',\n",
       " 'Ross:',\n",
       " 'Joey:',\n",
       " 'Chandler:',\n",
       " 'Joey:',\n",
       " 'Ross:',\n",
       " 'Chandler:',\n",
       " 'Joey:',\n",
       " 'Chandler:',\n",
       " 'Scene:',\n",
       " 'Monica:',\n",
       " 'Paul:',\n",
       " 'Monica:',\n",
       " 'Paul:',\n",
       " 'Monica:',\n",
       " 'Paul:',\n",
       " 'Monica:',\n",
       " 'Paul:',\n",
       " 'Monica:',\n",
       " 'Scene:',\n",
       " 'Rachel:',\n",
       " 'Scene:',\n",
       " 'Ross:',\n",
       " 'Joey:',\n",
       " 'Chandler:',\n",
       " 'Ross:',\n",
       " 'Chandler:',\n",
       " 'Ross:',\n",
       " 'Joey:',\n",
       " 'Ross:',\n",
       " 'Chandler:',\n",
       " 'Scene:',\n",
       " 'Paul:',\n",
       " 'Monica:',\n",
       " 'Paul:',\n",
       " 'Monica:',\n",
       " 'Paul:',\n",
       " 'Monica:',\n",
       " 'Paul:',\n",
       " 'Monica:',\n",
       " 'Paul:',\n",
       " 'Monica:',\n",
       " 'Paul:',\n",
       " 'Monica:',\n",
       " 'Paul:',\n",
       " 'Monica:',\n",
       " 'Scene:',\n",
       " 'Rachel:',\n",
       " 'Scene:',\n",
       " 'Ross:',\n",
       " 'Joey:',\n",
       " 'Chandler:',\n",
       " 'Joey:',\n",
       " 'Ross:',\n",
       " 'Scene:',\n",
       " 'Rachel:',\n",
       " 'Chandler:',\n",
       " 'Joey:',\n",
       " 'Rachel:',\n",
       " 'Chandler:',\n",
       " 'Joey:',\n",
       " 'Monica:',\n",
       " 'All:',\n",
       " 'Paul:',\n",
       " 'Joey:',\n",
       " 'Rachel:',\n",
       " 'Chandler:',\n",
       " 'Paul:',\n",
       " 'Monica:',\n",
       " 'Paul:',\n",
       " 'Monica:',\n",
       " 'Paul:',\n",
       " 'Joey:',\n",
       " 'Monica:',\n",
       " 'All:',\n",
       " 'Chandler:',\n",
       " 'Rachel:',\n",
       " 'Monica:',\n",
       " 'Joey:',\n",
       " 'Rachel:',\n",
       " 'Joey:',\n",
       " 'Monica:',\n",
       " 'Joey:',\n",
       " 'Chandler:',\n",
       " 'Joey:',\n",
       " 'Chandler:',\n",
       " 'Joey:',\n",
       " 'Monica:',\n",
       " 'Rachel:',\n",
       " 'Monica:',\n",
       " 'Rachel:',\n",
       " 'Monica:',\n",
       " 'Rachel:',\n",
       " 'Monica:',\n",
       " 'Rachel:',\n",
       " 'Monica:',\n",
       " 'Rachel:',\n",
       " 'Monica:',\n",
       " 'Rachel:',\n",
       " 'Scene:',\n",
       " 'Frannie:',\n",
       " 'Monica:',\n",
       " 'Frannie:',\n",
       " 'Monica:',\n",
       " 'Frannie:',\n",
       " 'Monica:',\n",
       " 'Frannie:',\n",
       " 'Monica:',\n",
       " 'Frannie:',\n",
       " 'Scene:',\n",
       " 'Joey:',\n",
       " 'Monica:',\n",
       " 'Ross:',\n",
       " 'Monica:',\n",
       " 'Phoebe:',\n",
       " 'Monica:',\n",
       " 'Phoebe:',\n",
       " 'Monica:',\n",
       " 'Joey:',\n",
       " 'Rachel:',\n",
       " 'Ross:',\n",
       " 'Rachel:',\n",
       " 'Chandler:',\n",
       " 'Rachel:',\n",
       " 'Chandler:',\n",
       " 'Rachel:',\n",
       " 'Monica:',\n",
       " 'Rachel:',\n",
       " 'Monica:',\n",
       " 'Rachel:',\n",
       " 'Scene:',\n",
       " 'Rachel:',\n",
       " 'Monica:',\n",
       " 'Rachel:',\n",
       " 'Phoebe:',\n",
       " 'Rachel:',\n",
       " 'Phoebe:',\n",
       " 'Ross:',\n",
       " 'Monica:',\n",
       " 'Rachel:',\n",
       " 'Monica:',\n",
       " 'Rachel:',\n",
       " 'Ross:',\n",
       " 'Ross:',\n",
       " 'All:',\n",
       " 'Rachel:',\n",
       " 'Monica:',\n",
       " 'All:',\n",
       " 'Chandler:',\n",
       " 'Monica:',\n",
       " 'Monica:',\n",
       " 'Ross:',\n",
       " 'Monica:',\n",
       " 'Ross:',\n",
       " 'Rachel:',\n",
       " 'Monica:',\n",
       " 'Rachel:',\n",
       " 'Ross:',\n",
       " 'Rachel:',\n",
       " 'Ross:',\n",
       " 'Rachel:',\n",
       " 'Ross:',\n",
       " 'Rachel:',\n",
       " 'Ross:',\n",
       " 'Rachel:',\n",
       " 'Ross:',\n",
       " 'Rachel:',\n",
       " 'Ross:',\n",
       " 'Rachel:',\n",
       " 'Ross:',\n",
       " 'Rachel:',\n",
       " 'Ross:',\n",
       " 'Monica:',\n",
       " 'Ross:',\n",
       " 'Scene:',\n",
       " 'Joey:',\n",
       " 'Phoebe:',\n",
       " 'Monica:',\n",
       " 'Phoebe:',\n",
       " 'Monica:',\n",
       " 'Phoebe:',\n",
       " 'All:',\n",
       " 'Monica:',\n",
       " 'Joey:',\n",
       " 'Ross:',\n",
       " 'Rachel:',\n",
       " 'Chandler:',\n",
       " 'Rachel:',\n",
       " 'All:',\n",
       " 'Chandler:',\n",
       " 'Customer:',\n",
       " 'Rachel:',\n",
       " 'Chandler:']"
      ]
     },
     "execution_count": 29,
     "metadata": {},
     "output_type": "execute_result"
    }
   ],
   "source": [
    "# 파이썬에서 re.compile(\"\")는 정규식 객체를 리턴해준다.\n",
    "chr = re.compile(r'[A-Z][a-z]+:')\n",
    "chr= re.compile(r'[A-Z][a-z]+:')\n",
    "re.findall(chr,sc101)\n"
   ]
  },
  {
   "cell_type": "markdown",
   "metadata": {},
   "source": [
    "- 등장인물이 중복이 되었다. 중복을 제거 하기 위해서는 리스트를 집합으로 바꾸면 된다.\n",
    "- 집합(set)은 원소의 중복이 허용되지 않기 때문이다."
   ]
  },
  {
   "cell_type": "code",
   "execution_count": null,
   "metadata": {},
   "outputs": [
    {
     "data": {
      "text/plain": [
       "[1, 3, 5, 2, 1, 2, 5, 3, 2, 4, 6, 7]"
      ]
     },
     "execution_count": 43,
     "metadata": {},
     "output_type": "execute_result"
    }
   ],
   "source": [
    "a=[1,3,5,2,1,2,5,3,2,4,6,7]\n",
    "a"
   ]
  },
  {
   "cell_type": "code",
   "execution_count": null,
   "metadata": {},
   "outputs": [
    {
     "data": {
      "text/plain": [
       "{1, 2, 3, 4, 5, 6, 7}"
      ]
     },
     "execution_count": 45,
     "metadata": {},
     "output_type": "execute_result"
    }
   ],
   "source": [
    "set(a)\n",
    "a\n",
    "set(a)"
   ]
  },
  {
   "cell_type": "code",
   "execution_count": null,
   "metadata": {},
   "outputs": [
    {
     "data": {
      "text/plain": [
       "{'All:',\n",
       " 'Chandler:',\n",
       " 'Customer:',\n",
       " 'Frannie:',\n",
       " 'Joey:',\n",
       " 'Monica:',\n",
       " 'Note:',\n",
       " 'Paul:',\n",
       " 'Phoebe:',\n",
       " 'Rachel:',\n",
       " 'Ross:',\n",
       " 'Scene:',\n",
       " 'Waitress:'}"
      ]
     },
     "execution_count": 30,
     "metadata": {},
     "output_type": "execute_result"
    }
   ],
   "source": [
    "set(re.findall(chr,sc101))"
   ]
  },
  {
   "cell_type": "code",
   "execution_count": null,
   "metadata": {},
   "outputs": [
    {
     "data": {
      "text/plain": [
       "['Rachel',\n",
       " 'Joey',\n",
       " 'Paul',\n",
       " 'Monica',\n",
       " 'Customer',\n",
       " 'Chandler',\n",
       " 'Scene',\n",
       " 'Frannie',\n",
       " 'All',\n",
       " 'Waitress',\n",
       " 'Ross',\n",
       " 'Note',\n",
       " 'Phoebe']"
      ]
     },
     "execution_count": 35,
     "metadata": {},
     "output_type": "execute_result"
    }
   ],
   "source": [
    "# 슬라이싱으로 특정 위치의 문자 지우기\n",
    "rachel = 'rachel:'\n",
    "rachel = re.sub(':','',rachel)\n",
    "rachel\n",
    "rachel[:-1]     #슬라이싱으로 마지막 문자를 제거하고 출력합니다.\n",
    "y=set(re.findall(chr,sc101)) #등장인물 리스트를 집합으로 바꿔 y객체에 저장합니다.\n",
    "z=list(y)           #for문을 사용하기 위해 다시 리스트로 바꿉니다.\n",
    "character=[]        #등장인물을 담을 객체 character을 만듭니다\n",
    "for i in z:\n",
    "    character += [i[:-1]]\n",
    "\n",
    "character\n"
   ]
  },
  {
   "cell_type": "code",
   "execution_count": null,
   "metadata": {},
   "outputs": [
    {
     "data": {
      "text/plain": [
       "['Centra',\n",
       " 'Davi',\n",
       " 'Rac',\n",
       " 'Congratulation',\n",
       " 'Swee',\n",
       " 'Mostl',\n",
       " 'Gu',\n",
       " 'Stri',\n",
       " 'Angel',\n",
       " 'Al',\n",
       " 'Althoug',\n",
       " 'S',\n",
       " 'Waitwai',\n",
       " 'Restauran',\n",
       " 'Chach',\n",
       " 'Jus',\n",
       " 'Oka',\n",
       " 'Mayb',\n",
       " 'Kauffma',\n",
       " 'Hell',\n",
       " 'Onc',\n",
       " 'Liste',\n",
       " 'Aun',\n",
       " 'Christin',\n",
       " 'M',\n",
       " 'Decid',\n",
       " 'I',\n",
       " 'Hig',\n",
       " 'Reall',\n",
       " 'Wel',\n",
       " 'Bin',\n",
       " 'Roa',\n",
       " 'Diar',\n",
       " 'Sta',\n",
       " 'Than',\n",
       " 'H',\n",
       " 'W',\n",
       " 'Neve',\n",
       " 'Pleas',\n",
       " 'You',\n",
       " 'Mornin',\n",
       " 'Pinocchi',\n",
       " 'Get',\n",
       " 'Hea',\n",
       " 'Tun',\n",
       " 'Fin',\n",
       " 'Cran',\n",
       " 'Pilo',\n",
       " 'Barr',\n",
       " 'Rerun',\n",
       " 'Wo',\n",
       " 'Kid',\n",
       " 'D',\n",
       " 'Goo',\n",
       " 'Tal',\n",
       " 'H',\n",
       " 'Com',\n",
       " 'Sometime',\n",
       " 'Welcom',\n",
       " 'Gra',\n",
       " 'Se',\n",
       " 'Di',\n",
       " 'An',\n",
       " 'Oo',\n",
       " 'D',\n",
       " 'Th',\n",
       " 'Pries',\n",
       " 'Love',\n",
       " 'Credit',\n",
       " 'Her',\n",
       " 'Subwa',\n",
       " 'Ho',\n",
       " 'Commercia',\n",
       " 'U',\n",
       " 'Mm',\n",
       " 'Chandle',\n",
       " 'Polan',\n",
       " 'Exit',\n",
       " 'Cu',\n",
       " 'Iridiu',\n",
       " 'Sometim',\n",
       " 'Sound',\n",
       " 'Charle',\n",
       " 'Versio',\n",
       " 'Thes',\n",
       " 'Vega',\n",
       " 'Hardl',\n",
       " 'Ros',\n",
       " 'G',\n",
       " 'Florid',\n",
       " 'Rache',\n",
       " 'Thank',\n",
       " 'Marc',\n",
       " 'Sorr',\n",
       " 'Burs',\n",
       " 'Car',\n",
       " 'Per',\n",
       " 'Phoeb',\n",
       " 'He',\n",
       " 'Ment',\n",
       " 'Walk',\n",
       " 'Additiona',\n",
       " 'Tim',\n",
       " 'Whic',\n",
       " 'Wh',\n",
       " 'M',\n",
       " 'L',\n",
       " 'Eve',\n",
       " 'Pus',\n",
       " 'Sh',\n",
       " 'Ar',\n",
       " 'L',\n",
       " 'Lov',\n",
       " 'Squig',\n",
       " 'Roommat',\n",
       " 'Laps',\n",
       " 'Ro',\n",
       " 'Show',\n",
       " 'Lamaug',\n",
       " 'Giv',\n",
       " 'On',\n",
       " 'Tha',\n",
       " 'Caro',\n",
       " 'B',\n",
       " 'Wh',\n",
       " 'O',\n",
       " 'Lemm',\n",
       " 'Gues',\n",
       " 'Ca',\n",
       " 'Excus',\n",
       " 'Not',\n",
       " 'No',\n",
       " 'Buz',\n",
       " 'Arub',\n",
       " 'Think',\n",
       " 'Goodnigh',\n",
       " 'Finke',\n",
       " 'Spli',\n",
       " 'Jungl',\n",
       " 'Ther',\n",
       " 'Instea',\n",
       " 'Ton',\n",
       " 'Pau',\n",
       " 'Tw',\n",
       " 'Witnes',\n",
       " 'Bi',\n",
       " 'Alrigh',\n",
       " 'Custome',\n",
       " 'Paus',\n",
       " 'Woul',\n",
       " 'En',\n",
       " 'Righ',\n",
       " 'Sexuall',\n",
       " 'La',\n",
       " 'Monic',\n",
       " 'Wai',\n",
       " 'Ne',\n",
       " 'Soa',\n",
       " 'Yea',\n",
       " 'Wha',\n",
       " 'Doe',\n",
       " 'Unfortunatel',\n",
       " 'Rock',\n",
       " 'Is',\n",
       " 'I',\n",
       " 'Whe',\n",
       " 'O',\n",
       " 'Closin',\n",
       " 'Le',\n",
       " 'Apartmen',\n",
       " 'Raindrop',\n",
       " 'Joh',\n",
       " 'Waitres',\n",
       " 'Independenc',\n",
       " 'Shu',\n",
       " 'Sto',\n",
       " 'Scen',\n",
       " 'Chac',\n",
       " 'Bu',\n",
       " 'Jun',\n",
       " 'Aase',\n",
       " 'Lenn',\n",
       " 'Ye',\n",
       " 'Fou',\n",
       " 'Arcol',\n",
       " 'Mart',\n",
       " 'Wit',\n",
       " 'O',\n",
       " 'T',\n",
       " 'Ug',\n",
       " 'Joe',\n",
       " 'Brea',\n",
       " 'Joann',\n",
       " 'Transcribe',\n",
       " 'Spanis',\n",
       " 'Hav',\n",
       " 'Takin',\n",
       " 'Parro',\n",
       " 'Finall',\n",
       " 'Wher',\n",
       " 'Liz',\n",
       " 'Yo',\n",
       " 'Mor',\n",
       " 'Doug',\n",
       " 'Eri',\n",
       " 'Anywa',\n",
       " 'Pheeb',\n",
       " 'Writte',\n",
       " 'Thi',\n",
       " 'Ha',\n",
       " 'Okayy',\n",
       " 'Loo',\n",
       " 'Eve',\n",
       " 'Mo',\n",
       " 'Dea',\n",
       " 'Bill',\n",
       " 'N',\n",
       " 'Ah',\n",
       " 'Hand',\n",
       " 'Potat',\n",
       " 'M',\n",
       " 'Start',\n",
       " 'Jimmie',\n",
       " 'Don',\n",
       " 'Cooki',\n",
       " 'Uncu',\n",
       " 'Mr',\n",
       " 'Cherr',\n",
       " 'Grea',\n",
       " 'Oh',\n",
       " 'Vanill',\n",
       " 'Louis',\n",
       " 'Andre',\n",
       " 'The',\n",
       " 'I',\n",
       " 'Minell',\n",
       " 'Lincol',\n",
       " 'Dadd',\n",
       " 'Win',\n",
       " 'Chang',\n",
       " 'Cunningha',\n",
       " 'Wester',\n",
       " 'Wan',\n",
       " 'U',\n",
       " 'Franni',\n",
       " 'Gippett',\n",
       " 'Go',\n",
       " 'The']"
      ]
     },
     "execution_count": 36,
     "metadata": {},
     "output_type": "execute_result"
    }
   ],
   "source": [
    "# 모든 명령을 한 줄로 작성하기  다음과 같이 마법의 한줄 문장을 작성할 줄 알면된다.\n",
    "character=[x[:-1] for x in list(set(re.findall(r'[A-Z][a-z]+',sc101)))]\n",
    "# character=[x[:-1] for x in list(set(re.findall(r'[A-Z][a-z]+:',script101)))]\n",
    "character"
   ]
  },
  {
   "cell_type": "markdown",
   "metadata": {},
   "source": [
    "> 지문만 출력하기\n",
    "-  지문은 괄호안에 들어있다."
   ]
  },
  {
   "cell_type": "code",
   "execution_count": null,
   "metadata": {},
   "outputs": [
    {
     "data": {
      "text/plain": [
       "['(The Pilot-The Uncut Version)',\n",
       " '(Note: The previously unseen parts of this episode are shown in blue text.)',\n",
       " '(They all stare, bemused.)',\n",
       " '(mortified)',\n",
       " '(explaining to the others)',\n",
       " '(to Ross)',\n",
       " '(She starts to pluck at the air just in front of Ross.)',\n",
       " '(They all stare at him.)',\n",
       " '(Ross gestures his consent.)',\n",
       " '(Rachel enters in a wet wedding dress and starts to search the room.)',\n",
       " '(He extends his hand hopefully.)',\n",
       " '(pointing at Rachel)',\n",
       " '(to All)',\n",
       " '(to Rachel)',\n",
       " \"(They go to hug but Ross's umbrella opens.  He sits back down defeated again.  A moment of silence follows as Rachel sits and the others expect her to explain.)\",\n",
       " '(to the waitress that brought her coffee)',\n",
       " '(to Monica)',\n",
       " '(imitating the characters)',\n",
       " '(in a deep voice)',\n",
       " '(on phone)',\n",
       " '(The scene on TV has changed to show two women, one is holding her hair.)',\n",
       " '(She is pushed down the stairs and everyone cheers.)',\n",
       " '(sings)',\n",
       " '(Rachel and Monica turn to look at her.)',\n",
       " '(grins and walks to the kitchen and says to Chandler and Joey.)',\n",
       " '(comforting her)',\n",
       " '(The door buzzer sounds and Chandler gets it.)',\n",
       " '(over the intercom)',\n",
       " '(to Ross)',\n",
       " '(choked voice)',\n",
       " '(horrified)',\n",
       " '(normal voice)',\n",
       " \"(Chandler doesn't know.)\",\n",
       " \"(There's a knock on the door and it's Paul.)\",\n",
       " '(They are all lined up next to the door.)',\n",
       " '(Shows Paul in)',\n",
       " '(Monica goes to change.)',\n",
       " '(yelling from the bedroom)',\n",
       " '(thinks)',\n",
       " '(deadpan)',\n",
       " '(singing)',\n",
       " '(some guy gives her some change and to that guy)',\n",
       " '(sings)',\n",
       " '(squatting and reading the instructions)',\n",
       " '(Joey and Chandler are finishing assembling the bookcase.)',\n",
       " '(picking up a leftover part)',\n",
       " '(Joey checks that Ross is not looking and dumps it in a plant.)',\n",
       " '(clutching a beer can and sniffing)',\n",
       " '(laughing)',\n",
       " '(She stops talking and dials the phone.)',\n",
       " '(The maching cuts her off again and she redials.)',\n",
       " '(Chandler hits what he is working on with a hammer and it collapses.)',\n",
       " '(Monica takes a sip of her drink.)',\n",
       " '(spitting out her drink in shock)',\n",
       " '(pause)',\n",
       " '(scornful)',\n",
       " '(looks to Chandler)',\n",
       " '(Exits.)',\n",
       " '(He gazes out of the window.)',\n",
       " '(Joey and Chandler taste the coffee, grimace, and pour it into a plant pot.)',\n",
       " '(entering, to herself)',\n",
       " \"(entering from Monica's room)\",\n",
       " \"(Monica and Paul walk to the door and talk in a low voice so the others can't hear.  The others move Monica's table closer to the door so that they can.)\",\n",
       " '(They kiss)',\n",
       " '(Exits)',\n",
       " '(They do so.)',\n",
       " '(Walks to the door and opens it to leave.)',\n",
       " '(Burst into song and dances out of the door.)',\n",
       " '(Starts after Chandler.)',\n",
       " '(Thinks)',\n",
       " '(Monica exits.)',\n",
       " '(sitting on the arm of the couch)',\n",
       " '(She starts massaging them.)',\n",
       " '(bursts out laughing again)',\n",
       " '(Monica pushes him off of the sofa as Rachel enters with a shopping bag.)',\n",
       " '(Pause)',\n",
       " '(Chandler slowly tries to hide the now dead plant from that morning when he and Joey poured their coffee into it.)',\n",
       " '(She cuts one of them and they cheer.)',\n",
       " '(as Rachel is cutting up her cards)',\n",
       " '(She finishes cutting them up and they all cheer.)',\n",
       " '(To Ross)',\n",
       " '(Monica smiles.)',\n",
       " \"(Monica stomps on Paul's watch and goes into her room.)\",\n",
       " '(They both reach for the last cookie)',\n",
       " '(They split it.)',\n",
       " '(Rachel goes into her room and Monica enters the living room as Ross is leaving.)',\n",
       " '(Ross exits and Monica has no idea what that means.)',\n",
       " '(sings)',\n",
       " '(sings)',\n",
       " '(to Phoebe)',\n",
       " '(walks up with a pot of coffee)',\n",
       " \"(Rachel sits down to hear Chandler's dream.)\",\n",
       " '(To Rachel)',\n",
       " \"(To another customer that's leaving.)\",\n",
       " '(Hands him the coffee pot.)',\n",
       " '(He does so.)',\n",
       " '(To the gang.)']"
      ]
     },
     "execution_count": 37,
     "metadata": {},
     "output_type": "execute_result"
    }
   ],
   "source": [
    "# re.findall(r'\\([A-Za-z].+?[a-z|\\.]\\)',script101)[:6]\n",
    "re.findall(r'\\([A-Za-z].+?[a-z|\\.]\\)',sc101)"
   ]
  },
  {
   "cell_type": "markdown",
   "metadata": {},
   "source": [
    "> 특정단어의 예문만 모아 파일로 저장하기\n",
    "- 특정 단어르 사용한 대사만 추출"
   ]
  },
  {
   "cell_type": "code",
   "execution_count": null,
   "metadata": {},
   "outputs": [
    {
     "name": "stdout",
     "output_type": "stream",
     "text": [
      "The One Where Monica Gets a New Roommate (The Pilot-The Uncut Version)\n",
      "\n",
      "Written by: Marta Kauffman and David Crane\n",
      "\n",
      "Transcribed by: guineapig\n",
      "\n",
      "Additional transcribing by: Eric Aasen (Note: The previously unseen parts of this episode are shown in blue text.)\n",
      "\n",
      "Monica: There's nothing to tell! He's just some guy I work with!\n",
      "\n",
      "Joey: C'mon, you're going out with the guy! There's gotta be something wrong with him!\n",
      "\n",
      "Chandler: All right Joey, be nice.  So does he have a hump? A hump and a hairpiece?\n",
      "\n",
      "Phoebe: Wait, does he eat chalk?\n",
      "\n",
      "Phoebe: Just, 'cause, I don't want her to go through what I went through with Carl- oh!\n",
      "\n",
      "Monica: Okay, everybody relax. This is not even a date. It's just two people going out to dinner and- not having sex.\n",
      "\n"
     ]
    },
    {
     "data": {
      "text/plain": [
       "[\"Rachel: Ooh, I was kinda hoping that wouldn't be an issue... [Scene: Monica's Apartment, everyone is there and watching a Spanish Soap on TV and are trying to figure out what is going on.]\\n\",\n",
       " \"Chandler: I would have to say that is an 'L'-shaped bracket.\\n\",\n",
       " 'Monica: Why?! Why? Why, why would anybody do something like that?\\n',\n",
       " 'Rachel: You would be too if you found John and David boots on sale, fifty percent off!\\n',\n",
       " 'Ross: Oh. Listen, do you think- and try not to let my intense vulnerability become any kind of a factor here- but do you think it would be okay if I asked you out? Sometime? Maybe?\\n',\n",
       " \"Joey: Oh, you wouldn't know a great butt if it came up and bit ya.\\n\"]"
      ]
     },
     "execution_count": 38,
     "metadata": {},
     "output_type": "execute_result"
    }
   ],
   "source": [
    "import os,re\n",
    "f=open('friends101.txt','r')\n",
    "f.read(100)\n",
    "f.seek(0)\n",
    "sentences=f.readlines()\n",
    "sentences[:3]\n",
    "for i in sentences[:20]:\n",
    "    if re.match(r'[A-Za-z]+',i):\n",
    "        print(i)\n",
    "        \n",
    "lines = [i for i in sentences if re.match(r'[A_Za-z]+:',i)]\n",
    "\n",
    "lines[:10]\n",
    "\n",
    "would =[i for i in sentences if re.match(r'[A-Z][a-z]+:',i) and re.search('would',i)]\n",
    "would"
   ]
  },
  {
   "cell_type": "code",
   "execution_count": null,
   "metadata": {},
   "outputs": [
    {
     "data": {
      "text/plain": [
       "['Ross: I told mom and dad last night, they seemed to take it pretty well.\\n',\n",
       " \"Paul: Well, ever-ev-... ever since she left me, um, I haven't been able to, uh, perform. (Monica takes a sip of her drink.) ...Sexually.\\n\",\n",
       " 'Joey: I will not take this abuse. (Walks to the door and opens it to leave.)\\n',\n",
       " \"Frannie: Are you kidding? I take credit for Paul. Y'know before me, there was no snap in his turtle for two years.\\n\"]"
      ]
     },
     "execution_count": 28,
     "metadata": {},
     "output_type": "execute_result"
    }
   ],
   "source": [
    "take =[i for i in sentences if re.match(r'[A-Z][a-z]+:',i) and re.search('take',i)]\n",
    "take"
   ]
  },
  {
   "cell_type": "code",
   "execution_count": null,
   "metadata": {},
   "outputs": [
    {
     "name": "stdout",
     "output_type": "stream",
     "text": [
      "Ross: I told mom and dad last night, they seemed to take it pretty well.\n",
      "\n",
      "Paul: Well, ever-ev-... ever since she left me, um, I haven't been able to, uh, perform. (Monica takes a sip of her drink.) ...Sexually.\n",
      "\n",
      "Joey: I will not take this abuse. (Walks to the door and opens it to leave.)\n",
      "\n",
      "Frannie: Are you kidding? I take credit for Paul. Y'know before me, there was no snap in his turtle for two years.\n",
      "\n"
     ]
    }
   ],
   "source": [
    "for i in take:\n",
    "    print(i)    "
   ]
  },
  {
   "cell_type": "code",
   "execution_count": null,
   "metadata": {},
   "outputs": [],
   "source": [
    "newf = open('would.txt','w')\n",
    "newf.writelines(would)\n",
    "newf.close()"
   ]
  },
  {
   "cell_type": "markdown",
   "metadata": {},
   "source": [
    "> 연습문제"
   ]
  },
  {
   "cell_type": "code",
   "execution_count": null,
   "metadata": {},
   "outputs": [
    {
     "name": "stdout",
     "output_type": "stream",
     "text": [
      "apple\n",
      "arise\n"
     ]
    }
   ],
   "source": [
    "import re\n",
    "words = [\"apple\",\"cat\",\"brave\",\"dream\",\"arise\"]\n",
    "for i in words:\n",
    "    m= re.match(r'a\\D+',i)\n",
    "    if m:\n",
    "        print(m.group())"
   ]
  },
  {
   "cell_type": "code",
   "execution_count": null,
   "metadata": {},
   "outputs": [
    {
     "data": {
      "text/plain": [
       "['termite@anmail.net', 'ttermite0@gmail.com']"
      ]
     },
     "execution_count": 17,
     "metadata": {},
     "output_type": "execute_result"
    }
   ],
   "source": [
    "a='제 이메일 주소는 termite@anmail.net 입니다. 오늘 저는 ttermite0@gmail.com라는 주소로 메일을 보내려고 합니다.'\n",
    "b = re.findall(r'[a-z0-9]+@[a-z.]+',a)\n",
    "\n",
    "b"
   ]
  },
  {
   "cell_type": "code",
   "execution_count": null,
   "metadata": {},
   "outputs": [
    {
     "data": {
      "text/plain": [
       "['92년', '88년']"
      ]
     },
     "execution_count": 5,
     "metadata": {},
     "output_type": "execute_result"
    }
   ],
   "source": [
    "# exam에 저장한 문자열에서 연도만 추출\n",
    "exam = \"저는 92년에 태어났습니다. 88년에는 올림필이 있었습니다.\"\n",
    "\n",
    "re.findall(r'\\d.+?년',exam)\n"
   ]
  },
  {
   "cell_type": "markdown",
   "metadata": {},
   "source": []
  },
  {
   "cell_type": "code",
   "execution_count": null,
   "metadata": {},
   "outputs": [
    {
     "name": "stdout",
     "output_type": "stream",
     "text": [
      "I have a dog\n"
     ]
    }
   ],
   "source": [
    "# d에 \n",
    "d = 'I have a dog. I am not a girl. You arre not alone. Iam happy'\n",
    "re.split(r'\\.',d)\n",
    "print(re.split(r'\\.',d)[0])\n"
   ]
  },
  {
   "cell_type": "code",
   "execution_count": null,
   "metadata": {},
   "outputs": [
    {
     "name": "stdout",
     "output_type": "stream",
     "text": [
      "Chandler\n",
      "Phoebe\n"
     ]
    }
   ],
   "source": [
    "e=\"Chandler: All rig, be ice. So does he have a hump? A hump and a ? Phoebe: Just, aecausre, I dont want. Phoebe: I went\"\n",
    "\n",
    "m = re.findall(r'[A-Za-z]+:',e)\n",
    "m\n",
    "M = set(m)\n",
    "M\n",
    "M=list(set(m))\n",
    "M\n",
    "for i in M:\n",
    "    print(i[:-1])"
   ]
  },
  {
   "cell_type": "code",
   "execution_count": null,
   "metadata": {},
   "outputs": [
    {
     "name": "stdout",
     "output_type": "stream",
     "text": [
      "컴퓨\n"
     ]
    }
   ],
   "source": [
    "a='나는 컴퓨터다'\n",
    "m= re.search(r'컴퓨',a)\n",
    "print(m.group())"
   ]
  },
  {
   "cell_type": "code",
   "execution_count": 89,
   "metadata": {},
   "outputs": [
    {
     "name": "stdout",
     "output_type": "stream",
     "text": [
      "제가 살고 있는 서종면 문호리에서 멀지 않은 곳 (서종면 수능리)에 황순원의 단편소설 소나기를 주제로 한 '소나기 공원'이 있습니다. 군과 모 대학, 그리고 관심있는 분들이 적지 않은 예산을 투자하여 만든 공원입니다. 이제 개장 2년차를 맞아 많은 방문객들이 찾아 옵니다. 작년말부터 개선된 교통체계에 따라 더 많은 분들이 이 곳을 방문할 것으로 예상하고 있습니다. 이제 봄이 되니 저도 한번 다녀오려고 합니다. 가기 전에 단편소설을 다시 한번 읽어 봅니다. 전원의 아름다움을 잘 표현하고 있는 대목이 정겹습니다.\n",
      "\n",
      " \n",
      "\n",
      "소나기 / 황순원\n",
      "\n",
      " \n",
      "\n",
      "소년은 개울가에서 소녀를 보자 곧 윤 초시네 증손녀(曾孫女)딸이라는 걸 알 수 있었다. 소녀는 개울에다 손을 잠그고 물장난을 하고 있는 것이다. 서울서는 이런 개울물을 보지 못하기나 한 듯 이.\n",
      "\n",
      "벌써 며칠째 소녀는, 학교에서 돌아오는 길에 물장난이었다. 그런데, 어제까지 개울 기슭에서 하 더니, 오늘은 징검다리 한가운데 앉아서 하고 있다. 소년은 개울둑에 앉아 버렸다. 소녀가 비키기를 기다리자는 것이다. 요행 지나가는 사람이 있어, 소녀가 길을 비켜 주었다.\n",
      "\n",
      " \n",
      "\n",
      "다음 날은 좀 늦게 개울가로 나왔다.\n",
      "\n",
      "이 날은 소녀가 징검다리 한가운데 앉아 세수를 하고 있었다. 분홍 스웨터 소매를 걷어올린 목덜미가 마냥 희었다.\n",
      "\n",
      "한참 세수를 하고 나더니, 이번에는 물 속을 빤히 들여다 본다. 얼굴이라도 비추어 보는 것이리 라. 갑자기 물을 움켜 낸다. 고기 새끼라도 지나가는 듯. 소녀는 소년이 개울둑에 앉아 있는 걸 아는지 모르는지 그냥 날쌔게 물만 움켜 낸다. 그러나, 번번이 허탕이다. 그대로 재미있는 양, 자꾸 물만 움킨다. 어제처럼 개울을 건너는 사람이 있어야 길 을 비킬 모양이다.\n",
      "\n",
      "그러다가 소녀가 물 속에서 무엇을 하나 집어낸다. 하얀 조약돌이었다. 그리고는 벌떡 일어나 팔짝팔짝 징검다리를 뛰어 건너간다.\n",
      "\n",
      "다 건너가더니만 홱 이리로 돌아서며, \"이 바보.\"\n",
      "\n",
      "조약돌이 날아왔다. 소년은 저도 모르게 벌떡 일어섰다.\n",
      "\n",
      "단발 머리를 나풀거리며 소녀가 막 달린다. 갈밭 사잇길로 들어섰다. 뒤에는 청량한 가을 햇살 아래 빛나는 갈꽃뿐.\n",
      "\n",
      "이제 저쯤 갈밭머리로 소녀가 나타나리라. 꽤 오랜 시간이 지났다고 생각됐다. 그런데도 소녀는 나타나지 않는다. 발돋움을 했다. 그러고도 상당한 시간이 지났다고 생각됐다.\n",
      "\n",
      "저 쪽 갈밭머리에 갈꽃이 한 옴큼 움직였다. 소녀가 갈꽃을 안고 있었다. 그리고, 이제는 천천한 걸음이었다. 유난히 맑은 가을 햇살이 소녀의 갈꽃머리에서 반짝거렸다. 소녀 아닌 갈꽃이 들길을 걸어가는\n",
      "\n",
      "것만 같았다.\n",
      "\n",
      "소년은 이 갈꽃이 아주 뵈지 않게 되기까지 그대로 서 있었다. 문득, 소녀가 던지 조약돌을 내려 다보았다. 물기가 걷혀 있었다. 소년은 조약돌을 집어 주머니에 넣었다.\n",
      "\n",
      " \n",
      "\n",
      "다음 날부터 좀더 늦게 개울가로 나왔다. 소녀의 그림자가 뵈지 않았다. 다행이었다. 그러나, 이상한 일이었다. 소녀의 그림자가 뵈지 않는 날이 계속될수록 소년의 가슴 한 구석에는 어딘\n",
      "\n",
      "가 허전함이 자리 잡는 것이었다. 주머니 속 조약돌을 주무르는 버릇이 생겼다.\n",
      "\n",
      "그러한 어떤 날, 소년은 전에 소녀가 앉아 물장난을 하던 징검다리 한가운데에 앉아 보았다. 물 속에 손을 잠갔다. 세수를 하였다. 물 속을 들여다보았다. 검게 탄 얼굴이 그대로 비치었다. 싫었다.\n",
      "\n",
      "소년은 두 손으로 물 속의 얼굴을 움키었다. 몇 번이고 움키었다. 그러다가 깜짝 놀라 일어나고 말았다. 소녀가 이리로 건너오고 있지 않느냐.'숨어서 내가 하는 일을 엿보고 있었구나.' 소년은 달리기를 시작했다. 디딤돌을 헛디뎠다. 한 발이 물 속에 빠졌다. 더 달렸다.\n",
      "\n",
      "몸을 가릴 데가 있어 줬으면 좋겠다. 이 쪽 길에는 갈밭도 없다. 메밀밭이다. 전에 없이 메밀꽃 냄새가 짜릿하게 코를 찌른다고 생각됐다. 미간이 아찔했다. 찝찔한 액체가 입술에 흘러들었다. 코 피였다.\n",
      "\n",
      "소년은 한 손으로 코피를 훔쳐내면서 그냥 달렸다. 어디선가 '바보, 바보' 하는 소리가 자꾸만 뒤따라 오는 것 같았다.\n",
      "\n",
      " \n",
      "\n",
      "토요일이었다.\n",
      "\n",
      "개울가에 이르니, 며칠째 보이지 않던 소녀가 건너편 가에 앉아 물장난을 하고 있었다. 모르는 체 징검다리를 건너기 시작했다. 얼마 전에 소녀 앞에서 한 번 실수를 했을 뿐, 여태 큰길 가듯이 건너던 징검\n",
      "\n",
      "다리를 오늘은 조심스럽게 건넌다.\n",
      "\n",
      "\"얘.\"\n",
      "\n",
      "못 들은 체했다. 둑 위로 올라섰다.\n",
      "\n",
      "\"얘, 이게 무슨 조개지?\"\n",
      "\n",
      "자기도 모르게 돌아섰다. 소녀의 맑고 검은 눈과 마주쳤다. 얼른 소녀의 손바닥으로 눈을 떨구었다.\n",
      "\n",
      "\"비단조개.\"\n",
      "\n",
      "\"이름도 참 곱다.\"\n",
      "\n",
      "갈림길에 왔다. 여기서 소녀는 아래편으로 한 삼 마장쯤, 소년은 우대로 한 십 리 가까운 길을 가야 한다.\n",
      "\n",
      "소녀가 걸음을 멈추며, \"너, 저 산 너머에 가 본 일 있니?\"\n",
      "\n",
      "벌 끝을 가리켰다.\n",
      "\n",
      "\"없다.\"\n",
      "\n",
      "\"우리, 가보지 않으련? 시골 오니까 혼자서 심심해 못 견디겠다.\" \"저래 봬도 멀다.\"\n",
      "\n",
      "\"멀면 얼마나 멀기에? 서울 있을 땐 사뭇 먼 데까지 소풍 갔었다.\" 소녀의 눈이 금새 '바보,바보,'할 것 만 같았다.\n",
      "\n",
      "논 사잇길로 들어섰다. 벼 가을걷이하는 곁을 지났다.\n",
      "\n",
      "허수아비가 서 있었다. 소년이 새끼줄을 흔들었다. 참새가 몇 마리 날아간다. '참, 오늘은 일찍 집으로 돌아가 텃논의 참새를 봐야 할걸.' 하는 생각이 든다.\n",
      "\n",
      "\"야, 재밌다!\"\n",
      "\n",
      "소녀가 허수아비 줄을 잡더니 흔들어 댄다. 허수아비가 자꾸 우쭐거리며 춤을 춘다. 소녀의 왼쪽 볼에 살포시 보조개가 패었다.\n",
      "\n",
      "저만큼 허수아비가 또 서 있다. 소녀가 그리로 달려간다. 그 뒤를 소년도 달렸다. 오늘 같은 날 은 일찍 집으로 돌아가 집안일을 도와야 한다는 생각을 잊어버리기라도 하려는 듯이.\n",
      "\n",
      "소녀의 곁을 스쳐 그냥 달린다. 메뚜기가 따끔따끔 얼굴에 와 부딪친다. 쪽빛으로 한껏 갠 가을 하늘이 소년의 눈앞에서 맴을 돈다. 어지럽다. 저놈의 독수리, 저놈의 독수리, 저놈의 독수리가 맴 을 돌고 있기\n",
      "\n",
      "때문이다.\n",
      "\n",
      "돌아다보니, 소녀는 지금 자기가 지나쳐 온 허수아비를 흔들고 있다. 좀 전 허수아비보다 더 우쭐거린다.\n",
      "\n",
      "논이 끝난 곳에 도랑이 하나 있었다. 소녀가 먼저 뛰어 건넜다.\n",
      "\n",
      "거기서부터 산 밑까지는 밭이었다.\n",
      "\n",
      "수숫단을 세워 놓은 밭머리를 지났다.\n",
      "\n",
      "\"저게 뭐니?\"\n",
      "\n",
      "\"원두막.\"\n",
      "\n",
      "\"여기 참외, 맛있니?\"\n",
      "\n",
      "\"그럼, 참외 맛도 좋지만 수박 맛은 더 좋다.\"\n",
      "\n",
      "\"하나 먹어 봤으면.\"\n",
      "\n",
      "소년이 참외 그루에 심은 무우밭으로 들어가, 무우 두 밑을 뽑아 왔다. 아직 밑이 덜 들어 있었다. 잎을 비틀어 팽개친 후, 소녀에게 한 개 건넨다. 그리고는 이렇게 먹어야 한다는 듯이, 먼저 대강이를 한\n",
      "\n",
      "입 베물어 낸 다음, 손톱으로 한 돌이 껍질을 벗겨 우쩍 깨문다.\n",
      "\n",
      "소녀도 따라 했다. 그러나, 세 입도 못 먹고, \"아, 맵고 지려.\"\n",
      "\n",
      "하며 집어던지고 만다.\n",
      "\n",
      "\"참, 맛없어 못 먹겠다.\"\n",
      "\n",
      "소년이 더 멀리 팽개쳐 버렸다.\n",
      "\n",
      "산이 가까워졌다.\n",
      "\n",
      "단풍이 눈에 따가웠다.\n",
      "\n",
      "\"야아!\"\n",
      "\n",
      "소녀가 산을 향해 달려갔다. 이번은 소년이 뒤따라 달리지 않았다. 그러고도 곧 소녀보다 더 많은 꽃을\n",
      "\n",
      "꺾었다.\n",
      "\n",
      "\"이게 들국화, 이게 싸리꽃, 이게 도라지꽃,…….\"\n",
      "\n",
      "\"도라지꽃이 이렇게 예쁜 줄은 몰랐네. 난 보랏빛이 좋아! …… 그런데, 이 양산 같이 생긴 노란 꽃이\n",
      "\n",
      "뭐지?\"\n",
      "\n",
      "\"마타리꽃.\"\n",
      "\n",
      "소녀는 마타리꽃을 양산 받듯이 해 보인다. 약간 상기된 얼굴에 살포시 보조개를 떠올리며.다시 소년은 꽃 한 옴큼을 꺾어 왔다. 싱싱한 꽃가지만 골라 소녀에게 건넨다.\n",
      "\n",
      "그러나 소녀는\n",
      "\n",
      "\"하나도 버리지 마라.\"\n",
      "\n",
      "산마루께로 올라갔다.\n",
      "\n",
      "맞은편 골짜기에 오순도순 초가집이 몇 모여 있었다.\n",
      "\n",
      "누가 말할 것도 아닌데, 바위에 나란히 걸터앉았다. 유달리 주위가 조용해진 것 같았다. 따가운 가을 햇살만이 말라가는 풀 냄새를 퍼뜨리고 있었다.\n",
      "\n",
      "\"저건 또 무슨 꽃이지?\"\n",
      "\n",
      "적잖이 비탈진 곳에 칡덩굴이 엉키어 꽃을 달고 있었다.\n",
      "\n",
      "\"꼭 등꽃 같네. 서울 우리 학교에 큰 등나무가 있었단다. 저 꽃 을 보니까 등나무 밑에서 놀 던 동무들 생각이 난다.\"\n",
      "\n",
      "소녀가 조용히 일어나 비탈진 곳으로 간다. 꽃송이가 많이 달린 줄기를 잡고 끊기 시작한다. 좀처럼 끊어지지 않는다. 안간힘을 쓰다가 그만 미끄러지고 만다. 칡덩굴을 그러쥐었다.\n",
      "\n",
      "소년이 놀라 달려갔다. 소녀가 손을 내밀었다. 손을 잡아 이끌어 올리며, 소년은 제가 꺾어다 줄 것을 잘못했다고 뉘우친다. 소녀의 오른쪽 무릎에 핏방울이 내맺혔다. 소년은 저도 모르게 생채기 에 입술을\n",
      "\n",
      "가져다 대고 빨기 시작했다. 그러다가, 무슨 생각을 했는지 홱 일어나 저 쪽으로 달려간 다.\n",
      "\n",
      "좀 만에 숨이 차 돌아온 소년은\n",
      "\n",
      "\"이걸 바르면 낫는다.\"\n",
      "\n",
      "송진을 생채기에다 문질러 바르고는 그 달음으로 칡덩굴 있는 데로 내려가, 꽃 많이 달린 몇 줄기를 이빨로 끊어 가지고 올라온다. 그리고는, \"저기 송아지가 있다. 그리 가 보자.\"\n",
      "\n",
      "누렁송아지였다. 아직 코뚜레도 꿰지 않았다.\n",
      "\n",
      "소년이 고삐를 바투 잡아 쥐고 등을 긁어 주는 체 훌쩍 올라탔다. 송아지가 껑충거리며 돌아간 다.\n",
      "\n",
      "소녀의 흰 얼굴이, 분홍 스웨터가, 남색 스커트가, 안고 있는 꽃과 함께 범벅이 된다. 모두가 하 나의 큰 꽃묶음 같다. 어지럽다. 그러나, 내리지 않으리라. 자랑스러웠다. 이것만은 소녀가 흉내 내지 못할, 자\n",
      "\n",
      "기 혼자만이 할 수 있는 일인 것이다.\n",
      "\n",
      "\"너희, 예서 뭣들 하느냐?\"\n",
      "\n",
      "농부(農夫)하나가 억새풀 사이로 올라왔다.\n",
      "\n",
      "송아지 등에서 뛰어내렸다. 어린 송아지를 타서 허리가 상하면 어쩌느냐고 꾸지람을 들을 것만 같다.\n",
      "\n",
      "그런데, 나룻이 긴 농부는 소녀 편을 한 번 훑어보고는 그저 송아지 고삐를 풀어 내면서, \"어서들 집으로 가거라. 소나기가 올라.\"\n",
      "\n",
      "참, 먹장구름 한 장이 머리 위에 와 있다. 갑자기 사면이 소란스러워진 것 같다. 바람이 우수수 소리를 내며 지나간다. 삽시간에 주위가 보랏빛으로 변했다.\n",
      "\n",
      "산을 내려오는데, 떡갈나무 잎에서 빗방울 듣는 소리가 난다. 굵은 빗방울이었다. 목덜미가 선뜻 선뜻했다. 그러자, 대번에 눈앞을 가로막는 빗줄기.\n",
      "\n",
      "비안개 속에 원두막이 보였다. 그리로 가 비를 그을 수밖에.\n",
      "\n",
      "그러나, 원두막은 기둥이 기울고 지붕도 갈래갈래 찢어져 있었다. 그런 대로 비가 덜 새는 곳을 가려 소녀를 들어서게 했다.\n",
      "\n",
      "소녀의 입술이 파아랗게 질렸다. 어깨를 자꾸 떨었다.\n",
      "\n",
      "무명 겹저고리를 벗어 소녀의 어깨를 싸 주었다. 소녀는 비에 젖은 눈을 들어 한 번 쳐다보았을 뿐, 소년이 하는 대로 잠자코 있었다. 그리고는, 안고 온 꽃묶음 속에서 가지가 꺾이고 꽃이 일그러진 송이를\n",
      "\n",
      "골라 발 밑에 버린다. 소녀가 들어선 곳도 비가 새기 시작했다. 더 거기서 비를 그을 수 없었다.\n",
      "\n",
      "밖을 내다보던 소년이 무엇을 생각했는지 수수밭 쪽으로 달려간다. 세워 놓은 수숫단 속을 비집어 보더니, 옆의 수숫단을 날라다 덧세운다. 다시 속을 비집어 본다. 그리고는 이쪽을 향해 손짓을 한다.\n",
      "\n",
      "수숫단 속은 비는 안 새었다. 그저 어둡고 좁은 게 안 됐다. 앞에 나앉은 소년은 그냥 비를 맞아 야만 했다. 그런 소년의 어깨에서 김이 올랐다.\n",
      "\n",
      "소녀가 속삭이듯이, 이리 들어와 앉으라고 했다. 괜찮다고 했다. 소녀가 다시, 들어와 앉으라고 했다.\n",
      "\n",
      "할 수 없이 뒷걸음질을 쳤다. 그 바람에, 소녀가 안고 있는 꽃묶음이 망그러졌다. 그러나, 소녀는 상관없다고 생각했다. 비에 젖은 소년의 몸 내음새가 확 코에 끼얹혀졌다. 그러나, 고개를 돌리지 않았다. 도리\n",
      "\n",
      "어 소년의 몸기운으로 해서 떨리던 몸이 적이 누그러지는 느낌이었다.\n",
      "\n",
      "소란하던 수숫잎 소리가 뚝 그쳤다. 밖이 멀개졌다.\n",
      "\n",
      "수숫단 속을 벗어 나왔다. 멀지 않은 앞쪽에 햇빛이 눈부시게 내리붓고 있었다. 도랑 있는 곳까지와 보니, 엄청나게 물이 불어 있었다. 빛마저 제법 붉은 흙탕물이었다. 뛰어 건널 수가 없었다.\n",
      "\n",
      "소년이 등을 돌려 댔다. 소녀가 순순히 업히었다. 걷어올린 소년의 잠방이까지 물이 올라왔다.\n",
      "\n",
      "소녀는 '어머나'소리를 지르며 소년의 목을 끌어안았다.\n",
      "\n",
      "개울가에 다다르기 전에, 가을 하늘이 언제 그랬는가 싶게 구름 한 점 없이 쪽빛으로 개어 있었다.\n",
      "\n",
      " \n",
      "\n",
      "그 뒤로 소녀의 모습은 뵈지 않았다. 매일같이 개울가로 달려와 봐도 뵈지 않았다.\n",
      "\n",
      "학교에서 쉬는 시간에 운동장을 살피기도 했다. 남 몰래 5학년 여자 반을 엿보기도 했다. 그러나, 뵈지 않았다.\n",
      "\n",
      "그날도 소년은 주머니 속 흰 조약돌만 만지작거리며 개울가로 나왔다. 그랬더니, 이 쪽 개울둑에 소녀가 앉아 있는 게 아닌가.\n",
      "\n",
      "소년은 가슴부터 두근거렸다.\n",
      "\n",
      "\"그 동안 앓았다.\"\n",
      "\n",
      "어쩐지 소녀의 얼굴이 해쓱해져 있었다.\n",
      "\n",
      "\"그 날, 소나기 맞은 탓 아냐?\"\n",
      "\n",
      "소녀가 가만히 고개를 끄덕이었다.\n",
      "\n",
      "\"인제 다 났냐?\"\n",
      "\n",
      "\"아직도…….\"\n",
      "\n",
      "\"그럼, 누워 있어야지.\"\n",
      "\n",
      "\"하도 갑갑해서 나왔다. ……참, 그 날 재밌었어……. 그런데 그 날 어디서 이런 물이 들었는지 잘 지지 않는다.\"\n",
      "\n",
      "소녀가 분홍 스웨터 앞자락을 내려다본다. 거기에 검붉은 진흙물 같은 게 들어 있었다.\n",
      "\n",
      "소녀가 가만히 보조개를 떠올리며, \"그래 이게 무슨 물 같니?\"\n",
      "\n",
      "소년은 스웨터 앞자락만 바라보고 있었다.\n",
      "\n",
      "\"내, 생각해 냈다. 그 날, 도랑을 건너면서 내가 업힌 일이 있지? 그 때, 네 등에서 옮은 물이다.\"\n",
      "\n",
      "소년은 얼굴이 확 달아오름을 느꼈다.\n",
      "\n",
      "갈림길에서 소녀는\n",
      "\n",
      "\"저, 오늘 아침에 우리 집에서 대추를 땄다. 낼 제사 지내려고 …….\" 대추 한 줌을 내준다. 소년은 주춤한다.\n",
      "\n",
      "\"맛봐라. 우리 증조(曾祖)할아버지가 심었다는데, 아주 달다.\" 소년은 두 손을 오그려 내밀며, \"참, 알도 굵다!\"\n",
      "\n",
      "\"그리고 저, 우리 이번에 제사 지내고 나서 좀 있다. 집을 내주 게 됐다.\" 소년은 소녀네가 이사해 오기 전에 벌써 어른들의 이야기를 들어서, 윤 초시 손자(孫子)가 서울 서 사업에 실패해 가지고 고향에 돌아\n",
      "\n",
      "오지 않을 수 없게 되었다는 걸 알고 있었다. 그것이 이번에 는 고향집마저 남의 손에 넘기게 된 모양이었다.\n",
      "\n",
      "\"왜 그런지 난 이사 가는 게 싫어졌다. 어른들이 하는 일이니 어쩔 수 없지만…….\" 전에 없이, 소녀의\n",
      "\n",
      "까만 눈에 쓸쓸한 빛이 떠돌았다.\n",
      "\n",
      "소녀와 헤어져 돌아오는 길에, 소년은 혼잣속으로, 소녀가 이사를 간다는 말을 수없이 되뇌어 보았다. 무어 그리 안타까울 것도 서러울 것도 없었다. 그렇건만, 소년은 지금 자기가 씹고 있는 대추알의 단맛을 모르고 있었다.\n",
      "\n",
      "이 날 밤, 소년은 몰래 덕쇠 할아버지네 호두밭으로 갔다.\n",
      "\n",
      "낯에 봐 두었던 나무로 올라갔다. 그리고, 봐 두었던 가지를 향해 작대기를 내리쳤다. 호두송이 떨어지는 소리가 별나게 크게 들렸다. 가슴이 선뜩했다. 그러나 다음 순간, 굵은 호두야 많이 떨어 져라, 많이\n",
      "\n",
      "떨어져라, 저도 모를 힘에 이끌려 마구 작대기를 내리 치는 것이었다.\n",
      "\n",
      "돌아오는 길에는 열 이틀 달이 지우는 그늘만 골라 디뎠다. 그늘의 고마움을 처음 느꼈다.\n",
      "\n",
      "불룩한 주머니를 어루만졌다. 호두송이를 맨손으로 깠다가는 옴이 오르기 쉽다는 말 같은 건 아무렇지도 않았다. 그저 근동에서 제일 가는 이 덕쇠 할아버지네 호두를 어서 소녀에게 맛보여야 한 다는 생각만이 앞섰다.\n",
      "\n",
      "그러다, 아차 하는 생각이 들었다. 소녀더러 병이 좀 낫거들랑 이사 가기 전에 한 번 개울가로 나와 달라는 말을 못해 둔 것이었다. 바보 같은것, 바보 같은것.\n",
      "\n",
      "이튿날, 소년이 학교에서 돌아오니, 아버지가 나들이옷으로 갈아입고 닭 한 마리를 안고 있었다.\n",
      "\n",
      "어디 가시느냐고 물었다.\n",
      "\n",
      "그 말에도 대꾸도 없이, 아버지는 안고 있는 닭의 무게를 겨냥해 보면서, \"이만하면 될까?\"\n",
      "\n",
      "어머니가 망태기를 내주며, \"벌써 며칠째 '걀걀'하고 알 날 자리를 보던데요. 크진 않아도 살은 쪘을 거\n",
      "\n",
      "여요.\" 소년이 이번에는 어머니한테 아버지가 어디 가시느냐고 물어 보았다.\n",
      "\n",
      "\"저, 서당골 윤 초시 댁에 가신다. 제삿상에라도 놓으시라고… ….\" \"그럼, 큰 놈으로 하나 가져가지. 저\n",
      "\n",
      "얼룩수탉으로…….\" 이 말에, 아버지는 허허 웃고 나서, \"임마, 그래도 이게 실속이 있다.\"\n",
      "\n",
      "소년은 공연히 열적어, 책보를 집어던지고는 외양간으로가, 쇠잔등을 한 번 철썩 갈겼다. 쇠파리라도 잡는 체.\n",
      "\n",
      " \n",
      "\n",
      "개울물은 날로 여물어 갔다.\n",
      "\n",
      "소년은 갈림길에서 아래쪽으로 가 보았다. 갈밭머리에서 바라보는 서당골 마을은 쪽빛 하늘 아래 한결 가까워 보였다.\n",
      "\n",
      "어른들의 말이, 내일 소녀네가 양평읍으로 이사 간다는 것이었다. 거기 가서는 조그마한 가겟방 을 보게 되리라는 것이었다.\n",
      "\n",
      "소년은 저도 모르게 주머니 속 호두알을 만지작거리며, 한 손으로는 수없이 갈꽃을 휘어 꺾고 있었다.\n",
      "\n",
      "그 날 밤, 소년은 자리에 누워서도 같은 생각뿐이었다. 내일 소녀네가 이사하는 걸 가보나 어쩌 나. 가면 소녀를 보게 될까 어떨까.\n",
      "\n",
      "그러다가 까무룩 잠이 들었는가 하는데, \"허, 참 세상일도…….\"\n",
      "\n",
      "마을 갔던 아버지가 언제 돌아왔는지, \"윤 초시 댁도 말이 아니야, 그 많던 전답을 다 팔아 버리고, 대 대로 살아오던 집마저 남의 손에 넘기더니, 또 악상까지 당하는 걸 보면…….\" 남폿불 밑에서 바느질감\n",
      "\n",
      "을 안고 있던 어머니가, \"증손(曾孫)이라곤 계집애 그 애 하나뿐이었지요?\"\n",
      "\n",
      "\"그렇지, 사내 애 둘 있던 건 어려서 잃어버리고…….\" \"어쩌면 그렇게 자식복이 없을까.\"\n",
      "\n",
      "\"글쎄 말이지. 이번 앤 꽤 여러 날 앓는 걸 약도 변변히 못써 봤다더군. 지금 같아서 윤 초 시네도 대\n",
      "\n",
      "가 끊긴 셈이지.……그런데 참, 이번 계집앤 어린 것이 여간 잔망스럽지가 않아. 글 쎄, 죽기 전에 이런\n",
      "\n",
      "말을 했다지 않아? 자기가 죽거든 자기 입던 옷을 꼭 그대로 입혀서 묻어 달라고…….\"\n"
     ]
    }
   ],
   "source": [
    "f=open('d.txt','r',encoding='utf8')\n",
    "dw = f.read()\n",
    "print(dw)"
   ]
  },
  {
   "cell_type": "code",
   "execution_count": 104,
   "metadata": {},
   "outputs": [
    {
     "name": "stdout",
     "output_type": "stream",
     "text": [
      "제가 살고 있는 서종면 문호리에서 멀지 않은 곳 (서종면 수능리)에 황순원의 단편소설 소나기를 주제로 한 '소나기 공원'이 있습니다\n",
      " 군과 모 대학, 그리고 관심있는 분들이 적지 않은 예산을 투자하여 만든 공원입니다\n",
      " 이제 개장 2년차를 맞아 많은 방문객들이 찾아 옵니다\n",
      " 작년말부터 개선된 교통체계에 따라 더 많은 분들이 이 곳을 방문할 것으로 예상하고 있습니다\n",
      " 이제 봄이 되니 저도 한번 다녀오려고 합니다\n",
      " 가기 전에 단편소설을 다시 한번 읽어 봅니다\n",
      " 전원의 아름다움을 잘 표현하고 있는 대목이 정겹습니다\n",
      "\n",
      "\n",
      " \n",
      "\n",
      "소나기 / 황순원\n",
      "\n",
      " \n",
      "\n",
      "소년은 개울가에서 소녀를 보자 곧 윤 초시네 증손녀(曾孫女)딸이라는 걸 알 수 있었다\n",
      " 소녀는 개울에다 손을 잠그고 물장난을 하고 있는 것이다\n",
      " 서울서는 이런 개울물을 보지 못하기나 한 듯 이\n",
      "\n",
      "\n",
      "벌써 며칠째 소녀는, 학교에서 돌아오는 길에 물장난이었다\n",
      " 그런데, 어제까지 개울 기슭에서 하 더니, 오늘은 징검다리 한가운데 앉아서 하고 있다\n",
      " 소년은 개울둑에 앉아 버렸다\n",
      " 소녀가 비키기를 기다리자는 것이다\n",
      " 요행 지나가는 사람이 있어, 소녀가 길을 비켜 주었다\n",
      "\n",
      "\n",
      " \n",
      "\n",
      "다음 날은 좀 늦게 개울가로 나왔다\n",
      "\n",
      "\n",
      "이 날은 소녀가 징검다리 한가운데 앉아 세수를 하고 있었다\n",
      " 분홍 스웨터 소매를 걷어올린 목덜미가 마냥 희었다\n",
      "\n",
      "\n",
      "한참 세수를 하고 나더니, 이번에는 물 속을 빤히 들여다 본다\n",
      " 얼굴이라도 비추어 보는 것이리 라\n",
      " 갑자기 물을 움켜 낸다\n",
      " 고기 새끼라도 지나가는 듯\n",
      " 소녀는 소년이 개울둑에 앉아 있는 걸 아는지 모르는지 그냥 날쌔게 물만 움켜 낸다\n",
      " 그러나, 번번이 허탕이다\n",
      " 그대로 재미있는 양, 자꾸 물만 움킨다\n",
      " 어제처럼 개울을 건너는 사람이 있어야 길 을 비킬 모양이다\n",
      "\n",
      "\n",
      "그러다가 소녀가 물 속에서 무엇을 하나 집어낸다\n",
      " 하얀 조약돌이었다\n",
      " 그리고는 벌떡 일어나 팔짝팔짝 징검다리를 뛰어 건너간다\n",
      "\n",
      "\n",
      "다 건너가더니만 홱 이리로 돌아서며, \"이 바보\n",
      "\"\n",
      "\n",
      "조약돌이 날아왔다\n",
      " 소년은 저도 모르게 벌떡 일어섰다\n",
      "\n",
      "\n",
      "단발 머리를 나풀거리며 소녀가 막 달린다\n",
      " 갈밭 사잇길로 들어섰다\n",
      " 뒤에는 청량한 가을 햇살 아래 빛나는 갈꽃뿐\n",
      "\n",
      "\n",
      "이제 저쯤 갈밭머리로 소녀가 나타나리라\n",
      " 꽤 오랜 시간이 지났다고 생각됐다\n",
      " 그런데도 소녀는 나타나지 않는다\n",
      " 발돋움을 했다\n",
      " 그러고도 상당한 시간이 지났다고 생각됐다\n",
      "\n",
      "\n",
      "저 쪽 갈밭머리에 갈꽃이 한 옴큼 움직였다\n",
      " 소녀가 갈꽃을 안고 있었다\n",
      " 그리고, 이제는 천천한 걸음이었다\n",
      " 유난히 맑은 가을 햇살이 소녀의 갈꽃머리에서 반짝거렸다\n",
      " 소녀 아닌 갈꽃이 들길을 걸어가는\n",
      "\n",
      "것만 같았다\n",
      "\n",
      "\n",
      "소년은 이 갈꽃이 아주 뵈지 않게 되기까지 그대로 서 있었다\n",
      " 문득, 소녀가 던지 조약돌을 내려 다보았다\n",
      " 물기가 걷혀 있었다\n",
      " 소년은 조약돌을 집어 주머니에 넣었다\n",
      "\n",
      "\n",
      " \n",
      "\n",
      "다음 날부터 좀더 늦게 개울가로 나왔다\n",
      " 소녀의 그림자가 뵈지 않았다\n",
      " 다행이었다\n",
      " 그러나, 이상한 일이었다\n",
      " 소녀의 그림자가 뵈지 않는 날이 계속될수록 소년의 가슴 한 구석에는 어딘\n",
      "\n",
      "가 허전함이 자리 잡는 것이었다\n",
      " 주머니 속 조약돌을 주무르는 버릇이 생겼다\n",
      "\n",
      "\n",
      "그러한 어떤 날, 소년은 전에 소녀가 앉아 물장난을 하던 징검다리 한가운데에 앉아 보았다\n",
      " 물 속에 손을 잠갔다\n",
      " 세수를 하였다\n",
      " 물 속을 들여다보았다\n",
      " 검게 탄 얼굴이 그대로 비치었다\n",
      " 싫었다\n",
      "\n",
      "\n",
      "소년은 두 손으로 물 속의 얼굴을 움키었다\n",
      " 몇 번이고 움키었다\n",
      " 그러다가 깜짝 놀라 일어나고 말았다\n",
      " 소녀가 이리로 건너오고 있지 않느냐\n",
      "'숨어서 내가 하는 일을 엿보고 있었구나\n",
      "' 소년은 달리기를 시작했다\n",
      " 디딤돌을 헛디뎠다\n",
      " 한 발이 물 속에 빠졌다\n",
      " 더 달렸다\n",
      "\n",
      "\n",
      "몸을 가릴 데가 있어 줬으면 좋겠다\n",
      " 이 쪽 길에는 갈밭도 없다\n",
      " 메밀밭이다\n",
      " 전에 없이 메밀꽃 냄새가 짜릿하게 코를 찌른다고 생각됐다\n",
      " 미간이 아찔했다\n",
      " 찝찔한 액체가 입술에 흘러들었다\n",
      " 코 피였다\n",
      "\n",
      "\n",
      "소년은 한 손으로 코피를 훔쳐내면서 그냥 달렸다\n",
      " 어디선가 '바보, 바보' 하는 소리가 자꾸만 뒤따라 오는 것 같았다\n",
      "\n",
      "\n",
      " \n",
      "\n",
      "토요일이었다\n",
      "\n",
      "\n",
      "개울가에 이르니, 며칠째 보이지 않던 소녀가 건너편 가에 앉아 물장난을 하고 있었다\n",
      " 모르는 체 징검다리를 건너기 시작했다\n",
      " 얼마 전에 소녀 앞에서 한 번 실수를 했을 뿐, 여태 큰길 가듯이 건너던 징검\n",
      "\n",
      "다리를 오늘은 조심스럽게 건넌다\n",
      "\n",
      "\n",
      "\"얘\n",
      "\"\n",
      "\n",
      "못 들은 체했다\n",
      " 둑 위로 올라섰다\n",
      "\n",
      "\n",
      "\"얘, 이게 무슨 조개지?\"\n",
      "\n",
      "자기도 모르게 돌아섰다\n",
      " 소녀의 맑고 검은 눈과 마주쳤다\n",
      " 얼른 소녀의 손바닥으로 눈을 떨구었다\n",
      "\n",
      "\n",
      "\"비단조개\n",
      "\"\n",
      "\n",
      "\"이름도 참 곱다\n",
      "\"\n",
      "\n",
      "갈림길에 왔다\n",
      " 여기서 소녀는 아래편으로 한 삼 마장쯤, 소년은 우대로 한 십 리 가까운 길을 가야 한다\n",
      "\n",
      "\n",
      "소녀가 걸음을 멈추며, \"너, 저 산 너머에 가 본 일 있니?\"\n",
      "\n",
      "벌 끝을 가리켰다\n",
      "\n",
      "\n",
      "\"없다\n",
      "\"\n",
      "\n",
      "\"우리, 가보지 않으련? 시골 오니까 혼자서 심심해 못 견디겠다\n",
      "\" \"저래 봬도 멀다\n",
      "\"\n",
      "\n",
      "\"멀면 얼마나 멀기에? 서울 있을 땐 사뭇 먼 데까지 소풍 갔었다\n",
      "\" 소녀의 눈이 금새 '바보,바보,'할 것 만 같았다\n",
      "\n",
      "\n",
      "논 사잇길로 들어섰다\n",
      " 벼 가을걷이하는 곁을 지났다\n",
      "\n",
      "\n",
      "허수아비가 서 있었다\n",
      " 소년이 새끼줄을 흔들었다\n",
      " 참새가 몇 마리 날아간다\n",
      " '참, 오늘은 일찍 집으로 돌아가 텃논의 참새를 봐야 할걸\n",
      "' 하는 생각이 든다\n",
      "\n",
      "\n",
      "\"야, 재밌다!\"\n",
      "\n",
      "소녀가 허수아비 줄을 잡더니 흔들어 댄다\n",
      " 허수아비가 자꾸 우쭐거리며 춤을 춘다\n",
      " 소녀의 왼쪽 볼에 살포시 보조개가 패었다\n",
      "\n",
      "\n",
      "저만큼 허수아비가 또 서 있다\n",
      " 소녀가 그리로 달려간다\n",
      " 그 뒤를 소년도 달렸다\n",
      " 오늘 같은 날 은 일찍 집으로 돌아가 집안일을 도와야 한다는 생각을 잊어버리기라도 하려는 듯이\n",
      "\n",
      "\n",
      "소녀의 곁을 스쳐 그냥 달린다\n",
      " 메뚜기가 따끔따끔 얼굴에 와 부딪친다\n",
      " 쪽빛으로 한껏 갠 가을 하늘이 소년의 눈앞에서 맴을 돈다\n",
      " 어지럽다\n",
      " 저놈의 독수리, 저놈의 독수리, 저놈의 독수리가 맴 을 돌고 있기\n",
      "\n",
      "때문이다\n",
      "\n",
      "\n",
      "돌아다보니, 소녀는 지금 자기가 지나쳐 온 허수아비를 흔들고 있다\n",
      " 좀 전 허수아비보다 더 우쭐거린다\n",
      "\n",
      "\n",
      "논이 끝난 곳에 도랑이 하나 있었다\n",
      " 소녀가 먼저 뛰어 건넜다\n",
      "\n",
      "\n",
      "거기서부터 산 밑까지는 밭이었다\n",
      "\n",
      "\n",
      "수숫단을 세워 놓은 밭머리를 지났다\n",
      "\n",
      "\n",
      "\"저게 뭐니?\"\n",
      "\n",
      "\"원두막\n",
      "\"\n",
      "\n",
      "\"여기 참외, 맛있니?\"\n",
      "\n",
      "\"그럼, 참외 맛도 좋지만 수박 맛은 더 좋다\n",
      "\"\n",
      "\n",
      "\"하나 먹어 봤으면\n",
      "\"\n",
      "\n",
      "소년이 참외 그루에 심은 무우밭으로 들어가, 무우 두 밑을 뽑아 왔다\n",
      " 아직 밑이 덜 들어 있었다\n",
      " 잎을 비틀어 팽개친 후, 소녀에게 한 개 건넨다\n",
      " 그리고는 이렇게 먹어야 한다는 듯이, 먼저 대강이를 한\n",
      "\n",
      "입 베물어 낸 다음, 손톱으로 한 돌이 껍질을 벗겨 우쩍 깨문다\n",
      "\n",
      "\n",
      "소녀도 따라 했다\n",
      " 그러나, 세 입도 못 먹고, \"아, 맵고 지려\n",
      "\"\n",
      "\n",
      "하며 집어던지고 만다\n",
      "\n",
      "\n",
      "\"참, 맛없어 못 먹겠다\n",
      "\"\n",
      "\n",
      "소년이 더 멀리 팽개쳐 버렸다\n",
      "\n",
      "\n",
      "산이 가까워졌다\n",
      "\n",
      "\n",
      "단풍이 눈에 따가웠다\n",
      "\n",
      "\n",
      "\"야아!\"\n",
      "\n",
      "소녀가 산을 향해 달려갔다\n",
      " 이번은 소년이 뒤따라 달리지 않았다\n",
      " 그러고도 곧 소녀보다 더 많은 꽃을\n",
      "\n",
      "꺾었다\n",
      "\n",
      "\n",
      "\"이게 들국화, 이게 싸리꽃, 이게 도라지꽃,……\n",
      "\"\n",
      "\n",
      "\"도라지꽃이 이렇게 예쁜 줄은 몰랐네\n",
      " 난 보랏빛이 좋아! …… 그런데, 이 양산 같이 생긴 노란 꽃이\n",
      "\n",
      "뭐지?\"\n",
      "\n",
      "\"마타리꽃\n",
      "\"\n",
      "\n",
      "소녀는 마타리꽃을 양산 받듯이 해 보인다\n",
      " 약간 상기된 얼굴에 살포시 보조개를 떠올리며\n",
      "다시 소년은 꽃 한 옴큼을 꺾어 왔다\n",
      " 싱싱한 꽃가지만 골라 소녀에게 건넨다\n",
      "\n",
      "\n",
      "그러나 소녀는\n",
      "\n",
      "\"하나도 버리지 마라\n",
      "\"\n",
      "\n",
      "산마루께로 올라갔다\n",
      "\n",
      "\n",
      "맞은편 골짜기에 오순도순 초가집이 몇 모여 있었다\n",
      "\n",
      "\n",
      "누가 말할 것도 아닌데, 바위에 나란히 걸터앉았다\n",
      " 유달리 주위가 조용해진 것 같았다\n",
      " 따가운 가을 햇살만이 말라가는 풀 냄새를 퍼뜨리고 있었다\n",
      "\n",
      "\n",
      "\"저건 또 무슨 꽃이지?\"\n",
      "\n",
      "적잖이 비탈진 곳에 칡덩굴이 엉키어 꽃을 달고 있었다\n",
      "\n",
      "\n",
      "\"꼭 등꽃 같네\n",
      " 서울 우리 학교에 큰 등나무가 있었단다\n",
      " 저 꽃 을 보니까 등나무 밑에서 놀 던 동무들 생각이 난다\n",
      "\"\n",
      "\n",
      "소녀가 조용히 일어나 비탈진 곳으로 간다\n",
      " 꽃송이가 많이 달린 줄기를 잡고 끊기 시작한다\n",
      " 좀처럼 끊어지지 않는다\n",
      " 안간힘을 쓰다가 그만 미끄러지고 만다\n",
      " 칡덩굴을 그러쥐었다\n",
      "\n",
      "\n",
      "소년이 놀라 달려갔다\n",
      " 소녀가 손을 내밀었다\n",
      " 손을 잡아 이끌어 올리며, 소년은 제가 꺾어다 줄 것을 잘못했다고 뉘우친다\n",
      " 소녀의 오른쪽 무릎에 핏방울이 내맺혔다\n",
      " 소년은 저도 모르게 생채기 에 입술을\n",
      "\n",
      "가져다 대고 빨기 시작했다\n",
      " 그러다가, 무슨 생각을 했는지 홱 일어나 저 쪽으로 달려간 다\n",
      "\n",
      "\n",
      "좀 만에 숨이 차 돌아온 소년은\n",
      "\n",
      "\"이걸 바르면 낫는다\n",
      "\"\n",
      "\n",
      "송진을 생채기에다 문질러 바르고는 그 달음으로 칡덩굴 있는 데로 내려가, 꽃 많이 달린 몇 줄기를 이빨로 끊어 가지고 올라온다\n",
      " 그리고는, \"저기 송아지가 있다\n",
      " 그리 가 보자\n",
      "\"\n",
      "\n",
      "누렁송아지였다\n",
      " 아직 코뚜레도 꿰지 않았다\n",
      "\n",
      "\n",
      "소년이 고삐를 바투 잡아 쥐고 등을 긁어 주는 체 훌쩍 올라탔다\n",
      " 송아지가 껑충거리며 돌아간 다\n",
      "\n",
      "\n",
      "소녀의 흰 얼굴이, 분홍 스웨터가, 남색 스커트가, 안고 있는 꽃과 함께 범벅이 된다\n",
      " 모두가 하 나의 큰 꽃묶음 같다\n",
      " 어지럽다\n",
      " 그러나, 내리지 않으리라\n",
      " 자랑스러웠다\n",
      " 이것만은 소녀가 흉내 내지 못할, 자\n",
      "\n",
      "기 혼자만이 할 수 있는 일인 것이다\n",
      "\n",
      "\n",
      "\"너희, 예서 뭣들 하느냐?\"\n",
      "\n",
      "농부(農夫)하나가 억새풀 사이로 올라왔다\n",
      "\n",
      "\n",
      "송아지 등에서 뛰어내렸다\n",
      " 어린 송아지를 타서 허리가 상하면 어쩌느냐고 꾸지람을 들을 것만 같다\n",
      "\n",
      "\n",
      "그런데, 나룻이 긴 농부는 소녀 편을 한 번 훑어보고는 그저 송아지 고삐를 풀어 내면서, \"어서들 집으로 가거라\n",
      " 소나기가 올라\n",
      "\"\n",
      "\n",
      "참, 먹장구름 한 장이 머리 위에 와 있다\n",
      " 갑자기 사면이 소란스러워진 것 같다\n",
      " 바람이 우수수 소리를 내며 지나간다\n",
      " 삽시간에 주위가 보랏빛으로 변했다\n",
      "\n",
      "\n",
      "산을 내려오는데, 떡갈나무 잎에서 빗방울 듣는 소리가 난다\n",
      " 굵은 빗방울이었다\n",
      " 목덜미가 선뜻 선뜻했다\n",
      " 그러자, 대번에 눈앞을 가로막는 빗줄기\n",
      "\n",
      "\n",
      "비안개 속에 원두막이 보였다\n",
      " 그리로 가 비를 그을 수밖에\n",
      "\n",
      "\n",
      "그러나, 원두막은 기둥이 기울고 지붕도 갈래갈래 찢어져 있었다\n",
      " 그런 대로 비가 덜 새는 곳을 가려 소녀를 들어서게 했다\n",
      "\n",
      "\n",
      "소녀의 입술이 파아랗게 질렸다\n",
      " 어깨를 자꾸 떨었다\n",
      "\n",
      "\n",
      "무명 겹저고리를 벗어 소녀의 어깨를 싸 주었다\n",
      " 소녀는 비에 젖은 눈을 들어 한 번 쳐다보았을 뿐, 소년이 하는 대로 잠자코 있었다\n",
      " 그리고는, 안고 온 꽃묶음 속에서 가지가 꺾이고 꽃이 일그러진 송이를\n",
      "\n",
      "골라 발 밑에 버린다\n",
      " 소녀가 들어선 곳도 비가 새기 시작했다\n",
      " 더 거기서 비를 그을 수 없었다\n",
      "\n",
      "\n",
      "밖을 내다보던 소년이 무엇을 생각했는지 수수밭 쪽으로 달려간다\n",
      " 세워 놓은 수숫단 속을 비집어 보더니, 옆의 수숫단을 날라다 덧세운다\n",
      " 다시 속을 비집어 본다\n",
      " 그리고는 이쪽을 향해 손짓을 한다\n",
      "\n",
      "\n",
      "수숫단 속은 비는 안 새었다\n",
      " 그저 어둡고 좁은 게 안 됐다\n",
      " 앞에 나앉은 소년은 그냥 비를 맞아 야만 했다\n",
      " 그런 소년의 어깨에서 김이 올랐다\n",
      "\n",
      "\n",
      "소녀가 속삭이듯이, 이리 들어와 앉으라고 했다\n",
      " 괜찮다고 했다\n",
      " 소녀가 다시, 들어와 앉으라고 했다\n",
      "\n",
      "\n",
      "할 수 없이 뒷걸음질을 쳤다\n",
      " 그 바람에, 소녀가 안고 있는 꽃묶음이 망그러졌다\n",
      " 그러나, 소녀는 상관없다고 생각했다\n",
      " 비에 젖은 소년의 몸 내음새가 확 코에 끼얹혀졌다\n",
      " 그러나, 고개를 돌리지 않았다\n",
      " 도리\n",
      "\n",
      "어 소년의 몸기운으로 해서 떨리던 몸이 적이 누그러지는 느낌이었다\n",
      "\n",
      "\n",
      "소란하던 수숫잎 소리가 뚝 그쳤다\n",
      " 밖이 멀개졌다\n",
      "\n",
      "\n",
      "수숫단 속을 벗어 나왔다\n",
      " 멀지 않은 앞쪽에 햇빛이 눈부시게 내리붓고 있었다\n",
      " 도랑 있는 곳까지와 보니, 엄청나게 물이 불어 있었다\n",
      " 빛마저 제법 붉은 흙탕물이었다\n",
      " 뛰어 건널 수가 없었다\n",
      "\n",
      "\n",
      "소년이 등을 돌려 댔다\n",
      " 소녀가 순순히 업히었다\n",
      " 걷어올린 소년의 잠방이까지 물이 올라왔다\n",
      "\n",
      "\n",
      "소녀는 '어머나'소리를 지르며 소년의 목을 끌어안았다\n",
      "\n",
      "\n",
      "개울가에 다다르기 전에, 가을 하늘이 언제 그랬는가 싶게 구름 한 점 없이 쪽빛으로 개어 있었다\n",
      "\n",
      "\n",
      " \n",
      "\n",
      "그 뒤로 소녀의 모습은 뵈지 않았다\n",
      " 매일같이 개울가로 달려와 봐도 뵈지 않았다\n",
      "\n",
      "\n",
      "학교에서 쉬는 시간에 운동장을 살피기도 했다\n",
      " 남 몰래 5학년 여자 반을 엿보기도 했다\n",
      " 그러나, 뵈지 않았다\n",
      "\n",
      "\n",
      "그날도 소년은 주머니 속 흰 조약돌만 만지작거리며 개울가로 나왔다\n",
      " 그랬더니, 이 쪽 개울둑에 소녀가 앉아 있는 게 아닌가\n",
      "\n",
      "\n",
      "소년은 가슴부터 두근거렸다\n",
      "\n",
      "\n",
      "\"그 동안 앓았다\n",
      "\"\n",
      "\n",
      "어쩐지 소녀의 얼굴이 해쓱해져 있었다\n",
      "\n",
      "\n",
      "\"그 날, 소나기 맞은 탓 아냐?\"\n",
      "\n",
      "소녀가 가만히 고개를 끄덕이었다\n",
      "\n",
      "\n",
      "\"인제 다 났냐?\"\n",
      "\n",
      "\"아직도……\n",
      "\"\n",
      "\n",
      "\"그럼, 누워 있어야지\n",
      "\"\n",
      "\n",
      "\"하도 갑갑해서 나왔다\n",
      " ……참, 그 날 재밌었어……\n",
      " 그런데 그 날 어디서 이런 물이 들었는지 잘 지지 않는다\n",
      "\"\n",
      "\n",
      "소녀가 분홍 스웨터 앞자락을 내려다본다\n",
      " 거기에 검붉은 진흙물 같은 게 들어 있었다\n",
      "\n",
      "\n",
      "소녀가 가만히 보조개를 떠올리며, \"그래 이게 무슨 물 같니?\"\n",
      "\n",
      "소년은 스웨터 앞자락만 바라보고 있었다\n",
      "\n",
      "\n",
      "\"내, 생각해 냈다\n",
      " 그 날, 도랑을 건너면서 내가 업힌 일이 있지? 그 때, 네 등에서 옮은 물이다\n",
      "\"\n",
      "\n",
      "소년은 얼굴이 확 달아오름을 느꼈다\n",
      "\n",
      "\n",
      "갈림길에서 소녀는\n",
      "\n",
      "\"저, 오늘 아침에 우리 집에서 대추를 땄다\n",
      " 낼 제사 지내려고 ……\n",
      "\" 대추 한 줌을 내준다\n",
      " 소년은 주춤한다\n",
      "\n",
      "\n",
      "\"맛봐라\n",
      " 우리 증조(曾祖)할아버지가 심었다는데, 아주 달다\n",
      "\" 소년은 두 손을 오그려 내밀며, \"참, 알도 굵다!\"\n",
      "\n",
      "\"그리고 저, 우리 이번에 제사 지내고 나서 좀 있다\n",
      " 집을 내주 게 됐다\n",
      "\" 소년은 소녀네가 이사해 오기 전에 벌써 어른들의 이야기를 들어서, 윤 초시 손자(孫子)가 서울 서 사업에 실패해 가지고 고향에 돌아\n",
      "\n",
      "오지 않을 수 없게 되었다는 걸 알고 있었다\n",
      " 그것이 이번에 는 고향집마저 남의 손에 넘기게 된 모양이었다\n",
      "\n",
      "\n",
      "\"왜 그런지 난 이사 가는 게 싫어졌다\n",
      " 어른들이 하는 일이니 어쩔 수 없지만……\n",
      "\" 전에 없이, 소녀의\n",
      "\n",
      "까만 눈에 쓸쓸한 빛이 떠돌았다\n",
      "\n",
      "\n",
      "소녀와 헤어져 돌아오는 길에, 소년은 혼잣속으로, 소녀가 이사를 간다는 말을 수없이 되뇌어 보았다\n",
      " 무어 그리 안타까울 것도 서러울 것도 없었다\n",
      " 그렇건만, 소년은 지금 자기가 씹고 있는 대추알의 단맛을 모르고 있었다\n",
      "\n",
      "\n",
      "이 날 밤, 소년은 몰래 덕쇠 할아버지네 호두밭으로 갔다\n",
      "\n",
      "\n",
      "낯에 봐 두었던 나무로 올라갔다\n",
      " 그리고, 봐 두었던 가지를 향해 작대기를 내리쳤다\n",
      " 호두송이 떨어지는 소리가 별나게 크게 들렸다\n",
      " 가슴이 선뜩했다\n",
      " 그러나 다음 순간, 굵은 호두야 많이 떨어 져라, 많이\n",
      "\n",
      "떨어져라, 저도 모를 힘에 이끌려 마구 작대기를 내리 치는 것이었다\n",
      "\n",
      "\n",
      "돌아오는 길에는 열 이틀 달이 지우는 그늘만 골라 디뎠다\n",
      " 그늘의 고마움을 처음 느꼈다\n",
      "\n",
      "\n",
      "불룩한 주머니를 어루만졌다\n",
      " 호두송이를 맨손으로 깠다가는 옴이 오르기 쉽다는 말 같은 건 아무렇지도 않았다\n",
      " 그저 근동에서 제일 가는 이 덕쇠 할아버지네 호두를 어서 소녀에게 맛보여야 한 다는 생각만이 앞섰다\n",
      "\n",
      "\n",
      "그러다, 아차 하는 생각이 들었다\n",
      " 소녀더러 병이 좀 낫거들랑 이사 가기 전에 한 번 개울가로 나와 달라는 말을 못해 둔 것이었다\n",
      " 바보 같은것, 바보 같은것\n",
      "\n",
      "\n",
      "이튿날, 소년이 학교에서 돌아오니, 아버지가 나들이옷으로 갈아입고 닭 한 마리를 안고 있었다\n",
      "\n",
      "\n",
      "어디 가시느냐고 물었다\n",
      "\n",
      "\n",
      "그 말에도 대꾸도 없이, 아버지는 안고 있는 닭의 무게를 겨냥해 보면서, \"이만하면 될까?\"\n",
      "\n",
      "어머니가 망태기를 내주며, \"벌써 며칠째 '걀걀'하고 알 날 자리를 보던데요\n",
      " 크진 않아도 살은 쪘을 거\n",
      "\n",
      "여요\n",
      "\" 소년이 이번에는 어머니한테 아버지가 어디 가시느냐고 물어 보았다\n",
      "\n",
      "\n",
      "\"저, 서당골 윤 초시 댁에 가신다\n",
      " 제삿상에라도 놓으시라고… …\n",
      "\" \"그럼, 큰 놈으로 하나 가져가지\n",
      " 저\n",
      "\n",
      "얼룩수탉으로……\n",
      "\" 이 말에, 아버지는 허허 웃고 나서, \"임마, 그래도 이게 실속이 있다\n",
      "\"\n",
      "\n",
      "소년은 공연히 열적어, 책보를 집어던지고는 외양간으로가, 쇠잔등을 한 번 철썩 갈겼다\n",
      " 쇠파리라도 잡는 체\n",
      "\n",
      "\n",
      " \n",
      "\n",
      "개울물은 날로 여물어 갔다\n",
      "\n",
      "\n",
      "소년은 갈림길에서 아래쪽으로 가 보았다\n",
      " 갈밭머리에서 바라보는 서당골 마을은 쪽빛 하늘 아래 한결 가까워 보였다\n",
      "\n",
      "\n",
      "어른들의 말이, 내일 소녀네가 양평읍으로 이사 간다는 것이었다\n",
      " 거기 가서는 조그마한 가겟방 을 보게 되리라는 것이었다\n",
      "\n",
      "\n",
      "소년은 저도 모르게 주머니 속 호두알을 만지작거리며, 한 손으로는 수없이 갈꽃을 휘어 꺾고 있었다\n",
      "\n",
      "\n",
      "그 날 밤, 소년은 자리에 누워서도 같은 생각뿐이었다\n",
      " 내일 소녀네가 이사하는 걸 가보나 어쩌 나\n",
      " 가면 소녀를 보게 될까 어떨까\n",
      "\n",
      "\n",
      "그러다가 까무룩 잠이 들었는가 하는데, \"허, 참 세상일도……\n",
      "\"\n",
      "\n",
      "마을 갔던 아버지가 언제 돌아왔는지, \"윤 초시 댁도 말이 아니야, 그 많던 전답을 다 팔아 버리고, 대 대로 살아오던 집마저 남의 손에 넘기더니, 또 악상까지 당하는 걸 보면……\n",
      "\" 남폿불 밑에서 바느질감\n",
      "\n",
      "을 안고 있던 어머니가, \"증손(曾孫)이라곤 계집애 그 애 하나뿐이었지요?\"\n",
      "\n",
      "\"그렇지, 사내 애 둘 있던 건 어려서 잃어버리고……\n",
      "\" \"어쩌면 그렇게 자식복이 없을까\n",
      "\"\n",
      "\n",
      "\"글쎄 말이지\n",
      " 이번 앤 꽤 여러 날 앓는 걸 약도 변변히 못써 봤다더군\n",
      " 지금 같아서 윤 초 시네도 대\n",
      "\n",
      "가 끊긴 셈이지\n",
      "……그런데 참, 이번 계집앤 어린 것이 여간 잔망스럽지가 않아\n",
      " 글 쎄, 죽기 전에 이런\n",
      "\n",
      "말을 했다지 않아? 자기가 죽거든 자기 입던 옷을 꼭 그대로 입혀서 묻어 달라고……\n",
      "\"\n"
     ]
    },
    {
     "ename": "AttributeError",
     "evalue": "'list' object has no attribute 'txt'",
     "output_type": "error",
     "traceback": [
      "\u001b[1;31m---------------------------------------------------------------------------\u001b[0m",
      "\u001b[1;31mAttributeError\u001b[0m                            Traceback (most recent call last)",
      "Cell \u001b[1;32mIn[104], line 6\u001b[0m\n\u001b[0;32m      4\u001b[0m     \u001b[38;5;28mprint\u001b[39m(i)\n\u001b[0;32m      5\u001b[0m     dd\u001b[38;5;241m.\u001b[39mappend(i)\n\u001b[1;32m----> 6\u001b[0m f\u001b[38;5;241m=\u001b[39m\u001b[38;5;28mopen\u001b[39m(\u001b[43mdd\u001b[49m\u001b[38;5;241;43m.\u001b[39;49m\u001b[43mtxt\u001b[49m,\u001b[38;5;124m'\u001b[39m\u001b[38;5;124mw\u001b[39m\u001b[38;5;124m'\u001b[39m)\n\u001b[0;32m      7\u001b[0m f\u001b[38;5;241m.\u001b[39mwrite(dd\u001b[38;5;241m.\u001b[39mtxt)\n",
      "\u001b[1;31mAttributeError\u001b[0m: 'list' object has no attribute 'txt'"
     ]
    }
   ],
   "source": [
    "d_line = re.split(r'\\.',dw)\n",
    "dd=[]\n",
    "for i in d_line:\n",
    "    print(i)\n",
    "    dd.append(i)\n",
    "f=open(dd.txt,'w')\n",
    "f.write(dd.txt)\n"
   ]
  }
 ],
 "metadata": {
  "kernelspec": {
   "display_name": "Python 3",
   "language": "python",
   "name": "python3"
  },
  "language_info": {
   "codemirror_mode": {
    "name": "ipython",
    "version": 3
   },
   "file_extension": ".py",
   "mimetype": "text/x-python",
   "name": "python",
   "nbconvert_exporter": "python",
   "pygments_lexer": "ipython3",
   "version": "3.12.1"
  }
 },
 "nbformat": 4,
 "nbformat_minor": 2
}
