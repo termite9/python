{
 "cells": [
  {
   "cell_type": "markdown",
   "metadata": {},
   "source": [
    "# 텍스트파일 가공하기\n",
    "-모든 프로그램을 작성하고 저장하고 사용할 때 기본이 되는 파일 입출력을 연습합니다.  \n",
    "그리고 문자열을\n",
    "자유자재로 다룰 수 있는 정규표현식을 알아봅니다.  \n",
    "마지막으로 두 기술을 활용하여 드라마 대본을 마음대로 가공해 보겠습니다."
   ]
  },
  {
   "cell_type": "markdown",
   "metadata": {},
   "source": [
    "#### 파일 입출력 연습하기"
   ]
  },
  {
   "cell_type": "markdown",
   "metadata": {},
   "source": [
    "### 정규표현식으로 문자열 다루기"
   ]
  },
  {
   "cell_type": "markdown",
   "metadata": {},
   "source": [
    "> match메서드사용법\n",
    "- re.match(패턴,문자열)"
   ]
  },
  {
   "cell_type": "code",
   "execution_count": 1,
   "metadata": {},
   "outputs": [
    {
     "name": "stdout",
     "output_type": "stream",
     "text": [
      "Not a match\n"
     ]
    },
    {
     "data": {
      "text/plain": [
       "'is'"
      ]
     },
     "execution_count": 1,
     "metadata": {},
     "output_type": "execute_result"
    }
   ],
   "source": [
    "import re\n",
    "\n",
    "def refinder(pattern,script):\n",
    "    if re.match(pattern,script):\n",
    "        print('Match!')\n",
    "    else:\n",
    "        print('Not a match')\n",
    "        \n",
    "pattern= r'is'\n",
    "script='life is so cool'\n",
    "\n",
    "refinder(pattern,script)\n",
    "re.search(pattern,script).group()\n",
    "\n"
   ]
  },
  {
   "cell_type": "code",
   "execution_count": 2,
   "metadata": {},
   "outputs": [
    {
     "data": {
      "text/plain": [
       "'is'"
      ]
     },
     "execution_count": 2,
     "metadata": {},
     "output_type": "execute_result"
    }
   ],
   "source": [
    "re.search(pattern,script).group()\n"
   ]
  },
  {
   "cell_type": "markdown",
   "metadata": {},
   "source": [
    "### search메서드 - 문자열 전체에서 패턴 찾기"
   ]
  },
  {
   "cell_type": "markdown",
   "metadata": {},
   "source": [
    "> 사용방법 re.search(패턴,문자열)"
   ]
  },
  {
   "cell_type": "markdown",
   "metadata": {},
   "source": [
    "### findall메서드\n",
    "- 패턴을 모두 찾아 리스트로 반환하기"
   ]
  },
  {
   "cell_type": "markdown",
   "metadata": {},
   "source": [
    "-findall메서드 사용법  re,findall(패턴,문자열)"
   ]
  },
  {
   "cell_type": "code",
   "execution_count": 3,
   "metadata": {},
   "outputs": [
    {
     "name": "stderr",
     "output_type": "stream",
     "text": [
      "<>:2: SyntaxWarning: invalid escape sequence '\\W'\n",
      "<>:2: SyntaxWarning: invalid escape sequence '\\W'\n",
      "C:\\Users\\고창섭\\AppData\\Local\\Temp\\ipykernel_14360\\815642082.py:2: SyntaxWarning: invalid escape sequence '\\W'\n",
      "  re.findall('\\W{5}',number)\n"
     ]
    },
    {
     "data": {
      "text/plain": [
       "['**** ']"
      ]
     },
     "execution_count": 3,
     "metadata": {},
     "output_type": "execute_result"
    }
   ],
   "source": [
    "number = \"my numbr is 3444334-154**** and yours number is 720522-523***8\"\n",
    "re.findall('\\W{5}',number)"
   ]
  },
  {
   "cell_type": "markdown",
   "metadata": {},
   "source": [
    "> 정규표현식의 탐욕 제어하기: 마침표(.)와 물음표(?)"
   ]
  },
  {
   "cell_type": "code",
   "execution_count": 4,
   "metadata": {},
   "outputs": [
    {
     "name": "stderr",
     "output_type": "stream",
     "text": [
      "<>:4: SyntaxWarning: invalid escape sequence '\\d'\n",
      "<>:4: SyntaxWarning: invalid escape sequence '\\d'\n",
      "C:\\Users\\고창섭\\AppData\\Local\\Temp\\ipykernel_14360\\1800174610.py:4: SyntaxWarning: invalid escape sequence '\\d'\n",
      "  re.findall('\\d.?년',ex)\n"
     ]
    },
    {
     "data": {
      "text/plain": [
       "['65년', '97년', '23년']"
      ]
     },
     "execution_count": 4,
     "metadata": {},
     "output_type": "execute_result"
    }
   ],
   "source": [
    "ex='저는65년에 태어났습니다. , 97년에는 imf가 있었습니다. 지금은 2023년 입니다'\n",
    "# re.findall('\\d.+년',ex)\n",
    "# re.findall('\\d+년',ex)\n",
    "re.findall('\\d.?년',ex)"
   ]
  },
  {
   "cell_type": "code",
   "execution_count": 5,
   "metadata": {},
   "outputs": [
    {
     "data": {
      "text/plain": [
       "['(이동민, 2019)', '(최재영, 2018)', '(Lion, 2018)']"
      ]
     },
     "execution_count": 5,
     "metadata": {},
     "output_type": "execute_result"
    }
   ],
   "source": [
    "example=\"이동민 교수는(이동민, 2019). 그런데 다른학자는(최재영, 2018). 그리고 다른학자의 견해는(Lion, 2018)\"\n",
    "# re.findall(r'\\(.+\\)',example)\n",
    "re.findall(r'\\(.+?\\)',example)"
   ]
  },
  {
   "cell_type": "markdown",
   "metadata": {},
   "source": [
    "> splite메서드 - 문장 나누는 패턴 만들기\n",
    "- 마침표,느낌표,물음표로 끈나는 특성을 이용하여 문장을 나눈다.\n",
    "- 사용법  re.splite(패턴,문자열)"
   ]
  },
  {
   "cell_type": "code",
   "execution_count": 6,
   "metadata": {},
   "outputs": [],
   "source": [
    "import re"
   ]
  },
  {
   "cell_type": "code",
   "execution_count": 7,
   "metadata": {},
   "outputs": [
    {
     "data": {
      "text/plain": [
       "[' I have a lovely dog',\n",
       " ' really,   I am not telling a lie',\n",
       " ' What a pretty dog',\n",
       " '  I love this dog']"
      ]
     },
     "execution_count": 7,
     "metadata": {},
     "output_type": "execute_result"
    }
   ],
   "source": [
    "sentence= ' I have a lovely dog. really,   I am not telling a lie. What a pretty dog!  I love this dog'\n",
    "re.split(r'[.!?]',sentence)"
   ]
  },
  {
   "cell_type": "code",
   "execution_count": 8,
   "metadata": {},
   "outputs": [
    {
     "data": {
      "text/plain": [
       "[' I have a lovely dog',\n",
       " ' really,   I am not telling a lie',\n",
       " ' What a pretty dog!  I love this dog']"
      ]
     },
     "execution_count": 8,
     "metadata": {},
     "output_type": "execute_result"
    }
   ],
   "source": [
    "sentence= ' I have a lovely dog. really,   I am not telling a lie. What a pretty dog!  I love this dog'\n",
    "re.split(r'[.]',sentence)"
   ]
  },
  {
   "cell_type": "code",
   "execution_count": 9,
   "metadata": {},
   "outputs": [
    {
     "name": "stdout",
     "output_type": "stream",
     "text": [
      "['a', '3']\n",
      "[' b', '4']\n",
      "[' c', '5']\n"
     ]
    }
   ],
   "source": [
    "data='a:3; b:4; c:5'\n",
    "for i in re.split(r';',data):\n",
    "    print(re.split(r':',i))\n"
   ]
  },
  {
   "cell_type": "markdown",
   "metadata": {},
   "source": [
    "> sub 메서드 - 문자열 바꾸기\n",
    "- sub메서드 처럼 많이 쓰이는 명령어도 드뭅니다.\n",
    "- 사용법 re.sub(찾을 패턴, 대체할 문자, 찾을 문자열)"
   ]
  },
  {
   "cell_type": "code",
   "execution_count": 10,
   "metadata": {},
   "outputs": [
    {
     "data": {
      "text/plain": [
       "' I have a lovely cat. really,   I am not telling a lie. What a pretty cat!  I love this cat'"
      ]
     },
     "execution_count": 10,
     "metadata": {},
     "output_type": "execute_result"
    }
   ],
   "source": [
    "sentence= ' I have a lovely dog. really,   I am not telling a lie. What a pretty dog!  I love this dog'\n",
    "re.sub(r'dog','cat',sentence)"
   ]
  },
  {
   "cell_type": "code",
   "execution_count": 11,
   "metadata": {},
   "outputs": [
    {
     "name": "stdout",
     "output_type": "stream",
     "text": [
      "I am home now. \n",
      "\n",
      "\n",
      "I am with my cat. \n",
      "\n",
      "\n"
     ]
    }
   ],
   "source": [
    "# 특히 불필요한 공백을 없애는 데 많이 활용됩니다.\n",
    "# 인터넷에서 내려받은 텍스트 파일에는 불필요한 공백이 많습니다.\n",
    "\n",
    "words = 'I am home now. \\n\\n\\nI am with my cat. \\n\\n'\n",
    "print(words)\n"
   ]
  },
  {
   "cell_type": "code",
   "execution_count": 12,
   "metadata": {},
   "outputs": [
    {
     "data": {
      "text/plain": [
       "'I am home now. I am with my cat. '"
      ]
     },
     "execution_count": 12,
     "metadata": {},
     "output_type": "execute_result"
    }
   ],
   "source": [
    "re.sub(r'\\n','',words)"
   ]
  },
  {
   "cell_type": "code",
   "execution_count": 13,
   "metadata": {},
   "outputs": [
    {
     "ename": "TypeError",
     "evalue": "sub() missing 3 required positional arguments: 'pattern', 'repl', and 'string'",
     "output_type": "error",
     "traceback": [
      "\u001b[1;31m---------------------------------------------------------------------------\u001b[0m",
      "\u001b[1;31mTypeError\u001b[0m                                 Traceback (most recent call last)",
      "Cell \u001b[1;32mIn[13], line 1\u001b[0m\n\u001b[1;32m----> 1\u001b[0m \u001b[43mre\u001b[49m\u001b[38;5;241;43m.\u001b[39;49m\u001b[43msub\u001b[49m\u001b[43m(\u001b[49m\u001b[43m)\u001b[49m\n",
      "\u001b[1;31mTypeError\u001b[0m: sub() missing 3 required positional arguments: 'pattern', 'repl', and 'string'"
     ]
    }
   ],
   "source": [
    "re.sub()"
   ]
  },
  {
   "cell_type": "markdown",
   "metadata": {},
   "source": [
    "> ly로 끝나는 단어 추출하기\n"
   ]
  },
  {
   "cell_type": "code",
   "execution_count": null,
   "metadata": {},
   "outputs": [
    {
     "data": {
      "text/plain": [
       "['lovely', 'really']"
      ]
     },
     "execution_count": 9,
     "metadata": {},
     "output_type": "execute_result"
    }
   ],
   "source": [
    "sentence= ' I have a lovely dog. really,   I am not telling a lie. What a pretty dog!  I love this dog'\n",
    "re.findall(r'\\w+ly',sentence)"
   ]
  },
  {
   "cell_type": "markdown",
   "metadata": {},
   "source": [
    "### 드라마 대본 텍스트 파일 가공하기\n",
    "- 대량의 텍스트에서 특정 패턴을 찾는 연습\n",
    "- 드라마 대본은 문자열이 나름의 규칙을 가지고 있어 정규표현식을 연습하기 좋다.\n",
    "- 미드'프랜즈'대본으로 영어공부자료를 만들자\n",
    "    - 특정 등장인물의 대사만 모으기\n",
    "    - 등장인물 리스트 만들기\n",
    "    - 지문만 따로 모으기\n",
    "    - 측정 단어가 들어 있는 대사만 모으기"
   ]
  },
  {
   "cell_type": "code",
   "execution_count": null,
   "metadata": {},
   "outputs": [],
   "source": [
    "import os, re\n"
   ]
  },
  {
   "cell_type": "code",
   "execution_count": 15,
   "metadata": {},
   "outputs": [],
   "source": [
    "f= open('friends101.txt', 'r', encoding='cp949')\n",
    "script101 =f.read()"
   ]
  },
  {
   "cell_type": "code",
   "execution_count": null,
   "metadata": {},
   "outputs": [
    {
     "name": "stdout",
     "output_type": "stream",
     "text": [
      "The One Where Monica Gets a New Roommate (The Pilot-The Uncut Version)\n",
      "Written by: Marta Kauffman an\n"
     ]
    }
   ],
   "source": [
    "print(script101[:100])"
   ]
  },
  {
   "cell_type": "markdown",
   "metadata": {},
   "source": [
    "> 특정 등장인물의 대사만 모으기\n",
    "- findall은 찾은 조건식을 모두 리스트로 만들어 준다는 점에서 쉽게 사용할 수 있다."
   ]
  },
  {
   "cell_type": "code",
   "execution_count": null,
   "metadata": {},
   "outputs": [],
   "source": [
    "Line = re.findall(r'Monica:.+',script101)\n",
    "# Monica다음에 아무 문자나 반복되는 (.+)패턴을 리스트에 반환한다."
   ]
  },
  {
   "cell_type": "code",
   "execution_count": null,
   "metadata": {},
   "outputs": [
    {
     "name": "stdout",
     "output_type": "stream",
     "text": [
      "[\"Monica: There's nothing to tell! He's just some guy I work with!\", \"Monica: Okay, everybody relax. This is not even a date. It's just two people going out to dinner and- not having sex.\", \"Monica: And they weren't looking at you before?!\", 'Monica: Are you okay, sweetie?', 'Monica: (explaining to the others) Carol moved her stuff out today.']\n"
     ]
    }
   ],
   "source": [
    "print(Line[:5])"
   ]
  },
  {
   "cell_type": "code",
   "execution_count": null,
   "metadata": {},
   "outputs": [
    {
     "name": "stdout",
     "output_type": "stream",
     "text": [
      "Monica: There's nothing to tell! He's just some guy I work with!\n",
      "Monica: Okay, everybody relax. This is not even a date. It's just two people going out to dinner and- not having sex.\n",
      "Monica: And they weren't looking at you before?!\n"
     ]
    }
   ],
   "source": [
    "for item in Line[:3]:\n",
    "    print(item)"
   ]
  },
  {
   "cell_type": "code",
   "execution_count": null,
   "metadata": {},
   "outputs": [],
   "source": [
    "f.close()\n",
    "f = open('Monica.txt','w', encoding='cp949')\n"
   ]
  },
  {
   "cell_type": "code",
   "execution_count": null,
   "metadata": {},
   "outputs": [
    {
     "name": "stdout",
     "output_type": "stream",
     "text": [
      "1 Monica: There's nothing to tell! He's just some guy I work with!\n",
      "2 Monica: Okay, everybody relax. This is not even a date. It's just two people going out to dinner and- not having sex.\n",
      "3 Monica: And they weren't looking at you before?!\n",
      "4 Monica: Are you okay, sweetie?\n",
      "5 Monica: (explaining to the others) Carol moved her stuff out today.\n",
      "6 Monica: (to Ross) Let me get you some coffee.\n",
      "7 Monica: No you don't.\n",
      "8 Monica: Oh really, so that hysterical phone call I got from a woman at sobbing 3:00 A.M., \"I'll never have grandchildren, I'll never have grandchildren.\" was what?  A wrong number?\n",
      "9 Monica: Rachel?!\n",
      "10 Monica: (pointing at Rachel) De-caff. (to All) Okay, everybody, this is Rachel, another Lincoln High survivor. (to Rachel) This is everybody, this is Chandler, and Phoebe, and Joey, and- you remember my brother Ross?\n",
      "11 Monica: So you wanna tell us now, or are we waiting for four wet bridesmaids?\n",
      "12 Monica: Who wasn't invited to the wedding.\n",
      "13 Monica: Now I'm guessing that he bought her the big pipe organ, and she's really not happy about it.\n",
      "14 Monica: Well, I guess we've established who's staying here with Monica...\n",
      "15 Monica: Just breathe, breathe.. that's it. Just try to think of nice calm things... Phoebe: (sings) Raindrops on roses and rabbits and kittens, (Rachel and Monica turn to look at her.) bluebells and sleighbells and- something with mittens... La la la la...something and noodles with string.  These are a few...\n",
      "16 Monica: Okay, look, this is probably for the best, y'know? Independence. Taking control of your life.  The whole, 'hat' thing.\n",
      "17 Monica: Joey, stop hitting on her! It's her wedding day!\n",
      "18 Monica: Oh God, is it 6:30?  Buzz him in!\n",
      "19 Monica: Maybe. Joey: Wait. Your 'not a real date' tonight is with Paul the Wine Guy?\n",
      "20 Monica: Yes!\n",
      "21 Monica: Rach, wait, I can cancel...\n",
      "22 Monica: (to Ross) Are, are you okay? I mean, do you want me to stay?\n",
      "23 Monica: (horrified) Really?\n",
      "24 Monica: Hi, come in! Paul, this is.. (They are all lined up next to the door.)... everybody, everybody, this is Paul.\n",
      "25 Monica: Okay, umm-umm, I'll just--I'll be right back, I just gotta go ah, go ah...\n",
      "26 Monica: Change!  Okay, sit down. (Shows Paul in) Two seconds.\n",
      "27 Monica: (yelling from the bedroom) Shut up, Joey!\n",
      "28 Monica: Oh my God!\n",
      "29 Monica: My brother's going through that right now, he's such a mess. How did you get through it?\n",
      "30 Monica: -leg?\n",
      "31 Monica: You actually broke her watch?  Wow!  The worst thing I ever did was, I-I shredded by boyfriend's favorite bath towel.\n",
      "32 Monica: That's right. [Scene: Monica's Apartment, Rachel is talking on the phone and pacing.]\n",
      "33 Monica: What?..... What, you wanna spell it out with noodles?\n",
      "34 Monica: Oh, so there is gonna be a fifth date?\n",
      "35 Monica: Yeah... yeah, I think there is. -What were you gonna say?\n",
      "36 Monica: (spitting out her drink in shock) Oh God, oh God, I am sorry... I am so sorry...\n",
      "37 Monica: I know being spit on is probably not what you need right now. Um... how long?\n",
      "38 Monica: Wow! I'm-I'm-I'm glad you smashed her watch!\n",
      "39 Monica: (pause)...Yeah. Yeah, I do.\n",
      "40 Monica: (entering, to herself) Oh good, Lenny and Squigy are here.\n",
      "41 Monica: Stop!\n",
      "42 Monica: We'll talk later.\n",
      "43 Monica: Shut up, and put my table back.\n",
      "44 Monica: Yeah, we all have jobs. See, that's how we buy stuff.\n",
      "45 Monica: Oh wait, wait, unless you happened to catch the Reruns' production of Pinocchio, at the little theater in the park.\n",
      "46 Monica: So how you doing today? Did you sleep okay? Talk to Barry? I can't stop smiling.\n",
      "47 Monica: I know, he's just so, so... Do you remember you and Tony DeMarco?\n",
      "48 Monica: Well, it's like that. With feelings.\n",
      "49 Monica: Big time!\n",
      "50 Monica: I think we are getting a little ahead of selves here. Okay. Okay. I am just going to get up, go to work and not think about him all day. Or else I'm just gonna get up and go to work.\n",
      "51 Monica: What for?\n",
      "52 Monica: Hey Frannie, welcome back! How was Florida?\n",
      "53 Monica: How do you do that?\n",
      "54 Monica: You know Paul?\n",
      "55 Monica: You mean you know Paul like I know Paul?\n",
      "56 Monica: Why?! Why? Why, why would anybody do something like that?\n",
      "57 Monica: I hate men!  I hate men!\n",
      "58 Monica: Is it me? Is it like I have some sort of beacon that only dogs and men with severe emotional problems can hear?\n",
      "59 Monica: I just thought he was nice, y'know?\n",
      "60 Monica: How'd you pay for them?\n",
      "61 Monica: And who pays for that?\n",
      "62 Monica: C'mon, you can't live off your parents your whole life.\n",
      "63 Monica: All right, you ready?\n",
      "64 Monica: You can, I know you can!\n",
      "65 Monica:  Rachel!  That was a library card!\n",
      "66 Monica: Welcome to the real world! It sucks. You're gonna love it!\n",
      "67 Monica: Well, that's it (To Ross) You gonna crash on the couch?\n",
      "68 Monica: You be okay?\n",
      "69 Monica: That's Paul's watch. You just put it back where you found it. Oh boy. Alright. Goodnight, everybody.\n",
      "70 Monica: See ya.... Waitwait, what's with you?\n",
      "71 Monica: What? I-I said you had a-\n",
      "72 Monica: (to Phoebe) Would you stop?\n",
      "73 Monica: I said that you had a nice butt, it's just not a great butt.\n"
     ]
    }
   ],
   "source": [
    "i=0\n",
    "for item in Line:\n",
    "    i=i+1\n",
    "    print(i,item)\n"
   ]
  },
  {
   "cell_type": "code",
   "execution_count": null,
   "metadata": {},
   "outputs": [],
   "source": [
    "monica=\"\""
   ]
  },
  {
   "cell_type": "code",
   "execution_count": null,
   "metadata": {},
   "outputs": [],
   "source": [
    "for i in Line:\n",
    "    monica += i"
   ]
  },
  {
   "cell_type": "code",
   "execution_count": null,
   "metadata": {},
   "outputs": [
    {
     "name": "stdout",
     "output_type": "stream",
     "text": [
      "Monica: There's nothing to tell! He's just some guy I work with!Monica: Okay, everybody relax. This is not even a date. It's just two people going out to dinner and- not having sex.Monica: And they weren't looking at you before?!Monica: Are you okay, sweetie?Monica: (explaining to the others) Carol moved her stuff out today.Monica: (to Ross) Let me get you some coffee.Monica: No you don't.Monica: Oh really, so that hysterical phone call I got from a woman at sobbing 3:00 A.M., \"I'll never have grandchildren, I'll never have grandchildren.\" was what?  A wrong number?Monica: Rachel?!Monica: (pointing at Rachel) De-caff. (to All) Okay, everybody, this is Rachel, another Lincoln High survivor. (to Rachel) This is everybody, this is Chandler, and Phoebe, and Joey, and- you remember my brother Ross?Monica: So you wanna tell us now, or are we waiting for four wet bridesmaids?Monica: Who wasn't invited to the wedding.Monica: Now I'm guessing that he bought her the big pipe organ, and she's really not happy about it.Monica: Well, I guess we've established who's staying here with Monica...Monica: Just breathe, breathe.. that's it. Just try to think of nice calm things... Phoebe: (sings) Raindrops on roses and rabbits and kittens, (Rachel and Monica turn to look at her.) bluebells and sleighbells and- something with mittens... La la la la...something and noodles with string.  These are a few...Monica: Okay, look, this is probably for the best, y'know? Independence. Taking control of your life.  The whole, 'hat' thing.Monica: Joey, stop hitting on her! It's her wedding day!Monica: Oh God, is it 6:30?  Buzz him in!Monica: Maybe. Joey: Wait. Your 'not a real date' tonight is with Paul the Wine Guy?Monica: Yes!Monica: Rach, wait, I can cancel...Monica: (to Ross) Are, are you okay? I mean, do you want me to stay?Monica: (horrified) Really?Monica: Hi, come in! Paul, this is.. (They are all lined up next to the door.)... everybody, everybody, this is Paul.Monica: Okay, umm-umm, I'll just--I'll be right back, I just gotta go ah, go ah...Monica: Change!  Okay, sit down. (Shows Paul in) Two seconds.Monica: (yelling from the bedroom) Shut up, Joey!Monica: Oh my God!Monica: My brother's going through that right now, he's such a mess. How did you get through it?Monica: -leg?Monica: You actually broke her watch?  Wow!  The worst thing I ever did was, I-I shredded by boyfriend's favorite bath towel.Monica: That's right. [Scene: Monica's Apartment, Rachel is talking on the phone and pacing.]Monica: What?..... What, you wanna spell it out with noodles?Monica: Oh, so there is gonna be a fifth date?Monica: Yeah... yeah, I think there is. -What were you gonna say?Monica: (spitting out her drink in shock) Oh God, oh God, I am sorry... I am so sorry...Monica: I know being spit on is probably not what you need right now. Um... how long?Monica: Wow! I'm-I'm-I'm glad you smashed her watch!Monica: (pause)...Yeah. Yeah, I do.Monica: (entering, to herself) Oh good, Lenny and Squigy are here.Monica: Stop!Monica: We'll talk later.Monica: Shut up, and put my table back.Monica: Yeah, we all have jobs. See, that's how we buy stuff.Monica: Oh wait, wait, unless you happened to catch the Reruns' production of Pinocchio, at the little theater in the park.Monica: So how you doing today? Did you sleep okay? Talk to Barry? I can't stop smiling.Monica: I know, he's just so, so... Do you remember you and Tony DeMarco?Monica: Well, it's like that. With feelings.Monica: Big time!Monica: I think we are getting a little ahead of selves here. Okay. Okay. I am just going to get up, go to work and not think about him all day. Or else I'm just gonna get up and go to work.Monica: What for?Monica: Hey Frannie, welcome back! How was Florida?Monica: How do you do that?Monica: You know Paul?Monica: You mean you know Paul like I know Paul?Monica: Why?! Why? Why, why would anybody do something like that?Monica: I hate men!  I hate men!Monica: Is it me? Is it like I have some sort of beacon that only dogs and men with severe emotional problems can hear?Monica: I just thought he was nice, y'know?Monica: How'd you pay for them?Monica: And who pays for that?Monica: C'mon, you can't live off your parents your whole life.Monica: All right, you ready?Monica: You can, I know you can!Monica:  Rachel!  That was a library card!Monica: Welcome to the real world! It sucks. You're gonna love it!Monica: Well, that's it (To Ross) You gonna crash on the couch?Monica: You be okay?Monica: That's Paul's watch. You just put it back where you found it. Oh boy. Alright. Goodnight, everybody.Monica: See ya.... Waitwait, what's with you?Monica: What? I-I said you had a-Monica: (to Phoebe) Would you stop?Monica: I said that you had a nice butt, it's just not a great butt.Monica: There's nothing to tell! He's just some guy I work with!Monica: Okay, everybody relax. This is not even a date. It's just two people going out to dinner and- not having sex.Monica: And they weren't looking at you before?!Monica: Are you okay, sweetie?Monica: (explaining to the others) Carol moved her stuff out today.Monica: (to Ross) Let me get you some coffee.Monica: No you don't.Monica: Oh really, so that hysterical phone call I got from a woman at sobbing 3:00 A.M., \"I'll never have grandchildren, I'll never have grandchildren.\" was what?  A wrong number?Monica: Rachel?!Monica: (pointing at Rachel) De-caff. (to All) Okay, everybody, this is Rachel, another Lincoln High survivor. (to Rachel) This is everybody, this is Chandler, and Phoebe, and Joey, and- you remember my brother Ross?Monica: So you wanna tell us now, or are we waiting for four wet bridesmaids?Monica: Who wasn't invited to the wedding.Monica: Now I'm guessing that he bought her the big pipe organ, and she's really not happy about it.Monica: Well, I guess we've established who's staying here with Monica...Monica: Just breathe, breathe.. that's it. Just try to think of nice calm things... Phoebe: (sings) Raindrops on roses and rabbits and kittens, (Rachel and Monica turn to look at her.) bluebells and sleighbells and- something with mittens... La la la la...something and noodles with string.  These are a few...Monica: Okay, look, this is probably for the best, y'know? Independence. Taking control of your life.  The whole, 'hat' thing.Monica: Joey, stop hitting on her! It's her wedding day!Monica: Oh God, is it 6:30?  Buzz him in!Monica: Maybe. Joey: Wait. Your 'not a real date' tonight is with Paul the Wine Guy?Monica: Yes!Monica: Rach, wait, I can cancel...Monica: (to Ross) Are, are you okay? I mean, do you want me to stay?Monica: (horrified) Really?Monica: Hi, come in! Paul, this is.. (They are all lined up next to the door.)... everybody, everybody, this is Paul.Monica: Okay, umm-umm, I'll just--I'll be right back, I just gotta go ah, go ah...Monica: Change!  Okay, sit down. (Shows Paul in) Two seconds.Monica: (yelling from the bedroom) Shut up, Joey!Monica: Oh my God!Monica: My brother's going through that right now, he's such a mess. How did you get through it?Monica: -leg?Monica: You actually broke her watch?  Wow!  The worst thing I ever did was, I-I shredded by boyfriend's favorite bath towel.Monica: That's right. [Scene: Monica's Apartment, Rachel is talking on the phone and pacing.]Monica: What?..... What, you wanna spell it out with noodles?Monica: Oh, so there is gonna be a fifth date?Monica: Yeah... yeah, I think there is. -What were you gonna say?Monica: (spitting out her drink in shock) Oh God, oh God, I am sorry... I am so sorry...Monica: I know being spit on is probably not what you need right now. Um... how long?Monica: Wow! I'm-I'm-I'm glad you smashed her watch!Monica: (pause)...Yeah. Yeah, I do.Monica: (entering, to herself) Oh good, Lenny and Squigy are here.Monica: Stop!Monica: We'll talk later.Monica: Shut up, and put my table back.Monica: Yeah, we all have jobs. See, that's how we buy stuff.Monica: Oh wait, wait, unless you happened to catch the Reruns' production of Pinocchio, at the little theater in the park.Monica: So how you doing today? Did you sleep okay? Talk to Barry? I can't stop smiling.Monica: I know, he's just so, so... Do you remember you and Tony DeMarco?Monica: Well, it's like that. With feelings.Monica: Big time!Monica: I think we are getting a little ahead of selves here. Okay. Okay. I am just going to get up, go to work and not think about him all day. Or else I'm just gonna get up and go to work.Monica: What for?Monica: Hey Frannie, welcome back! How was Florida?Monica: How do you do that?Monica: You know Paul?Monica: You mean you know Paul like I know Paul?Monica: Why?! Why? Why, why would anybody do something like that?Monica: I hate men!  I hate men!Monica: Is it me? Is it like I have some sort of beacon that only dogs and men with severe emotional problems can hear?Monica: I just thought he was nice, y'know?Monica: How'd you pay for them?Monica: And who pays for that?Monica: C'mon, you can't live off your parents your whole life.Monica: All right, you ready?Monica: You can, I know you can!Monica:  Rachel!  That was a library card!Monica: Welcome to the real world! It sucks. You're gonna love it!Monica: Well, that's it (To Ross) You gonna crash on the couch?Monica: You be okay?Monica: That's Paul's watch. You just put it back where you found it. Oh boy. Alright. Goodnight, everybody.Monica: See ya.... Waitwait, what's with you?Monica: What? I-I said you had a-Monica: (to Phoebe) Would you stop?Monica: I said that you had a nice butt, it's just not a great butt.\n"
     ]
    }
   ],
   "source": [
    "print(monica)\n",
    "\n",
    "f.write(monica)\n",
    "f.close()"
   ]
  },
  {
   "cell_type": "code",
   "execution_count": null,
   "metadata": {},
   "outputs": [
    {
     "name": "stdout",
     "output_type": "stream",
     "text": [
      "불바꿈 \n",
      "줄이바뀐다\n"
     ]
    }
   ],
   "source": [
    "print('불바꿈 \\n줄이바뀐다')"
   ]
  },
  {
   "cell_type": "code",
   "execution_count": null,
   "metadata": {},
   "outputs": [
    {
     "data": {
      "text/plain": [
       "\"Monica: There's nothing to tell! He's just some guy I work with!\\nMonica: Okay, everybody relax. This\""
      ]
     },
     "execution_count": 24,
     "metadata": {},
     "output_type": "execute_result"
    }
   ],
   "source": [
    "monica=\"\"\n",
    "for i in Line:\n",
    "    monica += i +'\\n'\n",
    "    \n",
    "monica[:100]\n"
   ]
  },
  {
   "cell_type": "code",
   "execution_count": null,
   "metadata": {},
   "outputs": [
    {
     "data": {
      "text/plain": [
       "4842"
      ]
     },
     "execution_count": 25,
     "metadata": {},
     "output_type": "execute_result"
    }
   ],
   "source": [
    "f = open('Monica.txt', 'w', encoding='cp949')\n",
    "f.write(monica)"
   ]
  },
  {
   "cell_type": "code",
   "execution_count": null,
   "metadata": {},
   "outputs": [],
   "source": [
    "f.close()\n"
   ]
  },
  {
   "cell_type": "markdown",
   "metadata": {},
   "source": [
    "###등장인물 리스트 만들기\n",
    "-> 정규표현식 모듁 re"
   ]
  },
  {
   "cell_type": "code",
   "execution_count": null,
   "metadata": {},
   "outputs": [
    {
     "data": {
      "text/plain": [
       "['Note:',\n",
       " 'Scene:',\n",
       " 'Monica:',\n",
       " 'Joey:',\n",
       " 'Chandler:',\n",
       " 'Phoebe:',\n",
       " 'Phoebe:',\n",
       " 'Monica:',\n",
       " 'Chandler:',\n",
       " 'Chandler:',\n",
       " 'All:',\n",
       " 'Chandler:',\n",
       " 'Joey:',\n",
       " 'Chandler:',\n",
       " 'Joey:',\n",
       " 'Phoebe:',\n",
       " 'Chandler:',\n",
       " 'Monica:',\n",
       " 'Chandler:',\n",
       " 'Ross:',\n",
       " 'Joey:',\n",
       " 'Monica:',\n",
       " 'Ross:',\n",
       " 'Chandler:',\n",
       " 'Monica:',\n",
       " 'Joey:',\n",
       " 'Monica:',\n",
       " 'Ross:',\n",
       " 'Phoebe:',\n",
       " 'Ross:',\n",
       " 'Phoebe:',\n",
       " 'Ross:',\n",
       " 'Monica:',\n",
       " 'Ross:',\n",
       " 'Joey:',\n",
       " 'Ross:',\n",
       " 'Chandler:',\n",
       " 'Ross:',\n",
       " 'Monica:',\n",
       " 'Ross:',\n",
       " 'Joey:',\n",
       " 'Joey:',\n",
       " 'Ross:',\n",
       " 'Chandler:',\n",
       " 'Monica:',\n",
       " 'Rachel:',\n",
       " 'Waitress:',\n",
       " 'Monica:',\n",
       " 'Rachel:',\n",
       " 'Ross:',\n",
       " 'Monica:',\n",
       " 'Rachel:',\n",
       " 'Monica:',\n",
       " 'Rachel:',\n",
       " 'Scene:',\n",
       " 'Monica:',\n",
       " 'Chandler:',\n",
       " 'Ross:',\n",
       " 'Rachel:',\n",
       " 'Phoebe:',\n",
       " 'Chandler:',\n",
       " 'Joey:',\n",
       " 'Joey:',\n",
       " 'Rachel:',\n",
       " 'Ross:',\n",
       " 'Rachel:',\n",
       " 'Monica:',\n",
       " 'Rachel:',\n",
       " 'Monica:',\n",
       " 'Phoebe:',\n",
       " 'Rachel:',\n",
       " 'Phoebe:',\n",
       " 'Monica:',\n",
       " 'Joey:',\n",
       " 'Monica:',\n",
       " 'Joey:',\n",
       " 'Chandler:',\n",
       " 'Paul:',\n",
       " 'Monica:',\n",
       " 'Joey:',\n",
       " 'Ross:',\n",
       " 'Monica:',\n",
       " 'Joey:',\n",
       " 'Ross:',\n",
       " 'Monica:',\n",
       " 'Chandler:',\n",
       " 'Monica:',\n",
       " 'Rachel:',\n",
       " 'Monica:',\n",
       " 'Ross:',\n",
       " 'Monica:',\n",
       " 'Ross:',\n",
       " 'Phoebe:',\n",
       " 'Monica:',\n",
       " 'All:',\n",
       " 'Chandler:',\n",
       " 'Monica:',\n",
       " 'Ross:',\n",
       " 'Monica:',\n",
       " 'Phoebe:',\n",
       " 'Joey:',\n",
       " 'Paul:',\n",
       " 'Joey:',\n",
       " 'Monica:',\n",
       " 'Ross:',\n",
       " 'Rachel:',\n",
       " 'Ross:',\n",
       " 'Chandler:',\n",
       " 'Rachel:',\n",
       " 'Ross:',\n",
       " 'Joey:',\n",
       " 'Phoebe:',\n",
       " 'Scene:',\n",
       " 'Phoebe:',\n",
       " 'Scene:',\n",
       " 'Ross:',\n",
       " 'Joey:',\n",
       " 'Chandler:',\n",
       " 'Joey:',\n",
       " 'Chandler:',\n",
       " 'Joey:',\n",
       " 'Chandler:',\n",
       " 'Joey:',\n",
       " 'Chandler:',\n",
       " 'Ross:',\n",
       " 'Joey:',\n",
       " 'Chandler:',\n",
       " 'Joey:',\n",
       " 'Ross:',\n",
       " 'Chandler:',\n",
       " 'Joey:',\n",
       " 'Chandler:',\n",
       " 'Scene:',\n",
       " 'Monica:',\n",
       " 'Paul:',\n",
       " 'Monica:',\n",
       " 'Paul:',\n",
       " 'Monica:',\n",
       " 'Paul:',\n",
       " 'Monica:',\n",
       " 'Paul:',\n",
       " 'Monica:',\n",
       " 'Scene:',\n",
       " 'Rachel:',\n",
       " 'Scene:',\n",
       " 'Ross:',\n",
       " 'Joey:',\n",
       " 'Chandler:',\n",
       " 'Ross:',\n",
       " 'Chandler:',\n",
       " 'Ross:',\n",
       " 'Joey:',\n",
       " 'Ross:',\n",
       " 'Chandler:',\n",
       " 'Scene:',\n",
       " 'Paul:',\n",
       " 'Monica:',\n",
       " 'Paul:',\n",
       " 'Monica:',\n",
       " 'Paul:',\n",
       " 'Monica:',\n",
       " 'Paul:',\n",
       " 'Monica:',\n",
       " 'Paul:',\n",
       " 'Monica:',\n",
       " 'Paul:',\n",
       " 'Monica:',\n",
       " 'Paul:',\n",
       " 'Monica:',\n",
       " 'Scene:',\n",
       " 'Rachel:',\n",
       " 'Scene:',\n",
       " 'Ross:',\n",
       " 'Joey:',\n",
       " 'Chandler:',\n",
       " 'Joey:',\n",
       " 'Ross:',\n",
       " 'Scene:',\n",
       " 'Rachel:',\n",
       " 'Chandler:',\n",
       " 'Joey:',\n",
       " 'Rachel:',\n",
       " 'Chandler:',\n",
       " 'Joey:',\n",
       " 'Monica:',\n",
       " 'All:',\n",
       " 'Paul:',\n",
       " 'Joey:',\n",
       " 'Rachel:',\n",
       " 'Chandler:',\n",
       " 'Paul:',\n",
       " 'Monica:',\n",
       " 'Paul:',\n",
       " 'Monica:',\n",
       " 'Paul:',\n",
       " 'Joey:',\n",
       " 'Monica:',\n",
       " 'All:',\n",
       " 'Chandler:',\n",
       " 'Rachel:',\n",
       " 'Monica:',\n",
       " 'Joey:',\n",
       " 'Rachel:',\n",
       " 'Joey:',\n",
       " 'Monica:',\n",
       " 'Joey:',\n",
       " 'Chandler:',\n",
       " 'Joey:',\n",
       " 'Chandler:',\n",
       " 'Joey:',\n",
       " 'Monica:',\n",
       " 'Rachel:',\n",
       " 'Monica:',\n",
       " 'Rachel:',\n",
       " 'Monica:',\n",
       " 'Rachel:',\n",
       " 'Monica:',\n",
       " 'Rachel:',\n",
       " 'Monica:',\n",
       " 'Rachel:',\n",
       " 'Monica:',\n",
       " 'Rachel:',\n",
       " 'Scene:',\n",
       " 'Frannie:',\n",
       " 'Monica:',\n",
       " 'Frannie:',\n",
       " 'Monica:',\n",
       " 'Frannie:',\n",
       " 'Monica:',\n",
       " 'Frannie:',\n",
       " 'Monica:',\n",
       " 'Frannie:',\n",
       " 'Scene:',\n",
       " 'Joey:',\n",
       " 'Monica:',\n",
       " 'Ross:',\n",
       " 'Monica:',\n",
       " 'Phoebe:',\n",
       " 'Monica:',\n",
       " 'Phoebe:',\n",
       " 'Monica:',\n",
       " 'Joey:',\n",
       " 'Rachel:',\n",
       " 'Ross:',\n",
       " 'Rachel:',\n",
       " 'Chandler:',\n",
       " 'Rachel:',\n",
       " 'Chandler:',\n",
       " 'Rachel:',\n",
       " 'Monica:',\n",
       " 'Rachel:',\n",
       " 'Monica:',\n",
       " 'Rachel:',\n",
       " 'Scene:',\n",
       " 'Rachel:',\n",
       " 'Monica:',\n",
       " 'Rachel:',\n",
       " 'Phoebe:',\n",
       " 'Rachel:',\n",
       " 'Phoebe:',\n",
       " 'Ross:',\n",
       " 'Monica:',\n",
       " 'Rachel:',\n",
       " 'Monica:',\n",
       " 'Rachel:',\n",
       " 'Ross:',\n",
       " 'Ross:',\n",
       " 'All:',\n",
       " 'Rachel:',\n",
       " 'Monica:',\n",
       " 'All:',\n",
       " 'Chandler:',\n",
       " 'Monica:',\n",
       " 'Monica:',\n",
       " 'Ross:',\n",
       " 'Monica:',\n",
       " 'Ross:',\n",
       " 'Rachel:',\n",
       " 'Monica:',\n",
       " 'Rachel:',\n",
       " 'Ross:',\n",
       " 'Rachel:',\n",
       " 'Ross:',\n",
       " 'Rachel:',\n",
       " 'Ross:',\n",
       " 'Rachel:',\n",
       " 'Ross:',\n",
       " 'Rachel:',\n",
       " 'Ross:',\n",
       " 'Rachel:',\n",
       " 'Ross:',\n",
       " 'Rachel:',\n",
       " 'Ross:',\n",
       " 'Rachel:',\n",
       " 'Ross:',\n",
       " 'Monica:',\n",
       " 'Ross:',\n",
       " 'Scene:',\n",
       " 'Joey:',\n",
       " 'Phoebe:',\n",
       " 'Monica:',\n",
       " 'Phoebe:',\n",
       " 'Monica:',\n",
       " 'Phoebe:',\n",
       " 'All:',\n",
       " 'Monica:',\n",
       " 'Joey:',\n",
       " 'Ross:',\n",
       " 'Rachel:',\n",
       " 'Chandler:',\n",
       " 'Rachel:',\n",
       " 'All:',\n",
       " 'Chandler:',\n",
       " 'Customer:',\n",
       " 'Rachel:',\n",
       " 'Chandler:']"
      ]
     },
     "execution_count": 46,
     "metadata": {},
     "output_type": "execute_result"
    }
   ],
   "source": [
    "chr = re.compile(r'[A-Z][a-z]+:')\n",
    "re.findall(chr,script101)\n"
   ]
  },
  {
   "cell_type": "markdown",
   "metadata": {},
   "source": [
    "- 등장인물이 중복이 되었다. 중복을 제거 하기 위해서는 리스트를 집합으로 바꾸면 된다.\n",
    "- 집합(set)은 원소의 중복이 허용되지 않기 때문이다."
   ]
  },
  {
   "cell_type": "code",
   "execution_count": null,
   "metadata": {},
   "outputs": [
    {
     "data": {
      "text/plain": [
       "[1, 3, 5, 2, 1, 2, 5, 3, 2, 4, 6, 7]"
      ]
     },
     "execution_count": 43,
     "metadata": {},
     "output_type": "execute_result"
    }
   ],
   "source": [
    "a=[1,3,5,2,1,2,5,3,2,4,6,7]\n",
    "a"
   ]
  },
  {
   "cell_type": "code",
   "execution_count": null,
   "metadata": {},
   "outputs": [
    {
     "data": {
      "text/plain": [
       "{1, 2, 3, 4, 5, 6, 7}"
      ]
     },
     "execution_count": 45,
     "metadata": {},
     "output_type": "execute_result"
    }
   ],
   "source": [
    "set(a)\n",
    "a\n",
    "set(a)"
   ]
  },
  {
   "cell_type": "code",
   "execution_count": null,
   "metadata": {},
   "outputs": [
    {
     "data": {
      "text/plain": [
       "{'All:',\n",
       " 'Chandler:',\n",
       " 'Customer:',\n",
       " 'Frannie:',\n",
       " 'Joey:',\n",
       " 'Monica:',\n",
       " 'Note:',\n",
       " 'Paul:',\n",
       " 'Phoebe:',\n",
       " 'Rachel:',\n",
       " 'Ross:',\n",
       " 'Scene:',\n",
       " 'Waitress:'}"
      ]
     },
     "execution_count": 47,
     "metadata": {},
     "output_type": "execute_result"
    }
   ],
   "source": [
    "set(re.findall(chr,script101))"
   ]
  },
  {
   "cell_type": "code",
   "execution_count": null,
   "metadata": {},
   "outputs": [
    {
     "data": {
      "text/plain": [
       "['Ross',\n",
       " 'Customer',\n",
       " 'Monica',\n",
       " 'Phoebe',\n",
       " 'Paul',\n",
       " 'Scene',\n",
       " 'Chandler',\n",
       " 'All',\n",
       " 'Rachel',\n",
       " 'Frannie',\n",
       " 'Joey',\n",
       " 'Waitress',\n",
       " 'Note']"
      ]
     },
     "execution_count": 55,
     "metadata": {},
     "output_type": "execute_result"
    }
   ],
   "source": [
    "rachel = 'rachel:'\n",
    "# rachel = re.sub(':','',rachel)\n",
    "rachel[:-1]\n",
    "y=set(re.findall(chr,script101))\n",
    "z=list(y)\n",
    "charact\n",
    "er=[]\n",
    "for i in z:\n",
    "    character += [i[:-1]]\n",
    "\n",
    "character\n"
   ]
  },
  {
   "cell_type": "code",
   "execution_count": null,
   "metadata": {},
   "outputs": [
    {
     "data": {
      "text/plain": [
       "['Ross',\n",
       " 'Customer',\n",
       " 'Monica',\n",
       " 'Phoebe',\n",
       " 'Paul',\n",
       " 'Scene',\n",
       " 'Chandler',\n",
       " 'All',\n",
       " 'Rachel',\n",
       " 'Frannie',\n",
       " 'Joey',\n",
       " 'Waitress',\n",
       " 'Note']"
      ]
     },
     "execution_count": 62,
     "metadata": {},
     "output_type": "execute_result"
    }
   ],
   "source": [
    "character=[x[:-1] for x in list(set(re.findall(r'[A-Z][a-z]+:',script101)))]\n",
    "character"
   ]
  },
  {
   "cell_type": "markdown",
   "metadata": {},
   "source": [
    "> 지문만 출력하기\n",
    "-  지문은 괄호안에 들어있다."
   ]
  },
  {
   "cell_type": "code",
   "execution_count": 16,
   "metadata": {},
   "outputs": [
    {
     "data": {
      "text/plain": [
       "['(The Pilot-The Uncut Version)',\n",
       " '(Note: The previously unseen parts of this episode are shown in blue text.)',\n",
       " '(They all stare, bemused.)',\n",
       " '(mortified)',\n",
       " '(explaining to the others)',\n",
       " '(to Ross)']"
      ]
     },
     "execution_count": 16,
     "metadata": {},
     "output_type": "execute_result"
    }
   ],
   "source": [
    "re.findall(r'\\([A-Za-z].+?[a-z|\\.]\\)',script101)[:6]"
   ]
  },
  {
   "cell_type": "markdown",
   "metadata": {},
   "source": [
    "> 특정단어의 예문만 모아 파일로 저장하기\n",
    "- 특정 단어르 사용한 대사만 추출"
   ]
  },
  {
   "cell_type": "code",
   "execution_count": null,
   "metadata": {},
   "outputs": [],
   "source": [
    "import os,re\n",
    "f=open('friends101.txt','r')\n",
    "f.read(100)\n",
    "f.seek(0)\n",
    "sentences=f.readlines()\n",
    "sentences[:3]\n",
    "for i in sentences[:20]:\n",
    "    if re.match(r'[A-Za-z]+',i):\n",
    "        print(i)\n",
    "        \n",
    "lines = [i for i in sentences if re.match(r'[A_Za-z]+:',i)]\n",
    "\n",
    "lines[:10]\n",
    "\n",
    "would =[i for i in sentences if re.match(r'[A-Z][a-z]+:',i) and re.search('would',i)]\n",
    "would"
   ]
  },
  {
   "cell_type": "code",
   "execution_count": 28,
   "metadata": {},
   "outputs": [
    {
     "data": {
      "text/plain": [
       "['Ross: I told mom and dad last night, they seemed to take it pretty well.\\n',\n",
       " \"Paul: Well, ever-ev-... ever since she left me, um, I haven't been able to, uh, perform. (Monica takes a sip of her drink.) ...Sexually.\\n\",\n",
       " 'Joey: I will not take this abuse. (Walks to the door and opens it to leave.)\\n',\n",
       " \"Frannie: Are you kidding? I take credit for Paul. Y'know before me, there was no snap in his turtle for two years.\\n\"]"
      ]
     },
     "execution_count": 28,
     "metadata": {},
     "output_type": "execute_result"
    }
   ],
   "source": [
    "take =[i for i in sentences if re.match(r'[A-Z][a-z]+:',i) and re.search('take',i)]\n",
    "take"
   ]
  },
  {
   "cell_type": "code",
   "execution_count": 29,
   "metadata": {},
   "outputs": [
    {
     "name": "stdout",
     "output_type": "stream",
     "text": [
      "Ross: I told mom and dad last night, they seemed to take it pretty well.\n",
      "\n",
      "Paul: Well, ever-ev-... ever since she left me, um, I haven't been able to, uh, perform. (Monica takes a sip of her drink.) ...Sexually.\n",
      "\n",
      "Joey: I will not take this abuse. (Walks to the door and opens it to leave.)\n",
      "\n",
      "Frannie: Are you kidding? I take credit for Paul. Y'know before me, there was no snap in his turtle for two years.\n",
      "\n"
     ]
    }
   ],
   "source": [
    "for i in take:\n",
    "    print(i)    "
   ]
  },
  {
   "cell_type": "code",
   "execution_count": 31,
   "metadata": {},
   "outputs": [],
   "source": [
    "newf = open('would.txt','w')\n",
    "newf.writelines(would)\n",
    "newf.close()"
   ]
  },
  {
   "cell_type": "markdown",
   "metadata": {},
   "source": [
    "> 연습문제"
   ]
  },
  {
   "cell_type": "code",
   "execution_count": 2,
   "metadata": {},
   "outputs": [
    {
     "name": "stdout",
     "output_type": "stream",
     "text": [
      "apple\n",
      "arise\n"
     ]
    }
   ],
   "source": [
    "import re\n",
    "words = [\"apple\",\"cat\",\"brave\",\"dream\",\"arise\"]\n",
    "for i in words:\n",
    "    m= re.match(r'a\\D+',i)\n",
    "    if m:\n",
    "        print(m.group())"
   ]
  },
  {
   "cell_type": "code",
   "execution_count": 17,
   "metadata": {},
   "outputs": [
    {
     "data": {
      "text/plain": [
       "['termite@anmail.net', 'ttermite0@gmail.com']"
      ]
     },
     "execution_count": 17,
     "metadata": {},
     "output_type": "execute_result"
    }
   ],
   "source": [
    "a='제 이메일 주소는 termite@anmail.net 입니다. 오늘 저는 ttermite0@gmail.com라는 주소로 메일을 보내려고 합니다.'\n",
    "b = re.findall(r'[a-z0-9]+@[a-z.]+',a)\n",
    "\n",
    "b"
   ]
  },
  {
   "cell_type": "code",
   "execution_count": 5,
   "metadata": {},
   "outputs": [
    {
     "data": {
      "text/plain": [
       "['92년', '88년']"
      ]
     },
     "execution_count": 5,
     "metadata": {},
     "output_type": "execute_result"
    }
   ],
   "source": [
    "# exam에 저장한 문자열에서 연도만 추출\n",
    "exam = \"저는 92년에 태어났습니다. 88년에는 올림필이 있었습니다.\"\n",
    "\n",
    "re.findall(r'\\d.+?년',exam)\n"
   ]
  },
  {
   "cell_type": "code",
   "execution_count": 13,
   "metadata": {},
   "outputs": [
    {
     "data": {
      "text/plain": [
       "['I have a dog', ' I am not a girl', ' You arre not alone', ' Iam happy']"
      ]
     },
     "execution_count": 13,
     "metadata": {},
     "output_type": "execute_result"
    }
   ],
   "source": [
    "# d에 \n",
    "d = 'I have a dog. I am not a girl. You arre not alone. Iam happy'\n",
    "re.split(r'\\.',d)"
   ]
  },
  {
   "cell_type": "code",
   "execution_count": 25,
   "metadata": {},
   "outputs": [
    {
     "name": "stdout",
     "output_type": "stream",
     "text": [
      "Chandler\n",
      "Chandler\n",
      "Phoebe\n"
     ]
    }
   ],
   "source": [
    "e=\"Chandler: All rig, be ice. So does he have a hump? A hump and a ? Phoebe: Just, aecausre, I dont want. Phoebe: I went\"\n",
    "\n",
    "m = re.findall('[A-Za-z]+:',e)\n",
    "m\n",
    "M=list(set(m))\n",
    "M\n",
    "print(M[0][:-1])\n",
    "for i in M:\n",
    "    print(i[:-1])         "
   ]
  }
 ],
 "metadata": {
  "kernelspec": {
   "display_name": "Python 3",
   "language": "python",
   "name": "python3"
  },
  "language_info": {
   "codemirror_mode": {
    "name": "ipython",
    "version": 3
   },
   "file_extension": ".py",
   "mimetype": "text/x-python",
   "name": "python",
   "nbconvert_exporter": "python",
   "pygments_lexer": "ipython3",
   "version": "3.12.1"
  }
 },
 "nbformat": 4,
 "nbformat_minor": 2
}
