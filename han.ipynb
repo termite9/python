{
 "cells": [
  {
   "cell_type": "code",
   "execution_count": 3,
   "metadata": {},
   "outputs": [],
   "source": [
    "import keyboard\n",
    "import winsound\n",
    "import re\n",
    "import sys\n",
    "\n",
    "# 한글 자음 및 모음 조합\n",
    "hangul_combinations = [\n",
    "    'ㄱ', 'ㄲ', 'ㄴ', 'ㄷ', 'ㄸ', 'ㄹ', 'ㅁ', 'ㅂ', 'ㅃ', 'ㅅ',\n",
    "    'ㅆ', 'ㅇ', 'ㅈ', 'ㅉ', 'ㅊ', 'ㅋ', 'ㅌ', 'ㅍ', 'ㅎ',\n",
    "    'ㅏ', 'ㅑ', 'ㅓ', 'ㅕ', 'ㅗ', 'ㅛ', 'ㅜ', 'ㅠ', 'ㅡ', 'ㅣ'\n",
    "]\n",
    "\n",
    "\n",
    "def play_warning_sound():\n",
    "    # 경고음 재생 코드\n",
    "    winsound.Beep(1000, 500)\n",
    "\n",
    "\n",
    "# 첫 번째 키를 기억할 변수\n",
    "first_key = None\n",
    "\n",
    "\n",
    "def check_consecutive_hangul(key1, key2):\n",
    "    # 연속된 두 키가 한글 자음이거나 모음인지 확인\n",
    "    hangul_combination = key1 + key2\n",
    "    return hangul_combination in hangul_combinations\n",
    "\n",
    "\n",
    "def on_key_event(keyboard_event):\n",
    "    global first_key\n",
    "\n",
    "    if keyboard_event.event_type == keyboard.KEY_DOWN:\n",
    "        key = keyboard_event.name\n",
    "\n",
    "        if first_key is None:\n",
    "            # 첫 번째 키 입력 기억\n",
    "            first_key = key\n",
    "        else:\n",
    "            # 두 번째 키 입력\n",
    "            if check_consecutive_hangul(first_key, key):\n",
    "                # 연속된 두 키가 한글 자음이거나 모음인 경우 경고음 재생\n",
    "                play_warning_sound()\n",
    "\n",
    "            # 첫 번째 키 초기화\n",
    "            first_key = None\n",
    "\n",
    "\n",
    "# 프로그램이 종료되기 전까지 대기합니다.\n"
   ]
  },
  {
   "cell_type": "code",
   "execution_count": null,
   "metadata": {},
   "outputs": [],
   "source": [
    "dasdㄹㅇㄴㄴㅇㄴㅇㄹㅇㄴㄹㄴㅇㄹㄴㅇㄹㄴㅇㄹㅇㄴㅇㅁㄴㅇㄴㄴㅁㄴㄴㅁㄴㅁ"
   ]
  }
 ],
 "metadata": {
  "kernelspec": {
   "display_name": "Python 3",
   "language": "python",
   "name": "python3"
  },
  "language_info": {
   "codemirror_mode": {
    "name": "ipython",
    "version": 3
   },
   "file_extension": ".py",
   "mimetype": "text/x-python",
   "name": "python",
   "nbconvert_exporter": "python",
   "pygments_lexer": "ipython3",
   "version": "3.12.1"
  }
 },
 "nbformat": 4,
 "nbformat_minor": 2
}
