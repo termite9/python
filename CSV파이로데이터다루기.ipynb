{
 "cells": [
  {
   "cell_type": "markdown",
   "metadata": {},
   "source": [
    "### CSV파일로 데이터 다루기\n",
    "> 파이썬을 사용하는 이유 중 하나가 데이터를 잘 다루기 위해서 입니다.\n",
    "> 대량의 데이터를 다양한 조건식으로 가공하거나 통계적으로 분석해야 할 때 바로 파이선이 진가를 발휘합니다.\n",
    "\n",
    "> CSV 데이타 알아보기\n",
    " - CSV파일 만들고 읽"
   ]
  },
  {
   "cell_type": "code",
   "execution_count": 8,
   "metadata": {},
   "outputs": [
    {
     "name": "stdout",
     "output_type": "stream",
     "text": [
      "['구', '전체', '내국인', '외국인']\n",
      "['관악구', '519864', '502089', '17775']\n",
      "['강남구', '549702', '542498', '5104']\n",
      "['송파구', '686181', '679247', '6934']\n",
      "['강동구', '428547', '42325', '4312']\n",
      "['구', '전체', '내국인', '외국인']\n",
      "['관악구', '519864', '502089', '17775']\n",
      "['강남구', '549702', '542498', '5104']\n",
      "['송파구', '686181', '679247', '6934']\n",
      "['강동구', '428547', '42325', '4312']\n"
     ]
    },
    {
     "data": {
      "text/plain": [
       "[['구', '전체', '내국인', '외국인'],\n",
       " ['관악구', '519864', '502089', '17775'],\n",
       " ['강남구', '549702', '542498', '5104'],\n",
       " ['송파구', '686181', '679247', '6934'],\n",
       " ['강동구', '428547', '42325', '4312']]"
      ]
     },
     "execution_count": 8,
     "metadata": {},
     "output_type": "execute_result"
    }
   ],
   "source": [
    "import csv, os\n",
    "os.chdir(r'C:\\Users\\고창섭\\Desktop\\python\\생활프로그래밍')\n",
    "f = open('a.csv','r')\n",
    "\n",
    "new=csv.reader(f)\n",
    "new\n",
    "\n",
    "for i in new:\n",
    "    print(i)\n",
    "    \n",
    "a_list = []\n",
    "for i in new:\n",
    "    print(i)\n",
    "    a_list.append(i)\n",
    "    \n",
    "a_list\n",
    "\n",
    "f.seek(0)\n",
    "\n",
    "for i in new:\n",
    "    print(i)\n",
    "    a_list.append(i)\n",
    "    \n",
    "a_list\n",
    "    \n",
    "    "
   ]
  },
  {
   "cell_type": "code",
   "execution_count": 9,
   "metadata": {},
   "outputs": [
    {
     "data": {
      "text/plain": [
       "[['구', '전체', '내국인', '외국인'],\n",
       " ['관악구', '519864', '502089', '17775'],\n",
       " ['강남구', '549702', '542498', '5104'],\n",
       " ['송파구', '686181', '679247', '6934'],\n",
       " ['강동구', '428547', '42325', '4312']]"
      ]
     },
     "execution_count": 9,
     "metadata": {},
     "output_type": "execute_result"
    }
   ],
   "source": [
    "# 함수로 만들어 놓기 함수명:opencsv'\n",
    "def opencsv(filename):\n",
    "    f = open(filename,'r')\n",
    "    reader = csv.reader(f)\n",
    "    output=[]\n",
    "    for i in reader:\n",
    "        output.append(i)\n",
    "    return output\n",
    "    f.close()\n",
    "\n",
    "opencsv('a.csv')\n",
    "\n"
   ]
  },
  {
   "cell_type": "markdown",
   "metadata": {},
   "source": [
    "> CSV 파일쓰기 "
   ]
  },
  {
   "cell_type": "code",
   "execution_count": 10,
   "metadata": {},
   "outputs": [
    {
     "data": {
      "text/plain": [
       "[['구', '전체', '내국인', '외국인'],\n",
       " ['관악구', '519864', '502089', '17775'],\n",
       " ['강남구', '549702', '542498', '5104'],\n",
       " ['송파구', '686181', '679247', '6934'],\n",
       " ['강동구', '428547', '42325', '4312']]"
      ]
     },
     "execution_count": 10,
     "metadata": {},
     "output_type": "execute_result"
    }
   ],
   "source": [
    "def opencsv(filename):\n",
    "    f = open(filename,'r')\n",
    "    reader = csv.reader(f)\n",
    "    output=[]\n",
    "    for i in reader:\n",
    "        output.append(i)\n",
    "    return output\n",
    "    f.close()\n",
    "\n",
    "\n",
    "opencsv('a.csv')"
   ]
  },
  {
   "cell_type": "code",
   "execution_count": 11,
   "metadata": {},
   "outputs": [],
   "source": [
    "a=[['구', '전체', '내국인', '외국인'],\n",
    " ['관악구', '519864', '502089', '17775'],\n",
    " ['강남구', '549702', '542498', '5104'],\n",
    " ['송파구', '686181', '679247', '6934'],\n",
    " ['강동구', '428547', '4325', '4312']]\n",
    "f =open('abc.csv', 'w',newline='')\n",
    "csvobject = csv.writer(f,delimiter=',')\n",
    "csvobject.writerows(a)\n",
    "f.close()\n"
   ]
  },
  {
   "cell_type": "code",
   "execution_count": 12,
   "metadata": {},
   "outputs": [],
   "source": [
    "def writecsv(filename, the_list):\n",
    "    with open(filename,'w',newline='')as f:\n",
    "        a=csv.writer(f,delimiter='')\n",
    "        a.writerows(the_list)\n",
    "    "
   ]
  },
  {
   "cell_type": "markdown",
   "metadata": {},
   "source": [
    "> 나만의 모듈을 만들어 사용하기"
   ]
  },
  {
   "cell_type": "code",
   "execution_count": 13,
   "metadata": {},
   "outputs": [
    {
     "data": {
      "text/plain": [
       "27462"
      ]
     },
     "execution_count": 13,
     "metadata": {},
     "output_type": "execute_result"
    }
   ],
   "source": [
    "import os, re\n",
    "import usecsv\n",
    "\n",
    "apt = usecsv.switch(usecsv.opencsv('apt202312.csv'))\n",
    "len(apt)\n"
   ]
  },
  {
   "cell_type": "code",
   "execution_count": 14,
   "metadata": {},
   "outputs": [
    {
     "data": {
      "text/plain": [
       "['시군구',\n",
       " '번지',\n",
       " '본번',\n",
       " '부번',\n",
       " '단지명',\n",
       " '전용면적(㎡)',\n",
       " '계약년월',\n",
       " '계약일',\n",
       " '거래금액(만원)',\n",
       " '층',\n",
       " '건축년도',\n",
       " '도로명',\n",
       " '해제사유발생일',\n",
       " '등기신청일자',\n",
       " '거래유형',\n",
       " '중개사소재지']"
      ]
     },
     "execution_count": 14,
     "metadata": {},
     "output_type": "execute_result"
    }
   ],
   "source": [
    "apt[0]"
   ]
  },
  {
   "cell_type": "code",
   "execution_count": 15,
   "metadata": {},
   "outputs": [
    {
     "name": "stdout",
     "output_type": "stream",
     "text": [
      "시군구\n",
      "강원특별자치도 강릉시 견소동\n",
      "강원특별자치도 강릉시 견소동\n",
      "강원특별자치도 강릉시 견소동\n",
      "강원특별자치도 강릉시 견소동\n",
      "강원특별자치도 강릉시 견소동\n"
     ]
    }
   ],
   "source": [
    "for i in apt[:6]:\n",
    "    print(i[0])"
   ]
  },
  {
   "cell_type": "code",
   "execution_count": 16,
   "metadata": {},
   "outputs": [
    {
     "name": "stdout",
     "output_type": "stream",
     "text": [
      "시군구 단지명 거래금액(만원)\n",
      "강원특별자치도 강릉시 견소동 송정한신 20500.0\n",
      "강원특별자치도 강릉시 견소동 송정한신 15500.0\n",
      "강원특별자치도 강릉시 견소동 송정해변신도브래뉴아파트 28500.0\n",
      "강원특별자치도 강릉시 견소동 송정해변신도브래뉴아파트 27000.0\n",
      "강원특별자치도 강릉시 견소동 송정해변신도브래뉴아파트 29000.0\n"
     ]
    }
   ],
   "source": [
    "for i in apt[:6]:\n",
    "    print(i[0],i[4],i[8])"
   ]
  },
  {
   "cell_type": "code",
   "execution_count": 17,
   "metadata": {},
   "outputs": [
    {
     "name": "stdout",
     "output_type": "stream",
     "text": [
      "전라북도 전주덕진구 송천동1가 서호(1차) 23300.0\n",
      "전라북도 전주덕진구 송천동1가 서호(1차) 23300.0\n",
      "전라북도 전주덕진구 우아동3가 럭키우아 17100.0\n",
      "전라북도 전주덕진구 인후동1가 삼호 16000.0\n",
      "전라북도 전주덕진구 인후동1가 삼호 16700.0\n",
      "전라북도 전주덕진구 인후동1가 인후송정써미트 27100.0\n",
      "전라북도 전주덕진구 인후동1가 효성안골빌라 19500.0\n",
      "전라북도 전주덕진구 진북동 우성 28700.0\n",
      "전라북도 전주덕진구 진북동 우성 25000.0\n",
      "전라북도 전주덕진구 진북동 우성 23000.0\n",
      "전라북도 전주완산구 삼천동1가 광진궁전맨션 23400.0\n",
      "전라북도 전주완산구 중화산동1가 중화산동신일 14000.0\n",
      "전라북도 전주완산구 평화동1가 코오롱 27500.0\n"
     ]
    }
   ],
   "source": [
    "for i in apt:\n",
    "    try:\n",
    "        if i[5]>=120 and i[8]<=30000 and re.findall(r'전주',i[0]):\n",
    "            print(i[0],i[4],i[8])\n",
    "    except:\n",
    "        pass"
   ]
  },
  {
   "cell_type": "code",
   "execution_count": 18,
   "metadata": {},
   "outputs": [
    {
     "name": "stdout",
     "output_type": "stream",
     "text": [
      "전라북도 전주덕진구 송천동1가 서호(1차) 23300.0\n",
      "전라북도 전주덕진구 송천동1가 서호(1차) 23300.0\n",
      "전라북도 전주덕진구 우아동3가 럭키우아 17100.0\n",
      "전라북도 전주덕진구 인후동1가 삼호 16000.0\n",
      "전라북도 전주덕진구 인후동1가 삼호 16700.0\n",
      "전라북도 전주덕진구 인후동1가 인후송정써미트 27100.0\n",
      "전라북도 전주덕진구 인후동1가 효성안골빌라 19500.0\n",
      "전라북도 전주덕진구 진북동 우성 28700.0\n",
      "전라북도 전주덕진구 진북동 우성 25000.0\n",
      "전라북도 전주덕진구 진북동 우성 23000.0\n",
      "전라북도 전주완산구 삼천동1가 광진궁전맨션 23400.0\n",
      "전라북도 전주완산구 중화산동1가 중화산동신일 14000.0\n",
      "전라북도 전주완산구 평화동1가 코오롱 27500.0\n"
     ]
    }
   ],
   "source": [
    "new_list=[]\n",
    "for i in apt:\n",
    "    try:\n",
    "        if i[5]>=120 and i[8]<=30000 and re.findall(r'전주',i[0]):\n",
    "            print(i[0],i[4],i[8])\n",
    "            new_list.append([i[0],i[4],i[8]])\n",
    "    except:\n",
    "        pass\n",
    "\n",
    "usecsv.writecsv('over120_lower3000.csv',new_list)"
   ]
  },
  {
   "cell_type": "markdown",
   "metadata": {},
   "source": [
    ">  번역한 예문을  표로 저장하기"
   ]
  },
  {
   "cell_type": "code",
   "execution_count": 19,
   "metadata": {},
   "outputs": [
    {
     "name": "stderr",
     "output_type": "stream",
     "text": [
      "<>:6: SyntaxWarning: invalid escape sequence '\\.'\n",
      "<>:7: SyntaxWarning: invalid escape sequence '\\.'\n",
      "<>:6: SyntaxWarning: invalid escape sequence '\\.'\n",
      "<>:7: SyntaxWarning: invalid escape sequence '\\.'\n",
      "C:\\Users\\고창섭\\AppData\\Local\\Temp\\ipykernel_6372\\3832995619.py:6: SyntaxWarning: invalid escape sequence '\\.'\n",
      "  Korean_list = re.split('\\.',Korean)\n",
      "C:\\Users\\고창섭\\AppData\\Local\\Temp\\ipykernel_6372\\3832995619.py:7: SyntaxWarning: invalid escape sequence '\\.'\n",
      "  English_list = re.split('\\.',English)\n"
     ]
    }
   ],
   "source": [
    "import re, usecsv, os\n",
    "English=\"She is a vegeterian. She does not eat meat.\"\n",
    "\n",
    "Korean=\"그는 채식주의자입니다. 그녀는 고기를 먹지 않는다.\"\n",
    "\n",
    "Korean_list = re.split('\\.',Korean)\n",
    "English_list = re.split('\\.',English)\n",
    "\n",
    "# print(Korean_list)\n",
    "\n",
    "total=[]\n",
    "for i in range(len(English_list)):\n",
    "    total.append([English_list[i],Korean_list[i]])\n",
    "    \n",
    "usecsv.writecsv('Korean_English.csv',total)\n",
    "            "
   ]
  },
  {
   "cell_type": "markdown",
   "metadata": {},
   "source": [
    "> 연습문제\n"
   ]
  },
  {
   "cell_type": "code",
   "execution_count": 20,
   "metadata": {},
   "outputs": [],
   "source": [
    "a=[['컴퓨터','노트북','테블릿'],[100,80,60]]"
   ]
  },
  {
   "cell_type": "code",
   "execution_count": 21,
   "metadata": {},
   "outputs": [
    {
     "data": {
      "text/plain": [
       "['종로구', 151767, 11093, 27394]"
      ]
     },
     "execution_count": 21,
     "metadata": {},
     "output_type": "execute_result"
    }
   ],
   "source": [
    "# csv형 리스트로 활용하려고 total의 원소 중 문자형으로 저장된 숫자를 정수형으로 바꾸려고 합니다.\n",
    "total = ['종로구','151,767','11,093','27,394']\n",
    "for i in total:\n",
    "    if re.search(',',i):\n",
    "        total[total.index(i)]=int(re.sub(',','',i))\n",
    "total"
   ]
  },
  {
   "cell_type": "code",
   "execution_count": 27,
   "metadata": {},
   "outputs": [
    {
     "name": "stdout",
     "output_type": "stream",
     "text": [
      "종로구\n"
     ]
    }
   ],
   "source": [
    "pop= [['종로구',151767],['광진구',350000]]\n",
    "for i in pop:\n",
    "    if i[1]  < 300000 :\n",
    "        print(i[0])\n"
   ]
  }
 ],
 "metadata": {
  "kernelspec": {
   "display_name": "Python 3",
   "language": "python",
   "name": "python3"
  },
  "language_info": {
   "codemirror_mode": {
    "name": "ipython",
    "version": 3
   },
   "file_extension": ".py",
   "mimetype": "text/x-python",
   "name": "python",
   "nbconvert_exporter": "python",
   "pygments_lexer": "ipython3",
   "version": "3.12.1"
  }
 },
 "nbformat": 4,
 "nbformat_minor": 2
}
