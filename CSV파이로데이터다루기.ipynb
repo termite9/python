{
 "cells": [
  {
   "cell_type": "markdown",
   "metadata": {},
   "source": [
    "### CSV파일로 데이터 다루기\n",
    "> 파이썬을 사용하는 이유 중 하나가 데이터를 잘 다루기 위해서 입니다.\n",
    "> 대량의 데이터를 다양한 조건식으로 가공하거나 통계적으로 분석해야 할 때 바로 파이선이 진가를 발휘합니다.\n",
    "\n",
    "> CSV 데이타 알아보기\n",
    " - 쉼표로 나눠진 값을 저장한 데이터를 의미합니다.\n",
    " - 파이썬으로 불러와서 복잡한 연산을 수행 할 수있다."
   ]
  },
  {
   "cell_type": "code",
   "execution_count": 2,
   "metadata": {},
   "outputs": [],
   "source": [
    "#CSV파일 만들고 읽기\n",
    "#csv모듈을사용-자료를 csv모듈에서 인식할 수 있는 형태로 바꿔줘야 한다.\n",
    "#CSV는 데이터형식 또는 파일명이고  소문자 csv는 파이썬에서 작동하는 모듈을 의미한다.\n",
    "#파이썬에서 사용하려면 자료형태를 바꾸어 줘야 한다.\n",
    "#CSV형 기본자료는  CSV형 리스트 = [[1행,[2행]...[n행]]-- 리스트안에 리스트가 들어가 있는 형태다.\n",
    "#CSV에서  파이썬으로 불러오는 것을 읽다(write)라고 하고, 파이썬으로 가공한 파일을  CSV형으로 저장하는 것을 쓰다 write라고 표현한다.\n"
   ]
  },
  {
   "cell_type": "code",
   "execution_count": 3,
   "metadata": {},
   "outputs": [
    {
     "name": "stdout",
     "output_type": "stream",
     "text": [
      "['국어', '영어', '수학']\n",
      "['90', '80', '100']\n"
     ]
    }
   ],
   "source": [
    "#CSV파일 읽기\n",
    "import csv, os\n",
    "f = open('aaa.csv','r')\n",
    "\n",
    "#CSV파일을 저장한 객체를 파이썬에서 읽으려면 csv.reader를 사용한다.\n",
    "\n",
    "new = csv.reader(f) #객체 f를 csv.reader로 읽어 new라는 객체에 저장합니다.\n",
    "\n",
    "new\n",
    "for i in new:\n",
    "    print(i)\n"
   ]
  },
  {
   "cell_type": "code",
   "execution_count": 4,
   "metadata": {},
   "outputs": [
    {
     "data": {
      "text/plain": [
       "[]"
      ]
     },
     "execution_count": 4,
     "metadata": {},
     "output_type": "execute_result"
    }
   ],
   "source": [
    "# 이제 aaa.csv 파일의 내용을 파이썬에서 사용할 수 있도록 CSV형 리스트로 바꿔보겠습니다.\n",
    "aaa_list = []\n",
    "for i in new:\n",
    "    print(i)\n",
    "    aaa_list.append(i)\n",
    "\n",
    "aaa_list"
   ]
  },
  {
   "cell_type": "code",
   "execution_count": 5,
   "metadata": {},
   "outputs": [
    {
     "name": "stdout",
     "output_type": "stream",
     "text": [
      "['국어', '영어', '수학']\n",
      "['90', '80', '100']\n"
     ]
    },
    {
     "data": {
      "text/plain": [
       "[['국어', '영어', '수학'], ['90', '80', '100']]"
      ]
     },
     "execution_count": 5,
     "metadata": {},
     "output_type": "execute_result"
    }
   ],
   "source": [
    "#[] 텅 비었네요. 커서가 맨 마지막으로 이동했으므로 파일을 다시 처음부터 읽기 위해서는 seek()함수를 사용해야 합니다.\n",
    "f.seek(0)\n",
    "for i in new:\n",
    "    print(i)\n",
    "    aaa_list.append(i)\n",
    "aaa_list"
   ]
  },
  {
   "cell_type": "markdown",
   "metadata": {},
   "source": [
    "> CSV파일을 불러올때 활용할 함수를 만들어 사용하며 이 함수명을 opencsv라고 해서 저장한다.\n"
   ]
  },
  {
   "cell_type": "code",
   "execution_count": 6,
   "metadata": {},
   "outputs": [],
   "source": [
    "def opencsv(filename):\n",
    "    f = open(filename,'r')\n",
    "    reader = csv.reader(f)\n",
    "    out = []\n",
    "    for i in reader:\n",
    "        out.append(i)\n",
    "    return out\n"
   ]
  },
  {
   "cell_type": "code",
   "execution_count": 7,
   "metadata": {},
   "outputs": [
    {
     "name": "stdout",
     "output_type": "stream",
     "text": [
      "[['a'], ['a'], ['a'], ['a']]\n"
     ]
    }
   ],
   "source": [
    "a=opencsv('a.csv')\n",
    "print(a)"
   ]
  },
  {
   "cell_type": "code",
   "execution_count": 8,
   "metadata": {},
   "outputs": [],
   "source": [
    "# CSV파일 쓰기\n",
    "f= open('abcd.csv','w',newline='')\n",
    "#newline=''를 넣어주어야 줄바꿈이 한번더 일어나지 않는다.\n",
    "\n",
    "#csv.writer은 CSV형 리스트를 파일에 쓸 수 있게 만들어 줍니다.\n",
    "#csv.writer()에 객체 f를 입력한 값을 csvobject객체에 저장합니다. 이때 delimeter=','로 저장합니다.\n",
    "\n",
    "csvobject=csv.writer(f, delimiter=',')\n",
    "\n",
    "#CSV형 리스트가 저장된 객체를 파일에 쓸 때는 writerows()를 사용합니다.\n",
    "\n",
    "csvobject.writerows(a)\n",
    "f.close()"
   ]
  },
  {
   "cell_type": "code",
   "execution_count": 9,
   "metadata": {},
   "outputs": [
    {
     "data": {
      "text/plain": [
       "[['a'], ['a'], ['a'], ['a']]"
      ]
     },
     "execution_count": 9,
     "metadata": {},
     "output_type": "execute_result"
    }
   ],
   "source": [
    "a\n"
   ]
  },
  {
   "cell_type": "markdown",
   "metadata": {},
   "source": [
    "> 파일을 읽을 때와 마찬가지로 파일을 쓸때도 함수를 만든다. 함수명은 writecsv()로 정의 한다.\n"
   ]
  },
  {
   "cell_type": "code",
   "execution_count": 10,
   "metadata": {},
   "outputs": [],
   "source": [
    "def writecsv(filename,the_list): #두번째 변수는 CSV형 리스트를 저장한 객체다.\n",
    "    with open(filename,'w',newline='') as f:  #파일을 바로 닫기 위해서 with문을 사용했다.\n",
    "        a=csv.writer(f,delimiter=',')\n",
    "        a.writerows(the_list)\n",
    "\n",
    "writecsv('abcd.txt','a')\n"
   ]
  },
  {
   "cell_type": "markdown",
   "metadata": {},
   "source": [
    "> 나만의 모듈을 만들어 사용하기\n"
   ]
  },
  {
   "cell_type": "code",
   "execution_count": 11,
   "metadata": {},
   "outputs": [],
   "source": [
    "#opencsv()함수와 wtitecsv()함수를 묶어서 usecsv라는 별도의 모듈을 만들어 사용한다."
   ]
  },
  {
   "cell_type": "code",
   "execution_count": 12,
   "metadata": {},
   "outputs": [],
   "source": [
    "import usecsv\n",
    "b= [['국어','영어','수학'],[99,88,77]]\n",
    "usecsv.writecsv('testb.csv',b)"
   ]
  },
  {
   "cell_type": "code",
   "execution_count": 13,
   "metadata": {},
   "outputs": [
    {
     "name": "stdout",
     "output_type": "stream",
     "text": [
      "['a']\n",
      "['a']\n",
      "['a']\n",
      "['a']\n",
      "['a']\n",
      "['a']\n",
      "['a']\n",
      "['a']\n"
     ]
    },
    {
     "data": {
      "text/plain": [
       "[['a'], ['a'], ['a'], ['a']]"
      ]
     },
     "execution_count": 13,
     "metadata": {},
     "output_type": "execute_result"
    }
   ],
   "source": [
    "import csv, os\n",
    "os.chdir(r'C:\\Users\\고창섭\\Desktop\\python\\생활프로그래밍')\n",
    "f = open('a.csv','r')\n",
    "\n",
    "new=csv.reader(f)\n",
    "new\n",
    "\n",
    "for i in new:\n",
    "    print(i)\n",
    "    \n",
    "a_list = []\n",
    "for i in new:\n",
    "    print(i)\n",
    "    a_list.append(i)\n",
    "    \n",
    "a_list\n",
    "\n",
    "f.seek(0)\n",
    "\n",
    "for i in new:\n",
    "    print(i)\n",
    "    a_list.append(i)\n",
    "    \n",
    "a_list\n",
    "    \n",
    "    "
   ]
  },
  {
   "cell_type": "code",
   "execution_count": 14,
   "metadata": {},
   "outputs": [
    {
     "data": {
      "text/plain": [
       "[['a'], ['a'], ['a'], ['a']]"
      ]
     },
     "execution_count": 14,
     "metadata": {},
     "output_type": "execute_result"
    }
   ],
   "source": [
    "# 함수로 만들어 놓기 함수명:opencsv'\n",
    "def opencsv(filename):\n",
    "    f = open(filename,'r')\n",
    "    reader = csv.reader(f)\n",
    "    output=[]\n",
    "    for i in reader:\n",
    "        output.append(i)\n",
    "    return output\n",
    "    f.close()\n",
    "\n",
    "opencsv('a.csv')\n",
    "\n"
   ]
  },
  {
   "cell_type": "markdown",
   "metadata": {},
   "source": [
    "> CSV 파일쓰기 "
   ]
  },
  {
   "cell_type": "code",
   "execution_count": 15,
   "metadata": {},
   "outputs": [
    {
     "data": {
      "text/plain": [
       "[['a'], ['a'], ['a'], ['a']]"
      ]
     },
     "execution_count": 15,
     "metadata": {},
     "output_type": "execute_result"
    }
   ],
   "source": [
    "def opencsv(filename):\n",
    "    f = open(filename,'r')\n",
    "    reader = csv.reader(f)\n",
    "    output=[]\n",
    "    for i in reader:\n",
    "        output.append(i)\n",
    "    return output\n",
    "    f.close()\n",
    "\n",
    "\n",
    "opencsv('a.csv')"
   ]
  },
  {
   "cell_type": "code",
   "execution_count": 16,
   "metadata": {},
   "outputs": [],
   "source": [
    "a=[['구', '전체', '내국인', '외국인'],\n",
    " ['관악구', '519864', '502089', '17775'],\n",
    " ['강남구', '549702', '542498', '5104'],\n",
    " ['송파구', '686181', '679247', '6934'],\n",
    " ['강동구', '428547', '4325', '4312']]\n",
    "f =open('abc.csv', 'w',newline='')\n",
    "csvobject = csv.writer(f,delimiter=',')\n",
    "csvobject.writerows(a)\n",
    "f.close()\n"
   ]
  },
  {
   "cell_type": "code",
   "execution_count": 17,
   "metadata": {},
   "outputs": [],
   "source": [
    "def writecsv(filename, the_list):\n",
    "    with open(filename,'w',newline='')as f:\n",
    "        a=csv.writer(f,delimiter='')\n",
    "        a.writerows(the_list)\n",
    "    "
   ]
  },
  {
   "cell_type": "markdown",
   "metadata": {},
   "source": [
    "> 나만의 모듈을 만들어 사용하기"
   ]
  },
  {
   "cell_type": "code",
   "execution_count": 18,
   "metadata": {},
   "outputs": [
    {
     "data": {
      "text/plain": [
       "27462"
      ]
     },
     "execution_count": 18,
     "metadata": {},
     "output_type": "execute_result"
    }
   ],
   "source": [
    "import os, re\n",
    "import usecsv\n",
    "\n",
    "apt = usecsv.switch(usecsv.opencsv('apt202312.csv'))\n",
    "len(apt)\n"
   ]
  },
  {
   "cell_type": "markdown",
   "metadata": {},
   "source": [
    "> CSV파일 안의 문자를 숫자로 전환하기\n",
    "- 앞에서 만든usecsv.py모듈은 모든 자료를 문자형으로 불러온다. 이러한 단점은 코드 몇줄로 보완할 수 있다."
   ]
  },
  {
   "cell_type": "code",
   "execution_count": 19,
   "metadata": {},
   "outputs": [
    {
     "name": "stdout",
     "output_type": "stream",
     "text": [
      "['구 ', ' 계   ', ' 한국인  ', ' 등록외국인  ', ' 고령자  ']\n",
      "['종로구', '152,212', '141,060', '11,152', '28,265']\n",
      "['중구', '131,390', '120,963', '10,427', '25,353']\n",
      "['용산구', '232,482', '217,756', '14,726', '39,478']\n",
      "['성동구', '287,240', '280,240', '7,000', '48,238']\n",
      "['광진구', '350,925', '336,801', '14,124', '54,854']\n",
      "['동대문구', '354,884', '337,574', '17,310', '65,154']\n",
      "['중랑구', '389,928', '385,003', '4,925', '76,116']\n",
      "['성북구', '441,855', '430,100', '11,755', '78,427']\n",
      "['강북구', '296,934', '292,762', '4,172', '67,056']\n",
      "['도봉구', '312,858', '310,509', '2,349', '68,114']\n",
      "['노원구', '506,989', '502,515', '4,474', '93,279']\n",
      "['은평구', '468,766', '464,871', '3,895', '90,556']\n",
      "['서대문구', '321,966', '308,437', '13,529', '56,785']\n",
      "['마포구', '376,542', '365,570', '10,972', '56,582']\n",
      "['양천구', '442,345', '439,219', '3,126', '73,522']\n",
      "['강서구', '573,711', '568,287', '5,424', '98,659']\n",
      "['구로구', '417,983', '395,183', '22,800', '77,259']\n",
      "['금천구', '242,467', '229,307', '13,160', '43,772']\n",
      "['영등포구', '398,999', '376,614', '22,385', '66,014']\n",
      "['동작구', '390,377', '380,201', '10,176', '68,766']\n",
      "['관악구', '502,628', '487,815', '14,813', '83,420']\n",
      "['서초구', '408,979', '404,831', '4,148', '63,328']\n",
      "['강남구', '537,817', '532,798', '5,019', '83,097']\n",
      "['송파구', '663,704', '658,006', '5,698', '105,161']\n",
      "['강동구', '464,027', '459,982', '4,045', '79,706']\n"
     ]
    }
   ],
   "source": [
    "# CSV파일 불러와서 형식 확인하기\n",
    "import os,re\n",
    "import usecsv\n",
    "total = usecsv.opencsv('PopSeoul2023.csv')\n",
    "for i in total:\n",
    "    print(i)\n",
    "\n",
    "\n",
    "#숫자도 따옴표로 감싸져있다..즉 문자형태이고 세자릿수마다 쉼표도 있다. 이것도 제거해야한다."
   ]
  },
  {
   "cell_type": "code",
   "execution_count": 20,
   "metadata": {},
   "outputs": [
    {
     "data": {
      "text/plain": [
       "float"
      ]
     },
     "execution_count": 20,
     "metadata": {},
     "output_type": "execute_result"
    }
   ],
   "source": [
    "# 문자형 자료를 숫자형으로 바꾸기\n",
    "# 문자형으로 만들어진자료를 숫자령으로 바꾸려면 정수형(int)와 ㅅ실수형(float)를 사용한다.\n",
    "i = '123'\n",
    "float(i)\n",
    "int(i)\n",
    "#실수형으로 바꾸려 하는데 '1,468,234'처럼  쉼표로 인해 숫자형으로 직접 바꿀 수가 없다. 쉼표를 제거해보자\n",
    "j='1,486,146'\n",
    "float(re.sub(',','',j)) # ㅋ 여기서 기가막히게 re.sub를 사용하네\n",
    "type(float(re.sub(',','',j)))"
   ]
  },
  {
   "cell_type": "code",
   "execution_count": 21,
   "metadata": {},
   "outputs": [
    {
     "data": {
      "text/plain": [
       "['종로구', 152212.0, 141060.0, 11152.0, 28265.0]"
      ]
     },
     "execution_count": 21,
     "metadata": {},
     "output_type": "execute_result"
    }
   ],
   "source": [
    "#숫자 원소만 골라서(,) 를 제거하기\n",
    "import re\n",
    "i = total[1]\n",
    "i\n",
    "k=[]\n",
    "for j in i:\n",
    "    if re.search(r'\\d',j): #j에 숫자가 들어가 있다면\n",
    "        k.append(float(re.sub(',','',j)))\n",
    "    else:\n",
    "        k.append(j)\n",
    "\n",
    "\n",
    "k\n",
    "\n"
   ]
  },
  {
   "cell_type": "code",
   "execution_count": 22,
   "metadata": {},
   "outputs": [
    {
     "data": {
      "text/plain": [
       "['123강남', 151267.0, 214135.0, 54395.0]"
      ]
     },
     "execution_count": 22,
     "metadata": {},
     "output_type": "execute_result"
    }
   ],
   "source": [
    "# 문자와 숫자가 섞인 원소 골라내기\n",
    "p = ['123강남','151,267','214,135','54,395']\n",
    "k= []\n",
    "for j in p:\n",
    "    if re.search(r'[a-z가-힣]',j):\n",
    "        k.append(j)\n",
    "    else:\n",
    "        k.append(float(re.sub(',','',j)))\n",
    "k"
   ]
  },
  {
   "cell_type": "code",
   "execution_count": 23,
   "metadata": {},
   "outputs": [
    {
     "data": {
      "text/plain": [
       "['123!!', 154297.0, 23145.0, 15241.0]"
      ]
     },
     "execution_count": 23,
     "metadata": {},
     "output_type": "execute_result"
    }
   ],
   "source": [
    "#특수문자와 숫자가 섞인 원소 골라내기\n",
    "i=['123!!','154,297','23,145','15,241']\n",
    "k=[]\n",
    "for j in i:\n",
    "    if re.search(r'[a-z가-힣!]',j):\n",
    "        k.append(j)\n",
    "    else:\n",
    "        k.append(float(re.sub(',','',j)))\n",
    "\n",
    "k"
   ]
  },
  {
   "cell_type": "markdown",
   "metadata": {},
   "source": [
    ">"
   ]
  },
  {
   "cell_type": "markdown",
   "metadata": {},
   "source": [
    "> 예외처리로 넘어가기"
   ]
  },
  {
   "cell_type": "code",
   "execution_count": 24,
   "metadata": {},
   "outputs": [],
   "source": [
    "# 문자형을 숫자형으로 바꿀때 조건식이 완벽하지는않다 . 그 이유는 조건문을 피하는 경우의 수가 여전히 많다.\n",
    "# 이처럼 오류로 고민할 때 바로 필요한 것이 예외처리입니다. 예외처리를 할 때는 try문과 except문을 사용합니다.\n",
    "# 원리는 간단합니다. 어떤 명령을 실행해 보고  실행이 안되면 예외 처리 규정을 실행하라는 명령어 입니다.\n",
    "# 지금까지의 경우에서 float()함수가 작동하지 않으면 예외처리하라고 하면 간단하게 해결할 수 있다.\n",
    "i=['123!!','154,297','23,145','15,241']\n",
    "for j in i:\n",
    "    try:\n",
    "        i[i.index(j)] = float(re.sub(r',','',j))\n",
    "    except:\n",
    "        pass\n",
    "\n",
    "# 파이썬으로 수천 줄의 데이터를 분석할 대 오류가 발생할 때마다 프로그램이 멈추면 어떻게 해야 하나요? 하지만 우리는 오류가 발생하면\n",
    "    #무시하고 그냥 넘어가라는 예외 처리 규정을 만들어 처리하지 못한 데이터는 놔두고, 나머지 데이터만 가지고 할일을 하면 된다."
   ]
  },
  {
   "cell_type": "code",
   "execution_count": 25,
   "metadata": {},
   "outputs": [
    {
     "data": {
      "text/plain": [
       "['종로구', 152212.0, 141060.0, 11152.0, 28265.0]"
      ]
     },
     "execution_count": 25,
     "metadata": {},
     "output_type": "execute_result"
    }
   ],
   "source": [
    "# 예외 처리로 숫자만 골라서 숫자형으로 바꾸기\n",
    "total\n",
    "\n",
    "i= total[1]\n",
    "for j in i:\n",
    "    try:\n",
    "        i[i.index(j)] = float(re.sub(r',','',j))\n",
    "    except:\n",
    "        pass\n",
    "\n",
    "i"
   ]
  },
  {
   "cell_type": "code",
   "execution_count": 26,
   "metadata": {},
   "outputs": [
    {
     "data": {
      "text/plain": [
       "[['구 ', ' 계   ', ' 한국인  ', ' 등록외국인  ', ' 고령자  '],\n",
       " ['종로구', 152212.0, 141060.0, 11152.0, 28265.0],\n",
       " ['중구', 131390.0, 120963.0, 10427.0, 25353.0],\n",
       " ['용산구', 232482.0, 217756.0, 14726.0, 39478.0],\n",
       " ['성동구', 287240.0, 280240.0, 7000.0, 48238.0],\n",
       " ['광진구', 350925.0, 336801.0, 14124.0, 54854.0],\n",
       " ['동대문구', 354884.0, 337574.0, 17310.0, 65154.0],\n",
       " ['중랑구', 389928.0, 385003.0, 4925.0, 76116.0],\n",
       " ['성북구', 441855.0, 430100.0, 11755.0, 78427.0],\n",
       " ['강북구', 296934.0, 292762.0, 4172.0, 67056.0],\n",
       " ['도봉구', 312858.0, 310509.0, 2349.0, 68114.0],\n",
       " ['노원구', 506989.0, 502515.0, 4474.0, 93279.0],\n",
       " ['은평구', 468766.0, 464871.0, 3895.0, 90556.0],\n",
       " ['서대문구', 321966.0, 308437.0, 13529.0, 56785.0],\n",
       " ['마포구', 376542.0, 365570.0, 10972.0, 56582.0],\n",
       " ['양천구', 442345.0, 439219.0, 3126.0, 73522.0],\n",
       " ['강서구', 573711.0, 568287.0, 5424.0, 98659.0],\n",
       " ['구로구', 417983.0, 395183.0, 22800.0, 77259.0],\n",
       " ['금천구', 242467.0, 229307.0, 13160.0, 43772.0],\n",
       " ['영등포구', 398999.0, 376614.0, 22385.0, 66014.0],\n",
       " ['동작구', 390377.0, 380201.0, 10176.0, 68766.0],\n",
       " ['관악구', 502628.0, 487815.0, 14813.0, 83420.0],\n",
       " ['서초구', 408979.0, 404831.0, 4148.0, 63328.0],\n",
       " ['강남구', 537817.0, 532798.0, 5019.0, 83097.0],\n",
       " ['송파구', 663704.0, 658006.0, 5698.0, 105161.0],\n",
       " ['강동구', 464027.0, 459982.0, 4045.0, 79706.0]]"
      ]
     },
     "execution_count": 26,
     "metadata": {},
     "output_type": "execute_result"
    }
   ],
   "source": [
    "#이제 모든 데이터를 숫자형으로 바꾸어 봅시다.\n",
    "for i in total:\n",
    "    for j in i:\n",
    "        try:\n",
    "            i[i.index(j)] = float(re.sub(r',','',j))\n",
    "        except:\n",
    "            pass\n",
    "\n",
    "total"
   ]
  },
  {
   "cell_type": "code",
   "execution_count": 27,
   "metadata": {},
   "outputs": [],
   "source": [
    "#이렇게 예외처리를 적용하여 문자형을 숫자형(실수)로 변환시키는 함수를 만들어 usecsv에 추가한다. 함수명은 switch()\n",
    "def switch(listName):\n",
    "    for i in listName:\n",
    "        for j in i:\n",
    "            try:\n",
    "                i[i.index(j)] = float(re.sub(',','',j))\n",
    "            except:\n",
    "                pass\n",
    "    return listName\n"
   ]
  },
  {
   "cell_type": "code",
   "execution_count": 28,
   "metadata": {},
   "outputs": [
    {
     "data": {
      "text/plain": [
       "[['구 ', ' 계   ', ' 한국인  ', ' 등록외국인  ', ' 고령자  '],\n",
       " ['종로구', 152212.0, 141060.0, 11152.0, 28265.0],\n",
       " ['중구', 131390.0, 120963.0, 10427.0, 25353.0],\n",
       " ['용산구', 232482.0, 217756.0, 14726.0, 39478.0],\n",
       " ['성동구', 287240.0, 280240.0, 7000.0, 48238.0],\n",
       " ['광진구', 350925.0, 336801.0, 14124.0, 54854.0],\n",
       " ['동대문구', 354884.0, 337574.0, 17310.0, 65154.0],\n",
       " ['중랑구', 389928.0, 385003.0, 4925.0, 76116.0],\n",
       " ['성북구', 441855.0, 430100.0, 11755.0, 78427.0],\n",
       " ['강북구', 296934.0, 292762.0, 4172.0, 67056.0],\n",
       " ['도봉구', 312858.0, 310509.0, 2349.0, 68114.0],\n",
       " ['노원구', 506989.0, 502515.0, 4474.0, 93279.0],\n",
       " ['은평구', 468766.0, 464871.0, 3895.0, 90556.0],\n",
       " ['서대문구', 321966.0, 308437.0, 13529.0, 56785.0],\n",
       " ['마포구', 376542.0, 365570.0, 10972.0, 56582.0],\n",
       " ['양천구', 442345.0, 439219.0, 3126.0, 73522.0],\n",
       " ['강서구', 573711.0, 568287.0, 5424.0, 98659.0],\n",
       " ['구로구', 417983.0, 395183.0, 22800.0, 77259.0],\n",
       " ['금천구', 242467.0, 229307.0, 13160.0, 43772.0],\n",
       " ['영등포구', 398999.0, 376614.0, 22385.0, 66014.0],\n",
       " ['동작구', 390377.0, 380201.0, 10176.0, 68766.0],\n",
       " ['관악구', 502628.0, 487815.0, 14813.0, 83420.0],\n",
       " ['서초구', 408979.0, 404831.0, 4148.0, 63328.0],\n",
       " ['강남구', 537817.0, 532798.0, 5019.0, 83097.0],\n",
       " ['송파구', 663704.0, 658006.0, 5698.0, 105161.0],\n",
       " ['강동구', 464027.0, 459982.0, 4045.0, 79706.0]]"
      ]
     },
     "execution_count": 28,
     "metadata": {},
     "output_type": "execute_result"
    }
   ],
   "source": [
    "switch(total)"
   ]
  },
  {
   "cell_type": "code",
   "execution_count": 29,
   "metadata": {},
   "outputs": [
    {
     "data": {
      "text/plain": [
       "[['Gu', 'Korean', 'Foreigner', 'Senior'],\n",
       " ['Jongrogu', '151,767', '11,093', '27,394'],\n",
       " ['Jongru', '126,409', '10,254', '23,025'],\n",
       " ['Yongsangu', '228,830', '16,159', '38,531'],\n",
       " ['Seongdonggu', '303,158', '8,132', '43,662'],\n",
       " ['Kwangjingu', '352,692', '15,645', '47,347'],\n",
       " ['Dongdaemoongu', '346,551', '17,228', '58,764'],\n",
       " ['Jungranggu', '398,812', '4,964', '64,449'],\n",
       " ['Seongbukgu', '441,590', '12,524', '70,204'],\n",
       " ['Gangbukgu', '314,090', '3,785', '59,808'],\n",
       " ['Dobonggu', '335,280', '2,314', '58,070'],\n",
       " ['Nowonggu', '535,282', '4,547', '79,968'],\n",
       " ['Eunpyonggu', '481,663', '4,496', '79,957'],\n",
       " ['Seodaemungu', '310,069', '14,020', '51,708'],\n",
       " ['Mapogu', '373,629', '11,976', '51,961'],\n",
       " ['Yangcheongu', '459,849', '4,082', '60,487'],\n",
       " ['Gangseogu', '593,708', '6,532', '82,937'],\n",
       " ['Gurogu', '406,748', '33,102', '64,952'],\n",
       " ['Guemcheongu', '233,371', '19,497', '37,191'],\n",
       " ['Youngdeungpogu', '368,402', '34,076', '57,350'],\n",
       " ['Dongjakgu', '397,618', '12,869', '61,607'],\n",
       " ['Kwanakgu', '502,117', '17,836', '74,518'],\n",
       " ['Seoucheogu', '431,027', '4,231', '56,455'],\n",
       " ['Gangnamgu', '544,028', '5,015', '70,029'],\n",
       " ['Songpagu', '677,489', '6,849', '86,062'],\n",
       " ['Gangdonggu', '426,219', '4,303', '61,710']]"
      ]
     },
     "execution_count": 29,
     "metadata": {},
     "output_type": "execute_result"
    }
   ],
   "source": [
    "seo=opencsv('popSeoul.csv')\n",
    "\n",
    "seo"
   ]
  },
  {
   "cell_type": "code",
   "execution_count": 30,
   "metadata": {},
   "outputs": [
    {
     "data": {
      "text/plain": [
       "[['Gu', 'Korean', 'Foreigner', 'Senior'],\n",
       " ['Jongrogu', 151767.0, 11093.0, 27394.0],\n",
       " ['Jongru', 126409.0, 10254.0, 23025.0],\n",
       " ['Yongsangu', 228830.0, 16159.0, 38531.0],\n",
       " ['Seongdonggu', 303158.0, 8132.0, 43662.0],\n",
       " ['Kwangjingu', 352692.0, 15645.0, 47347.0],\n",
       " ['Dongdaemoongu', 346551.0, 17228.0, 58764.0],\n",
       " ['Jungranggu', 398812.0, 4964.0, 64449.0],\n",
       " ['Seongbukgu', 441590.0, 12524.0, 70204.0],\n",
       " ['Gangbukgu', 314090.0, 3785.0, 59808.0],\n",
       " ['Dobonggu', 335280.0, 2314.0, 58070.0],\n",
       " ['Nowonggu', 535282.0, 4547.0, 79968.0],\n",
       " ['Eunpyonggu', 481663.0, 4496.0, 79957.0],\n",
       " ['Seodaemungu', 310069.0, 14020.0, 51708.0],\n",
       " ['Mapogu', 373629.0, 11976.0, 51961.0],\n",
       " ['Yangcheongu', 459849.0, 4082.0, 60487.0],\n",
       " ['Gangseogu', 593708.0, 6532.0, 82937.0],\n",
       " ['Gurogu', 406748.0, 33102.0, 64952.0],\n",
       " ['Guemcheongu', 233371.0, 19497.0, 37191.0],\n",
       " ['Youngdeungpogu', 368402.0, 34076.0, 57350.0],\n",
       " ['Dongjakgu', 397618.0, 12869.0, 61607.0],\n",
       " ['Kwanakgu', 502117.0, 17836.0, 74518.0],\n",
       " ['Seoucheogu', 431027.0, 4231.0, 56455.0],\n",
       " ['Gangnamgu', 544028.0, 5015.0, 70029.0],\n",
       " ['Songpagu', 677489.0, 6849.0, 86062.0],\n",
       " ['Gangdonggu', 426219.0, 4303.0, 61710.0]]"
      ]
     },
     "execution_count": 30,
     "metadata": {},
     "output_type": "execute_result"
    }
   ],
   "source": [
    "c=switch(seo)\n",
    "c"
   ]
  },
  {
   "cell_type": "code",
   "execution_count": 31,
   "metadata": {},
   "outputs": [
    {
     "name": "stdout",
     "output_type": "stream",
     "text": [
      "K\n",
      "o\n",
      "r\n",
      "e\n",
      "a\n",
      "n\n"
     ]
    }
   ],
   "source": [
    "sum=0\n",
    "for i in c[:1]:\n",
    "    for j in i[1]:\n",
    "        print(j)    \n",
    "\n",
    "    \n",
    "\n",
    "\n"
   ]
  },
  {
   "cell_type": "markdown",
   "metadata": {},
   "source": [
    "> 부동산 실거래가 살펴보기\n",
    "- CSV파일을 다루는 것은 흥미진지하지만, 다른 한편으론 약간의 인내심이 필요하다."
   ]
  },
  {
   "cell_type": "code",
   "execution_count": 58,
   "metadata": {},
   "outputs": [],
   "source": [
    "# CSV형 리스트로 만들고 자료 가공하기\n",
    "import os,re\n",
    "import usecsv\n",
    "apt= usecsv.switch(usecsv.opencsv('apt2312.csv'))"
   ]
  },
  {
   "cell_type": "markdown",
   "metadata": {},
   "source": []
  },
  {
   "cell_type": "code",
   "execution_count": null,
   "metadata": {},
   "outputs": [],
   "source": [
    "apt[:3]"
   ]
  },
  {
   "cell_type": "code",
   "execution_count": 60,
   "metadata": {},
   "outputs": [
    {
     "data": {
      "text/plain": [
       "22119"
      ]
     },
     "execution_count": 60,
     "metadata": {},
     "output_type": "execute_result"
    }
   ],
   "source": [
    "len(apt)\n",
    "# 아파트 거래가 23년 12월 한달동안 22119번 있었음을 확인 할 수 있다."
   ]
  },
  {
   "cell_type": "code",
   "execution_count": 61,
   "metadata": {},
   "outputs": [
    {
     "data": {
      "text/plain": [
       "['시군구',\n",
       " '번지',\n",
       " '본번',\n",
       " '부번',\n",
       " '단지명',\n",
       " '전용면적(㎡)',\n",
       " '계약년월',\n",
       " '계약일',\n",
       " '거래금액(만원)',\n",
       " '층',\n",
       " '건축년도',\n",
       " '도로명',\n",
       " '해제사유발생일',\n",
       " '등기신청일자',\n",
       " '거래유형',\n",
       " '중개사소재지']"
      ]
     },
     "execution_count": 61,
     "metadata": {},
     "output_type": "execute_result"
    }
   ],
   "source": [
    "#슬라이싱으로 원하는 자료 출력하기\n",
    "apt[0]"
   ]
  },
  {
   "cell_type": "code",
   "execution_count": 62,
   "metadata": {},
   "outputs": [
    {
     "name": "stdout",
     "output_type": "stream",
     "text": [
      "시군구\n",
      "강원특별자치도 강릉시 견소동\n",
      "강원특별자치도 강릉시 교동\n",
      "강원특별자치도 강릉시 교동\n",
      "강원특별자치도 강릉시 교동\n"
     ]
    }
   ],
   "source": [
    "# 처음 5개 데이터에 시군구만 출력한다.\n",
    "for i in apt[:5]:\n",
    "    print(i[0])\n"
   ]
  },
  {
   "cell_type": "code",
   "execution_count": 63,
   "metadata": {},
   "outputs": [
    {
     "name": "stdout",
     "output_type": "stream",
     "text": [
      "시군구 단지명 거래금액(만원)\n",
      "강원특별자치도 강릉시 견소동 송정해변신도브래뉴아파트 23300.0\n",
      "강원특별자치도 강릉시 교동 강릉교동롯데캐슬2단지 46000.0\n",
      "강원특별자치도 강릉시 교동 교동1주공 18500.0\n",
      "강원특별자치도 강릉시 교동 교동1주공 29000.0\n",
      "강원특별자치도 강릉시 교동 교동2현대 38000.0\n"
     ]
    }
   ],
   "source": [
    "for i in apt[:6]:\n",
    "    print(i[0],i[4],i[8])"
   ]
  },
  {
   "cell_type": "code",
   "execution_count": 69,
   "metadata": {},
   "outputs": [
    {
     "name": "stdout",
     "output_type": "stream",
     "text": [
      "시군구                            단지명                       거래금액(만원)  \n",
      "강원특별자치도 강릉시 견소동                송정해변신도브래뉴아파트              23300.0   \n",
      "강원특별자치도 강릉시 교동                 강릉교동롯데캐슬2단지               46000.0   \n",
      "강원특별자치도 강릉시 교동                 교동1주공                     18500.0   \n",
      "강원특별자치도 강릉시 교동                 교동1주공                     29000.0   \n",
      "강원특별자치도 강릉시 교동                 교동2현대                     38000.0   \n"
     ]
    }
   ],
   "source": [
    "for i in apt[:6]:\n",
    "    print(\"{:<30} {:<25} {:<10}\".format(i[0], i[4], i[8]))\n"
   ]
  },
  {
   "cell_type": "code",
   "execution_count": 75,
   "metadata": {},
   "outputs": [
    {
     "name": "stdout",
     "output_type": "stream",
     "text": [
      "전라북도 전주완산구 삼천동1가 우성 20300.0\n",
      "전라북도 전주완산구 중화산동2가 거성화산 12400.0\n",
      "전라북도 전주완산구 중화산동2가 전주한신코아1차,2차 21800.0\n",
      "전라북도 전주완산구 효자동1가 거성소라 19900.0\n",
      "전라북도 전주완산구 효자동1가 유진청하맨션B 18450.0\n"
     ]
    }
   ],
   "source": [
    "# 전라북도에 120m2이상 3억원 이하 거래 아파트 검색하기.\n",
    "for i in apt:\n",
    "    try:\n",
    "        if i[5] > 120 and i[8] < 30000 and re.findall(r'전주',i[0]):\n",
    "         print(i[0],i[4],i[8])\n",
    "    except:\n",
    "        pass\n"
   ]
  },
  {
   "cell_type": "code",
   "execution_count": null,
   "metadata": {},
   "outputs": [
    {
     "name": "stdout",
     "output_type": "stream",
     "text": [
      "전라북도 전주덕진구 송천동1가 서호(1차) 23300.0\n",
      "전라북도 전주덕진구 송천동1가 서호(1차) 23300.0\n",
      "전라북도 전주덕진구 우아동3가 럭키우아 17100.0\n",
      "전라북도 전주덕진구 인후동1가 삼호 16000.0\n",
      "전라북도 전주덕진구 인후동1가 삼호 16700.0\n",
      "전라북도 전주덕진구 인후동1가 인후송정써미트 27100.0\n",
      "전라북도 전주덕진구 인후동1가 효성안골빌라 19500.0\n",
      "전라북도 전주덕진구 진북동 우성 28700.0\n",
      "전라북도 전주덕진구 진북동 우성 25000.0\n",
      "전라북도 전주덕진구 진북동 우성 23000.0\n",
      "전라북도 전주완산구 삼천동1가 광진궁전맨션 23400.0\n",
      "전라북도 전주완산구 중화산동1가 중화산동신일 14000.0\n",
      "전라북도 전주완산구 평화동1가 코오롱 27500.0\n"
     ]
    }
   ],
   "source": [
    "for i in apt:\n",
    "    try:\n",
    "        if i[5]>=120 and i[8]<=30000 and re.findall(r'전주',i[0]):\n",
    "            print(i[0],i[4],i[8])\n",
    "    except:\n",
    "        pass"
   ]
  },
  {
   "cell_type": "code",
   "execution_count": 76,
   "metadata": {},
   "outputs": [
    {
     "name": "stdout",
     "output_type": "stream",
     "text": [
      "전라북도 전주완산구 삼천동1가 우성 20300.0\n",
      "전라북도 전주완산구 중화산동2가 거성화산 12400.0\n",
      "전라북도 전주완산구 중화산동2가 전주한신코아1차,2차 21800.0\n",
      "전라북도 전주완산구 효자동1가 거성소라 19900.0\n",
      "전라북도 전주완산구 효자동1가 유진청하맨션B 18450.0\n"
     ]
    }
   ],
   "source": [
    "new_list=[]\n",
    "for i in apt:\n",
    "    try:\n",
    "        if i[5]>=120 and i[8]<=30000 and re.findall(r'전주',i[0]):\n",
    "            print(i[0],i[4],i[8])\n",
    "            new_list.append([i[0],i[4],i[8]])\n",
    "    except:\n",
    "        pass\n",
    "\n",
    "usecsv.writecsv('ov120_low3000.csv',new_list)"
   ]
  },
  {
   "cell_type": "markdown",
   "metadata": {},
   "source": [
    ">  번역한 예문을  표로 저장하기"
   ]
  },
  {
   "cell_type": "code",
   "execution_count": 84,
   "metadata": {},
   "outputs": [
    {
     "name": "stdout",
     "output_type": "stream",
     "text": [
      "['그녀는 채식주의자입니다', ' 고기를 먹지 않습니다', ' 동물을 죽여서는 안 된다고 생각합니다', ' 사람들과 어울리는 것이 어렵습니다']\n"
     ]
    }
   ],
   "source": [
    "# 프로그램 작성하고 저장하기\n",
    "\n",
    "import re, usecsv, os\n",
    "English=\"She is a vegeterian. She does not eat meat. She thinks that animals should not be killed. It is hard for her to hang out with people\"\n",
    "\n",
    "Korean=\"그녀는 채식주의자입니다. 고기를 먹지 않습니다. 동물을 죽여서는 안 된다고 생각합니다. 사람들과 어울리는 것이 어렵습니다\"\n",
    "English_list = re.split(r'\\.',English)\n",
    "\n",
    "Korean_list = re.split(r'\\.',Korean)\n",
    "\n",
    "print(Korean_list)\n",
    "total=[]\n",
    "for i in range(len(English_list)):\n",
    "    total.append([English_list[i],Korean_list[i]])\n",
    "total\n",
    "# for i in range(len(English_list)):\n",
    "#     total.append([English_list[i],Korean_list[i]])\n",
    "\n",
    "usecsv.writecsv('Eng_Kor.csv',total)\n",
    "    \n",
    "# usecsv.writecsv('Korean_English.csv',total)\n",
    "            "
   ]
  },
  {
   "cell_type": "markdown",
   "metadata": {},
   "source": [
    "> 연습문제\n"
   ]
  },
  {
   "cell_type": "code",
   "execution_count": 4,
   "metadata": {},
   "outputs": [],
   "source": [
    "import os\n",
    "os.chdir(r'C:\\Users\\고창섭\\Desktop\\python')"
   ]
  },
  {
   "cell_type": "code",
   "execution_count": null,
   "metadata": {},
   "outputs": [],
   "source": [
    "a=[['컴퓨터','노트북','테블릿'],[100,80,60]]\n",
    "#CSV형 리스트로 변화 시키려면 [[]]"
   ]
  },
  {
   "cell_type": "code",
   "execution_count": null,
   "metadata": {},
   "outputs": [
    {
     "data": {
      "text/plain": [
       "['종로구', 151767, 11093, 27394]"
      ]
     },
     "execution_count": 21,
     "metadata": {},
     "output_type": "execute_result"
    }
   ],
   "source": [
    "# csv형 리스트로 활용하려고 total의 원소 중 문자형으로 저장된 숫자를 정수형으로 바꾸려고 합니다.\n",
    "total = ['종로구','151,767','11,093','27,394']\n",
    "for i in total:\n",
    "    if re.search(',',i):\n",
    "        total[total.index(i)]=int(re.sub(',','',i))\n",
    "total"
   ]
  },
  {
   "cell_type": "code",
   "execution_count": 5,
   "metadata": {},
   "outputs": [
    {
     "name": "stdout",
     "output_type": "stream",
     "text": [
      "종로구\n"
     ]
    }
   ],
   "source": [
    "pop= [['종로구',151767],['광진구',350000]]\n",
    "for i in pop:\n",
    "    if i[1]  < 300000 :\n",
    "        print(i[0])\n"
   ]
  },
  {
   "cell_type": "markdown",
   "metadata": {},
   "source": [
    "##### CSV파일 데이터 분석하기\n",
    "- 최소한 두개 이상의 반복문을 사용해야한다. 그래서 파이썬의 연산과정을 더 명확하게 이해할 수 있다.\n",
    "- 파이썬 리스트기능을 사용할 수 있다. : 인덱스, 슬라이싱, 원소꺼내기\n"
   ]
  },
  {
   "cell_type": "markdown",
   "metadata": {},
   "source": [
    "> 외국인 비중이 3%가 넘는 구 정보만 CSV파일로 저장하기"
   ]
  },
  {
   "cell_type": "code",
   "execution_count": 38,
   "metadata": {},
   "outputs": [
    {
     "name": "stdout",
     "output_type": "stream",
     "text": [
      "[['구 ', ' 계   ', ' 한국인  ', ' 등록외국인  ', ' 고령자  '], ['종로구', 152212.0, 141060.0, 11152.0, 28265.0], ['중구', 131390.0, 120963.0, 10427.0, 25353.0], ['용산구', 232482.0, 217756.0, 14726.0, 39478.0], ['성동구', 287240.0, 280240.0, 7000.0, 48238.0]]\n"
     ]
    }
   ],
   "source": [
    "# CSV형 리스트로 바꾸기\n",
    "import os, re, usecsv\n",
    "total = usecsv.opencsv('popSeoul2023.csv')\n",
    "newPop = usecsv.switch(total)\n",
    "print(newPop[:5])"
   ]
  },
  {
   "cell_type": "code",
   "execution_count": 40,
   "metadata": {},
   "outputs": [
    {
     "data": {
      "text/plain": [
       "['종로구', 152212.0, 141060.0, 11152.0, 28265.0]"
      ]
     },
     "execution_count": 40,
     "metadata": {},
     "output_type": "execute_result"
    }
   ],
   "source": [
    "# 등록외국인 비율을 계산해 보자\n",
    "i = newPop[1]\n",
    "i"
   ]
  },
  {
   "cell_type": "code",
   "execution_count": 42,
   "metadata": {},
   "outputs": [
    {
     "data": {
      "text/plain": [
       "7.3"
      ]
     },
     "execution_count": 42,
     "metadata": {},
     "output_type": "execute_result"
    }
   ],
   "source": [
    "#전체 인구 대비 외국인 비율을 구한다.\n",
    "round((i[3]/i[1])*100,1)"
   ]
  },
  {
   "cell_type": "code",
   "execution_count": 43,
   "metadata": {},
   "outputs": [
    {
     "name": "stdout",
     "output_type": "stream",
     "text": [
      "종로구 7.3\n",
      "중구 7.9\n",
      "용산구 6.3\n",
      "성동구 2.4\n",
      "광진구 4.0\n",
      "동대문구 4.9\n",
      "중랑구 1.3\n",
      "성북구 2.7\n",
      "강북구 1.4\n",
      "도봉구 0.8\n",
      "노원구 0.9\n",
      "은평구 0.8\n",
      "서대문구 4.2\n",
      "마포구 2.9\n",
      "양천구 0.7\n",
      "강서구 0.9\n",
      "구로구 5.5\n",
      "금천구 5.4\n",
      "영등포구 5.6\n",
      "동작구 2.6\n",
      "관악구 2.9\n",
      "서초구 1.0\n",
      "강남구 0.9\n",
      "송파구 0.9\n",
      "강동구 0.9\n"
     ]
    }
   ],
   "source": [
    "# 각 구의 외국인 비율을 구해보자\n",
    "for i in newPop:\n",
    "    foreign=0  #한번 반복하고 나서 다시 지정해야 한다\n",
    "    try:\n",
    "        foreign = round((i[3]/i[1])*100,1)\n",
    "        print(i[0],foreign)\n",
    "    except:\n",
    "        pass"
   ]
  },
  {
   "cell_type": "code",
   "execution_count": 48,
   "metadata": {},
   "outputs": [
    {
     "data": {
      "text/plain": [
       "[['구', '한국인', '외국인', '외국인비육(%)'], ['강동구', 464027.0, 459982.0, 0.9]]"
      ]
     },
     "execution_count": 48,
     "metadata": {},
     "output_type": "execute_result"
    }
   ],
   "source": [
    "# 첫행 지정하기\n",
    "new = [['구','한국인','외국인','외국인비율(%)']]\n",
    "# 첫행을 지정 했으니 다음행 부터는 계산한 값을 넣어주기만 하면 된다. 리스트에서 원소를 하나씩 추가 하는 명령어는 append()입니ㅏㄷ.\n",
    "i\n",
    "#i에는 newPop두번째 리스트가 저장되어 있습니다.\n",
    "new.append([i[0],i[1],i[2],foreign])\n",
    "new"
   ]
  },
  {
   "cell_type": "code",
   "execution_count": 50,
   "metadata": {},
   "outputs": [
    {
     "name": "stdout",
     "output_type": "stream",
     "text": [
      "['종로구', 152212.0, 141060.0, 7.3]\n",
      "['중구', 131390.0, 120963.0, 7.9]\n",
      "['용산구', 232482.0, 217756.0, 6.3]\n",
      "['광진구', 350925.0, 336801.0, 4.0]\n",
      "['동대문구', 354884.0, 337574.0, 4.9]\n",
      "['서대문구', 321966.0, 308437.0, 4.2]\n",
      "['구로구', 417983.0, 395183.0, 5.5]\n",
      "['금천구', 242467.0, 229307.0, 5.4]\n",
      "['영등포구', 398999.0, 376614.0, 5.6]\n"
     ]
    }
   ],
   "source": [
    "# 외국인 비율이 3%초과할 때 만 출력해 보기\n",
    "import re\n",
    "for i in newPop:\n",
    "    foreign = 0\n",
    "    try:\n",
    "        foreign = round((i[3]/i[1])*100,1)\n",
    "        if foreign > 3:\n",
    "            print([i[0],i[1],i[2],foreign])\n",
    "    except:\n",
    "        pass"
   ]
  },
  {
   "cell_type": "code",
   "execution_count": 52,
   "metadata": {},
   "outputs": [
    {
     "data": {
      "text/plain": [
       "[['구', '한국인', '외국인', '외국인비율(%)'],\n",
       " ['종로구', 152212.0, 141060.0, 7.3],\n",
       " ['중구', 131390.0, 120963.0, 7.9],\n",
       " ['용산구', 232482.0, 217756.0, 6.3],\n",
       " ['광진구', 350925.0, 336801.0, 4.0],\n",
       " ['동대문구', 354884.0, 337574.0, 4.9],\n",
       " ['서대문구', 321966.0, 308437.0, 4.2],\n",
       " ['구로구', 417983.0, 395183.0, 5.5],\n",
       " ['금천구', 242467.0, 229307.0, 5.4],\n",
       " ['영등포구', 398999.0, 376614.0, 5.6]]"
      ]
     },
     "execution_count": 52,
     "metadata": {},
     "output_type": "execute_result"
    }
   ],
   "source": [
    "new = [['구','한국인','외국인','외국인비율(%)']]\n",
    "for i in newPop:\n",
    "    foreign = 0\n",
    "    try:\n",
    "        foreign = round((i[3]/i[1])*100,1)\n",
    "        if foreign > 3:\n",
    "            new.append([i[0],i[1],i[2],foreign])\n",
    "    except:\n",
    "        pass\n",
    "new"
   ]
  },
  {
   "cell_type": "code",
   "execution_count": 57,
   "metadata": {},
   "outputs": [],
   "source": [
    "#newPop.csv파일로 저장하기\n",
    "usecsv.writecsv('newPop.csv',new)"
   ]
  }
 ],
 "metadata": {
  "kernelspec": {
   "display_name": "Python 3",
   "language": "python",
   "name": "python3"
  },
  "language_info": {
   "codemirror_mode": {
    "name": "ipython",
    "version": 3
   },
   "file_extension": ".py",
   "mimetype": "text/x-python",
   "name": "python",
   "nbconvert_exporter": "python",
   "pygments_lexer": "ipython3",
   "version": "3.12.1"
  }
 },
 "nbformat": 4,
 "nbformat_minor": 2
}
