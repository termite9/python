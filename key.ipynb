{
 "cells": [
  {
   "cell_type": "code",
   "execution_count": null,
   "metadata": {},
   "outputs": [],
   "source": [
    "import keyboard\n",
    "import winsound\n",
    "import time\n",
    "import pygame\n",
    "\n",
    "pygame.mixer.init()\n",
    "# pygame.mixer.music.load()\n",
    "# pygame.mixer.music.play()\n",
    "warning_sound = pygame.mixer.Sound(\"Ring01.wav\")\n",
    "\n",
    "\n",
    "def on_key_event(q):\n",
    "    if q.event_type == keyboard.KEY_DOWN and q.name == 'q':\n",
    "        # if w.event_type == keyboard.KEY_DOWN and w.name == 'w':\n",
    "        \n",
    "        print(\"키보드 아스키 코드 113(q)가 눌렸습니다.\")\n",
    "        # 여기에 원하는 동작을 추가하세요.\n",
    "        warning_sound.play()\n",
    "    \n",
    "\n",
    "keyboard.hook(on_key_event)\n",
    "\n",
    "# 프로그램이 종료되기 전까지 실행되도록 유지\n",
    "keyboard.wait('esc')"
   ]
  },
  {
   "cell_type": "code",
   "execution_count": null,
   "metadata": {},
   "outputs": [],
   "source": [
    "import keyboard\n",
    "import winsound\n",
    "import time\n",
    "import pygame\n",
    "\n",
    "pygame.mixer.init()\n",
    "# pygame.mixer.music.load()\n",
    "# pygame.mixer.music.play()\n",
    "warning_sound = pygame.mixer.Sound(\"Ring01.wav\")\n",
    "\n",
    "\n",
    "def on_key_event(e):\n",
    "    if e.event_type == keyboard.KEY_DOWN and e.name == 'q'or e.name == 'w':\n",
    "        # if e.event_type == keyboard.KEY_DOWN and e.name == 'q':\n",
    "\n",
    "        print(\"키보드 아스키 코드 113(q)가 눌렸습니다.\")\n",
    "        # 여기에 원하는 동작을 추가하세요.\n",
    "        warning_sound.play()\n",
    "\n",
    "\n",
    "keyboard.hook(on_key_event)\n",
    "\n",
    "# 프로그램이 종료되기 전까지 실행되도록 유지\n",
    "keyboard.wait('esc')\n"
   ]
  },
  {
   "cell_type": "code",
   "execution_count": null,
   "metadata": {},
   "outputs": [],
   "source": []
  },
  {
   "cell_type": "code",
   "execution_count": null,
   "metadata": {},
   "outputs": [],
   "source": []
  },
  {
   "cell_type": "code",
   "execution_count": null,
   "metadata": {},
   "outputs": [],
   "source": []
  },
  {
   "cell_type": "code",
   "execution_count": null,
   "metadata": {},
   "outputs": [],
   "source": []
  },
  {
   "cell_type": "code",
   "execution_count": null,
   "metadata": {},
   "outputs": [],
   "source": []
  },
  {
   "cell_type": "code",
   "execution_count": null,
   "metadata": {},
   "outputs": [],
   "source": []
  },
  {
   "cell_type": "code",
   "execution_count": null,
   "metadata": {},
   "outputs": [],
   "source": []
  },
  {
   "cell_type": "code",
   "execution_count": null,
   "metadata": {},
   "outputs": [],
   "source": []
  },
  {
   "cell_type": "code",
   "execution_count": null,
   "metadata": {},
   "outputs": [],
   "source": []
  },
  {
   "cell_type": "code",
   "execution_count": null,
   "metadata": {},
   "outputs": [],
   "source": []
  },
  {
   "cell_type": "code",
   "execution_count": null,
   "metadata": {},
   "outputs": [],
   "source": []
  },
  {
   "cell_type": "code",
   "execution_count": null,
   "metadata": {},
   "outputs": [],
   "source": []
  },
  {
   "cell_type": "code",
   "execution_count": null,
   "metadata": {},
   "outputs": [],
   "source": []
  },
  {
   "cell_type": "code",
   "execution_count": null,
   "metadata": {},
   "outputs": [],
   "source": []
  },
  {
   "cell_type": "code",
   "execution_count": null,
   "metadata": {},
   "outputs": [],
   "source": []
  },
  {
   "cell_type": "code",
   "execution_count": null,
   "metadata": {},
   "outputs": [],
   "source": []
  },
  {
   "cell_type": "code",
   "execution_count": null,
   "metadata": {},
   "outputs": [],
   "source": []
  },
  {
   "cell_type": "code",
   "execution_count": null,
   "metadata": {},
   "outputs": [],
   "source": [
    "import keyboard\n",
    "import winsound\n",
    "import time\n",
    "import pygame\n",
    "\n",
    "pygame.mixer.init()\n",
    "# pygame.mixer.music.load()\n",
    "# pygame.mixer.music.play()\n",
    "warning_sound = pygame.mixer.Sound(\"Ring01.wav\")\n",
    "        # warning_sound.play()\n",
    "\n",
    "\n",
    "\n",
    "key_sequence = []\n",
    "allowed_keys = {'ㅂ', 'ㅈ', 'ㄷ', 'ㄱ', 'ㅅ', 'ㅁ', 'ㄴ', 'ㅇ', 'ㄹ', 'ㅎ', 'ㅋ', 'ㅌ', 'ㅊ', 'ㅍ'}\n",
    "\n",
    "def on_key_event(e):\n",
    "    global key_sequence\n",
    "\n",
    "    if e.event_type == keyboard.KEY_DOWN:\n",
    "        key = e.name\n",
    "        if key in allowed_keys:\n",
    "            key_sequence.append(key)\n",
    "            if len(key_sequence) >= 2 and key_sequence[-1] != key_sequence[-2]:\n",
    "                check_combination()\n",
    "\n",
    "    elif e.event_type == keyboard.KEY_UP:\n",
    "        key = e.name\n",
    "        if key in key_sequence:\n",
    "            key_sequence.remove(key)\n",
    "\n",
    "def check_combination():\n",
    "    global key_sequence\n",
    "\n",
    "    if all(key in allowed_keys for key in key_sequence):\n",
    "        print(f\"연속해서 {key_sequence}가 눌렸습니다.\")\n",
    "        warning_sound.play()\n",
    "        # 여기에 원하는 동작을 추가하세요.\n",
    "        key_sequence = []  # 리스트 초기화\n",
    "\n",
    "keyboard.hook(on_key_event)\n",
    "\n",
    "# 프로그램이 종료되기 전까지 실행되도록 유지\n",
    "keyboard.wait('esc')"
   ]
  },
  {
   "cell_type": "code",
   "execution_count": 3,
   "metadata": {},
   "outputs": [
    {
     "name": "stdout",
     "output_type": "stream",
     "text": [
      "연속해서 ['q', 'q', 'q', 'w']가 눌렸습니다.\n",
      "연속해서 ['a', 'a', 'a', 't']가 눌렸습니다.\n",
      "연속해서 ['a', 'a', 'a', 't']가 눌렸습니다.\n",
      "연속해서 ['a', 'a', 'a', 't']가 눌렸습니다.\n",
      "연속해서 ['a', 'a', 'a', 't']가 눌렸습니다.\n",
      "연속해서 ['a', 'a', 'a', 't']가 눌렸습니다.\n",
      "연속해서 ['a', 'a', 'a', 't']가 눌렸습니다.\n"
     ]
    }
   ],
   "source": [
    "import keyboard\n",
    "import winsound\n",
    "import time\n",
    "import pygame\n",
    "\n",
    "pygame.mixer.init()\n",
    "# pygame.mixer.music.load()\n",
    "# pygame.mixer.music.play()\n",
    "warning_sound = pygame.mixer.Sound(\"Ring01.wav\")\n",
    "        # warning_sound.play()\n",
    "\n",
    "\n",
    "\n",
    "key_sequence = []\n",
    "allowed_keys = {'q', 'w', 'e', 'r', 't', 'a', 's', 'd', 'f', 'g', 'z', 'x', 'c', 'v'}\n",
    "\n",
    "def on_key_event(e):\n",
    "    global key_sequence\n",
    "\n",
    "    if e.event_type == keyboard.KEY_DOWN:\n",
    "        key = e.name\n",
    "        if key in allowed_keys:\n",
    "            key_sequence.append(key)\n",
    "            if len(key_sequence) >= 2 and key_sequence[-1] != key_sequence[-2]:\n",
    "                check_combination()\n",
    "\n",
    "    elif e.event_type == keyboard.KEY_UP:\n",
    "        key = e.name\n",
    "        if key in key_sequence:\n",
    "            key_sequence.remove(key)\n",
    "\n",
    "def check_combination():\n",
    "    global key_sequence\n",
    "\n",
    "    if all(key in allowed_keys for key in key_sequence):\n",
    "        print(f\"연속해서 {key_sequence}가 눌렸습니다.\")\n",
    "        warning_sound.play()\n",
    "        # 여기에 원하는 동작을 추가하세요.\n",
    "        key_sequence = []  # 리스트 초기화\n",
    "\n",
    "keyboard.hook(on_key_event)\n",
    "\n",
    "# 프로그램이 종료되기 전까지 실행되도록 유지\n",
    "keyboard.wait('esc')"
   ]
  },
  {
   "cell_type": "code",
   "execution_count": 1,
   "metadata": {},
   "outputs": [
    {
     "ename": "KeyboardInterrupt",
     "evalue": "",
     "output_type": "error",
     "traceback": [
      "\u001b[1;31m---------------------------------------------------------------------------\u001b[0m",
      "\u001b[1;31mKeyboardInterrupt\u001b[0m                         Traceback (most recent call last)",
      "Cell \u001b[1;32mIn[1], line 28\u001b[0m\n\u001b[0;32m     25\u001b[0m keyboard\u001b[38;5;241m.\u001b[39mhook(on_key_event)\n\u001b[0;32m     27\u001b[0m \u001b[38;5;66;03m# 프로그램이 종료될 때까지 대기\u001b[39;00m\n\u001b[1;32m---> 28\u001b[0m \u001b[43mkeyboard\u001b[49m\u001b[38;5;241;43m.\u001b[39;49m\u001b[43mwait\u001b[49m\u001b[43m(\u001b[49m\u001b[38;5;124;43m'\u001b[39;49m\u001b[38;5;124;43mesc\u001b[39;49m\u001b[38;5;124;43m'\u001b[39;49m\u001b[43m)\u001b[49m\n",
      "File \u001b[1;32mc:\\Users\\고창섭\\AppData\\Local\\Programs\\Python\\Python312\\Lib\\site-packages\\keyboard\\__init__.py:882\u001b[0m, in \u001b[0;36mwait\u001b[1;34m(hotkey, suppress, trigger_on_release)\u001b[0m\n\u001b[0;32m    880\u001b[0m     lock \u001b[38;5;241m=\u001b[39m _Event()\n\u001b[0;32m    881\u001b[0m     remove \u001b[38;5;241m=\u001b[39m add_hotkey(hotkey, \u001b[38;5;28;01mlambda\u001b[39;00m: lock\u001b[38;5;241m.\u001b[39mset(), suppress\u001b[38;5;241m=\u001b[39msuppress, trigger_on_release\u001b[38;5;241m=\u001b[39mtrigger_on_release)\n\u001b[1;32m--> 882\u001b[0m     \u001b[43mlock\u001b[49m\u001b[38;5;241;43m.\u001b[39;49m\u001b[43mwait\u001b[49m\u001b[43m(\u001b[49m\u001b[43m)\u001b[49m\n\u001b[0;32m    883\u001b[0m     remove_hotkey(remove)\n\u001b[0;32m    884\u001b[0m \u001b[38;5;28;01melse\u001b[39;00m:\n",
      "File \u001b[1;32mc:\\Users\\고창섭\\AppData\\Local\\Programs\\Python\\Python312\\Lib\\site-packages\\keyboard\\__init__.py:117\u001b[0m, in \u001b[0;36m_Event.wait\u001b[1;34m(self)\u001b[0m\n\u001b[0;32m    115\u001b[0m \u001b[38;5;28;01mdef\u001b[39;00m \u001b[38;5;21mwait\u001b[39m(\u001b[38;5;28mself\u001b[39m):\n\u001b[0;32m    116\u001b[0m     \u001b[38;5;28;01mwhile\u001b[39;00m \u001b[38;5;28;01mTrue\u001b[39;00m:\n\u001b[1;32m--> 117\u001b[0m         \u001b[38;5;28;01mif\u001b[39;00m \u001b[43m_UninterruptibleEvent\u001b[49m\u001b[38;5;241;43m.\u001b[39;49m\u001b[43mwait\u001b[49m\u001b[43m(\u001b[49m\u001b[38;5;28;43mself\u001b[39;49m\u001b[43m,\u001b[49m\u001b[43m \u001b[49m\u001b[38;5;241;43m0.5\u001b[39;49m\u001b[43m)\u001b[49m:\n\u001b[0;32m    118\u001b[0m             \u001b[38;5;28;01mbreak\u001b[39;00m\n",
      "File \u001b[1;32mc:\\Users\\고창섭\\AppData\\Local\\Programs\\Python\\Python312\\Lib\\threading.py:655\u001b[0m, in \u001b[0;36mEvent.wait\u001b[1;34m(self, timeout)\u001b[0m\n\u001b[0;32m    653\u001b[0m signaled \u001b[38;5;241m=\u001b[39m \u001b[38;5;28mself\u001b[39m\u001b[38;5;241m.\u001b[39m_flag\n\u001b[0;32m    654\u001b[0m \u001b[38;5;28;01mif\u001b[39;00m \u001b[38;5;129;01mnot\u001b[39;00m signaled:\n\u001b[1;32m--> 655\u001b[0m     signaled \u001b[38;5;241m=\u001b[39m \u001b[38;5;28;43mself\u001b[39;49m\u001b[38;5;241;43m.\u001b[39;49m\u001b[43m_cond\u001b[49m\u001b[38;5;241;43m.\u001b[39;49m\u001b[43mwait\u001b[49m\u001b[43m(\u001b[49m\u001b[43mtimeout\u001b[49m\u001b[43m)\u001b[49m\n\u001b[0;32m    656\u001b[0m \u001b[38;5;28;01mreturn\u001b[39;00m signaled\n",
      "File \u001b[1;32mc:\\Users\\고창섭\\AppData\\Local\\Programs\\Python\\Python312\\Lib\\threading.py:359\u001b[0m, in \u001b[0;36mCondition.wait\u001b[1;34m(self, timeout)\u001b[0m\n\u001b[0;32m    357\u001b[0m \u001b[38;5;28;01melse\u001b[39;00m:\n\u001b[0;32m    358\u001b[0m     \u001b[38;5;28;01mif\u001b[39;00m timeout \u001b[38;5;241m>\u001b[39m \u001b[38;5;241m0\u001b[39m:\n\u001b[1;32m--> 359\u001b[0m         gotit \u001b[38;5;241m=\u001b[39m \u001b[43mwaiter\u001b[49m\u001b[38;5;241;43m.\u001b[39;49m\u001b[43macquire\u001b[49m\u001b[43m(\u001b[49m\u001b[38;5;28;43;01mTrue\u001b[39;49;00m\u001b[43m,\u001b[49m\u001b[43m \u001b[49m\u001b[43mtimeout\u001b[49m\u001b[43m)\u001b[49m\n\u001b[0;32m    360\u001b[0m     \u001b[38;5;28;01melse\u001b[39;00m:\n\u001b[0;32m    361\u001b[0m         gotit \u001b[38;5;241m=\u001b[39m waiter\u001b[38;5;241m.\u001b[39macquire(\u001b[38;5;28;01mFalse\u001b[39;00m)\n",
      "\u001b[1;31mKeyboardInterrupt\u001b[0m: "
     ]
    }
   ],
   "source": [
    "import keyboard\n",
    "import sounddevice as sd\n",
    "import numpy as np\n",
    "\n",
    "# 알림음 생성 함수\n",
    "def play_notification_sound():\n",
    "    fs = 44100  # 샘플링 속도\n",
    "    duration = 0.1  # 알림음 지속 시간 (초)\n",
    "    frequency = 1000  # 알림음 주파수 (Hz)\n",
    "\n",
    "    t = np.linspace(0, duration, int(fs * duration), False)\n",
    "    signal = 0.3 * np.sin(2 * np.pi * frequency * t)\n",
    "\n",
    "    sd.play(signal, fs)\n",
    "    sd.wait()\n",
    "\n",
    "# 키보드 이벤트 핸들러 함수\n",
    "def on_key_event(e):\n",
    "    if e.event_type == keyboard.KEY_DOWN:\n",
    "        if e.name == '한영':  # 한/영 키를 눌렀을 때\n",
    "            print(\"한/영 키 눌림\")\n",
    "            play_notification_sound()\n",
    "\n",
    "# 키보드 이벤트 리스너 등록\n",
    "keyboard.hook(on_key_event)\n",
    "\n",
    "# 프로그램이 종료될 때까지 대기\n",
    "keyboard.wait('esc')\n"
   ]
  }
 ],
 "metadata": {
  "kernelspec": {
   "display_name": "Python 3",
   "language": "python",
   "name": "python3"
  },
  "language_info": {
   "codemirror_mode": {
    "name": "ipython",
    "version": 3
   },
   "file_extension": ".py",
   "mimetype": "text/x-python",
   "name": "python",
   "nbconvert_exporter": "python",
   "pygments_lexer": "ipython3",
   "version": "3.12.1"
  }
 },
 "nbformat": 4,
 "nbformat_minor": 2
}
